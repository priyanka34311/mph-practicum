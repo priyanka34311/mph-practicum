{
 "cells": [
  {
   "cell_type": "code",
   "execution_count": null,
   "id": "25e4c682-f5c9-4466-92ed-77de23436102",
   "metadata": {},
   "outputs": [],
   "source": [
    "# Set up environment\n",
    "\n",
    "from IPython.core.interactiveshell import InteractiveShell\n",
    "InteractiveShell.ast_node_interactivity = \"all\"\n",
    "\n",
    "import pandas as pd\n",
    "import numpy as np\n",
    "import seaborn as sns"
   ]
  },
  {
   "cell_type": "code",
   "execution_count": null,
   "id": "c97027ed-74cf-4bc7-901d-fb67d0cf6839",
   "metadata": {},
   "outputs": [],
   "source": [
    "# Read in data\n",
    "\n",
    "df1 = pd.read_csv('student-inperson-pretrain.csv')\n",
    "df2 = pd.read_csv('staff-inperson-pretrain.csv')\n",
    "df3 = pd.read_csv('student-virtual-pretrain.csv')\n",
    "df4 = pd.read_csv('staff-virtual-pretrain.csv')"
   ]
  },
  {
   "cell_type": "code",
   "execution_count": null,
   "id": "da652796-d2a2-4c2a-85da-718d1a875f94",
   "metadata": {
    "tags": []
   },
   "outputs": [],
   "source": [
    "# Check to make sure data was loaded correctly\n",
    "\n",
    "df1.shape; df2.shape; df3.shape; df4.shape\n",
    "386+77+148+158"
   ]
  },
  {
   "cell_type": "code",
   "execution_count": null,
   "id": "7bb5266a-ea47-49b0-ba4b-501049ff95e6",
   "metadata": {},
   "outputs": [],
   "source": [
    "# Add 'Status' variables to in-person data based on dataset they're in:\n",
    "# Classification corresponds to the folder of the dataset\n",
    "\n",
    "df1.insert(7,'Status',1)\n",
    "df2.insert(7,'Status',2)\n"
   ]
  },
  {
   "cell_type": "code",
   "execution_count": null,
   "id": "9ad7b0bc-f084-40b4-ab37-420168c123e7",
   "metadata": {},
   "outputs": [],
   "source": [
    "# Drop columns in staff-virtual that aren't in another dataset (i.e. Q46 and Q1)\n",
    "\n",
    "cols = df4.columns.values\n",
    "drop_col_lst = [7,8,9,10,11,12]\n",
    "\n",
    "for i in drop_col_lst:\n",
    "    df4 = df4.drop(cols[i],axis=1)\n"
   ]
  },
  {
   "cell_type": "code",
   "execution_count": null,
   "id": "e1a5f834-4a7c-4172-9fc8-1070bb1fefcd",
   "metadata": {},
   "outputs": [],
   "source": [
    "df4.shape"
   ]
  },
  {
   "cell_type": "code",
   "execution_count": null,
   "id": "4fe03bd6-2f5f-4c95-97bf-01962df5cb24",
   "metadata": {},
   "outputs": [],
   "source": [
    "# Add 'Status' variables to virtual data based on dataset they're in:\n",
    "# Classification corresponds to the folder of the dataset\n",
    "\n",
    "df3.insert(7,'Status',1)\n",
    "df4.insert(7,'Status',2)"
   ]
  },
  {
   "cell_type": "code",
   "execution_count": null,
   "id": "654d82d2-8ba3-4c20-882b-056457da56b0",
   "metadata": {},
   "outputs": [],
   "source": [
    "df3.shape;df4.shape"
   ]
  },
  {
   "cell_type": "code",
   "execution_count": null,
   "id": "f3097efe-f0eb-4529-bfff-ca0e65c3f83e",
   "metadata": {},
   "outputs": [],
   "source": [
    "# Find remaining variables to add to virtual datasets; The reason why\n",
    "# the in-person datasets have all variables is because they include\n",
    "# both pre-modified and modified survey_types\n",
    "\n",
    "all_cols = df1.columns.values\n",
    "need_to_add = np.setdiff1d(df1.columns.values,df3.columns.values)\n",
    "print(need_to_add)"
   ]
  },
  {
   "cell_type": "code",
   "execution_count": null,
   "id": "4498cd43-ecf8-400b-9d9b-fe30db11397e",
   "metadata": {},
   "outputs": [],
   "source": [
    "# locations where these variables/columns should be added to match with df1&df2\n",
    "for i  in list(range(12)):\n",
    "    print(df1.columns.get_loc(need_to_add[i]))"
   ]
  },
  {
   "cell_type": "code",
   "execution_count": null,
   "id": "3a4258a6-ae52-4cae-83fb-40efcbb813db",
   "metadata": {},
   "outputs": [],
   "source": [
    "# Add variables/columns to df3 and df4\n",
    "\n",
    "index_to_add = [94,95,116,119,120,121,122,128,130,131,132,134]\n",
    "for j in list(range(12)):\n",
    "    df3.insert(index_to_add[j],need_to_add[j],np.nan)\n",
    "    df4.insert(index_to_add[j],need_to_add[j],np.nan)\n"
   ]
  },
  {
   "cell_type": "code",
   "execution_count": null,
   "id": "6874ce2f-6dde-4390-9e8e-a68a8478c7ef",
   "metadata": {},
   "outputs": [],
   "source": [
    "# check to make sure everything makes sense (dimensions)\n",
    "df1.shape; df2.shape; df3.shape; df4.shape"
   ]
  },
  {
   "cell_type": "code",
   "execution_count": null,
   "id": "1b50c480-bedc-446d-939b-21899cd41ea1",
   "metadata": {},
   "outputs": [],
   "source": [
    "# Now that the column dimensions are the same across the four datasets,\n",
    "# we can concatenate them vertically to create one dataset for pretraining\n",
    "\n",
    "pretraining = pd.concat([df1,df2,df3,df4],ignore_index=True)\n",
    "print(pretraining.shape)"
   ]
  },
  {
   "cell_type": "code",
   "execution_count": null,
   "id": "b0ce166b-076d-4442-a60f-955eb1cda870",
   "metadata": {},
   "outputs": [],
   "source": [
    "#Change order of columns and re-label the \"role @ CU\" items\n",
    "\n",
    "extref = pretraining['ExternalReference']\n",
    "pretraining.drop(labels=['ExternalReference'],axis=1,inplace=True)\n",
    "pretraining.insert(0,'ExternalReference',extref)\n",
    "\n",
    "status = pretraining['Status']\n",
    "pretraining.drop(labels=['Status'],axis=1,inplace=True)\n",
    "pretraining.insert(1,'Status',status)\n",
    "\n",
    "Q2_1 = pretraining['Q2_1']\n",
    "pretraining.drop(labels=['Q2_1'],axis=1,inplace=True)\n",
    "pretraining.insert(2,'Student',Q2_1)\n",
    "\n",
    "Q2_2 = pretraining['Q2_2']\n",
    "pretraining.drop(labels=['Q2_2'],axis=1,inplace=True)\n",
    "pretraining.insert(3,'Staff',Q2_2)\n",
    "\n",
    "Q2_3 = pretraining['Q2_3']\n",
    "pretraining.drop(labels=['Q2_3'],axis=1,inplace=True)\n",
    "pretraining.insert(4,'Faculty',Q2_3)\n",
    "\n",
    "print(pretraining.columns.values)\n"
   ]
  },
  {
   "cell_type": "code",
   "execution_count": null,
   "id": "c231504f-33ae-4de3-a80f-a66dedfe2ad6",
   "metadata": {},
   "outputs": [],
   "source": [
    "pretraining.shape"
   ]
  },
  {
   "cell_type": "code",
   "execution_count": null,
   "id": "87deb6e6-70e4-40b0-9036-63521c77d44e",
   "metadata": {},
   "outputs": [],
   "source": [
    "# Export the dataset for cleaning\n",
    "export_path = 'pre-training.csv'\n",
    "pretraining.to_csv(export_path,index=False)"
   ]
  },
  {
   "cell_type": "code",
   "execution_count": null,
   "id": "c82721b4-fe33-44dd-a3c1-6c487fcd5cfc",
   "metadata": {},
   "outputs": [],
   "source": [
    "# Retrieve ExternalReference of 16 year old participant. Will need to drop this participant as\n",
    "# they violate the inclusion criteria for the study\n",
    "\n",
    "pretraining.loc[pretraining['Q11']==16,'ExternalReference']"
   ]
  },
  {
   "cell_type": "code",
   "execution_count": null,
   "id": "3b425ba5-d6cb-43de-b599-1891def0ee57",
   "metadata": {
    "tags": []
   },
   "outputs": [],
   "source": []
  }
 ],
 "metadata": {
  "kernelspec": {
   "display_name": "Python 3",
   "language": "python",
   "name": "python3"
  },
  "language_info": {
   "codemirror_mode": {
    "name": "ipython",
    "version": 3
   },
   "file_extension": ".py",
   "mimetype": "text/x-python",
   "name": "python",
   "nbconvert_exporter": "python",
   "pygments_lexer": "ipython3",
   "version": "3.8.8"
  }
 },
 "nbformat": 4,
 "nbformat_minor": 5
}
