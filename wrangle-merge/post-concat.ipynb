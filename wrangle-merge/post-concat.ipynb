{
 "cells": [
  {
   "cell_type": "code",
   "execution_count": null,
   "id": "d9a0cb6a-1319-4010-9d61-df1119402002",
   "metadata": {},
   "outputs": [],
   "source": [
    "# Set up environment\n",
    "\n",
    "from IPython.core.interactiveshell import InteractiveShell\n",
    "InteractiveShell.ast_node_interactivity = \"all\"\n",
    "\n",
    "import pandas as pd\n",
    "import numpy as np\n",
    "import seaborn as sns"
   ]
  },
  {
   "cell_type": "code",
   "execution_count": null,
   "id": "a66b46d3-0897-4ade-b141-8d2fb2c0afab",
   "metadata": {},
   "outputs": [],
   "source": [
    "# Read in data\n",
    "\n",
    "df1 = pd.read_csv('student-inperson-posttrain.csv')\n",
    "df2 = pd.read_csv('student-virtual-posttrain.csv')\n",
    "df3 = pd.read_csv('staff-posttraining-premod-all.csv')\n",
    "df4 = pd.read_csv('staff-posttraining-mod-all.csv')"
   ]
  },
  {
   "cell_type": "code",
   "execution_count": null,
   "id": "b6506097-4ff6-43f8-954b-0821d4739c0c",
   "metadata": {
    "tags": []
   },
   "outputs": [],
   "source": [
    "# check to make sure data was loaded in correctly\n",
    "\n",
    "df1.shape; df2.shape; df3.shape; df4.shape\n",
    "\n",
    "N = df1.shape[0]+df2.shape[0]+df3.shape[0]+df4.shape[0]"
   ]
  },
  {
   "cell_type": "code",
   "execution_count": null,
   "id": "c3a3ffa6-b139-476c-81a2-d639041f78fb",
   "metadata": {},
   "outputs": [],
   "source": [
    "# It looks like only staff-posttraining-premod-all took the pre-modified\n",
    "# survey. We need to add in the variables/columns removed in the \n",
    "# modified survey back to the other 'modified' datasets\n",
    "\n",
    "# Find remaining variables to add to other datasets \n",
    "add_to_mod = np.setdiff1d(df3.columns.values,df4.columns.values)\n",
    "add_to_mod\n",
    "\n"
   ]
  },
  {
   "cell_type": "code",
   "execution_count": null,
   "id": "a80fd1ce-261f-4c88-a610-64d7c912f14b",
   "metadata": {},
   "outputs": [],
   "source": [
    "# Get the index locations of the variables that need to be added\n",
    "\n",
    "for i in list(range(13)):\n",
    "    print(df3.columns.get_loc(add_to_mod[i]))\n"
   ]
  },
  {
   "cell_type": "code",
   "execution_count": null,
   "id": "da80631b-c820-47b5-b32e-b750acf246d1",
   "metadata": {
    "tags": []
   },
   "outputs": [],
   "source": [
    "# Re-arranged the indices and the column names in order\n",
    "index_to_add = [34,56,59,60,61,62,63,64,69,71,72,73,75]\n",
    "addmod = ['Q9_2','Q11_8','Q12_1','Q12_2','Q12_3','Q13_1','Q13_2','Q13_3','Q14_2','Q14_4','Q14_5','Q14_6','Q14_8']"
   ]
  },
  {
   "cell_type": "code",
   "execution_count": null,
   "id": "fd894df0-d0c1-4ee8-a859-06fe1481b6d4",
   "metadata": {},
   "outputs": [],
   "source": [
    "# Add the columns/variables in the modified survey datasets\n",
    "for j in list(range(13)):\n",
    "    df1.insert(index_to_add[j],addmod[j],np.nan)\n",
    "    df2.insert(index_to_add[j],addmod[j],np.nan)\n",
    "    df4.insert(index_to_add[j],addmod[j],np.nan)"
   ]
  },
  {
   "cell_type": "code",
   "execution_count": null,
   "id": "ac0665a8-1014-44da-8153-e6e7cd1b38db",
   "metadata": {},
   "outputs": [],
   "source": [
    "# Check the dimensions now with the variables added\n",
    "print(df1.shape);print(df2.shape);print(df3.shape);print(df4.shape)"
   ]
  },
  {
   "cell_type": "code",
   "execution_count": null,
   "id": "6bbd4973-b133-4038-9a64-e8f43eecfd49",
   "metadata": {},
   "outputs": [],
   "source": [
    "# Now that the column dimensions are the same, we can concatenate\n",
    "# the datasets vertically to create one post-training dataset\n",
    "\n",
    "joinposts = pd.concat([df1,df2,df3,df4],ignore_index=True)\n",
    "joinposts.shape"
   ]
  },
  {
   "cell_type": "code",
   "execution_count": null,
   "id": "4a614ed0-f892-42f0-a943-68ca8350d621",
   "metadata": {},
   "outputs": [],
   "source": [
    "# Export data\n",
    "\n",
    "export_jp = 'post_at2weeks_all.csv'\n",
    "joinposts.to_csv(export_jp,index=False)"
   ]
  },
  {
   "cell_type": "code",
   "execution_count": null,
   "id": "c2f45e6d-a106-4c3a-9dd8-2b2ca9f4e49b",
   "metadata": {},
   "outputs": [],
   "source": []
  },
  {
   "cell_type": "code",
   "execution_count": null,
   "id": "63cba3f1-fe8f-4f3e-95db-00fd14d7fcfd",
   "metadata": {},
   "outputs": [],
   "source": []
  }
 ],
 "metadata": {
  "kernelspec": {
   "display_name": "Python 3",
   "language": "python",
   "name": "python3"
  },
  "language_info": {
   "codemirror_mode": {
    "name": "ipython",
    "version": 3
   },
   "file_extension": ".py",
   "mimetype": "text/x-python",
   "name": "python",
   "nbconvert_exporter": "python",
   "pygments_lexer": "ipython3",
   "version": "3.8.8"
  }
 },
 "nbformat": 4,
 "nbformat_minor": 5
}
