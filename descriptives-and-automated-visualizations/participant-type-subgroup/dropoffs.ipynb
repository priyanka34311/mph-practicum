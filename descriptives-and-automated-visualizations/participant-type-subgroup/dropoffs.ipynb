{
 "cells": [
  {
   "cell_type": "code",
   "execution_count": 1,
   "id": "31b5646b-a004-4933-b0f0-860954fad5ec",
   "metadata": {},
   "outputs": [],
   "source": [
    "# Set up environment\n",
    "\n",
    "from IPython.core.interactiveshell import InteractiveShell\n",
    "InteractiveShell.ast_node_interactivity = \"all\"\n",
    "\n",
    "%matplotlib inline \n",
    "from matplotlib import pyplot as plt\n",
    "import pandas as pd\n",
    "import numpy as np\n",
    "import seaborn as sns\n",
    "import pyreadstat\n",
    "import altair as alt"
   ]
  },
  {
   "cell_type": "code",
   "execution_count": 2,
   "id": "645b9725-7d69-4196-8781-32fba5ff7c2c",
   "metadata": {},
   "outputs": [
    {
     "data": {
      "text/plain": [
       "(758, 163)"
      ]
     },
     "execution_count": 2,
     "metadata": {},
     "output_type": "execute_result"
    },
    {
     "data": {
      "text/plain": [
       "(559, 82)"
      ]
     },
     "execution_count": 2,
     "metadata": {},
     "output_type": "execute_result"
    },
    {
     "data": {
      "text/plain": [
       "(439, 94)"
      ]
     },
     "execution_count": 2,
     "metadata": {},
     "output_type": "execute_result"
    }
   ],
   "source": [
    "# Read in datasets \n",
    "\n",
    "# Read in datasets \n",
    "path = '/Users/priyankareddy/Desktop/Naloxone CSV/Cleaned Data/For Analyses/60% inclusion CCA - Baseline'\n",
    "pre = pd.read_csv(path+'/pre-training.csv',na_values=[-999,'-999',-888,'-888'])\n",
    "post = pd.read_csv(path+'/post-training.csv',na_values=[-999,'-999',-888,'-888'])\n",
    "long = pd.read_csv(path+'/long-term.csv',na_values=[-999,'-999',-888,'-888'])\n",
    "\n",
    "pre.shape\n",
    "post.shape\n",
    "long.shape"
   ]
  },
  {
   "cell_type": "code",
   "execution_count": 3,
   "id": "40747b60-6be5-4832-93e8-e0185b8329f4",
   "metadata": {},
   "outputs": [],
   "source": [
    "# Insert function\n",
    "\n",
    "def copy_values(item,dataset):\n",
    "    merged = dataset\n",
    "    students = dataset.loc[dataset['Status']==1,:]\n",
    "    staff = dataset.loc[dataset['Status']==2,:]\n",
    "    merged_vc = merged[item].value_counts(normalize=True).sort_index()\n",
    "    students_vc = students[item].value_counts(normalize=True).sort_index()\n",
    "    staff_vc = staff[item].value_counts(normalize=True).sort_index()\n",
    "    merged_vc = merged_vc.reindex([1,2,3,333],fill_value=0)\n",
    "    students_vc = students_vc.reindex([1,2,3,333],fill_value=0)\n",
    "    staff_vc = staff_vc.reindex([1,2,3,333],fill_value=0)\n",
    "    s = pd.concat([staff_vc,students_vc,merged_vc])\n",
    "    num_staff = staff[item].value_counts().sum()\n",
    "    num_students = students[item].value_counts().sum()\n",
    "    num_merged = merged[item].value_counts().sum()\n",
    "    num = [num_staff,num_students,num_merged]\n",
    "    # this is where the code will change for questions with a different range\n",
    "    s1=s[1].to_list()\n",
    "    s2=s[2].to_list()\n",
    "    s3=s[3].to_list()\n",
    "    s333=s[333].to_list()\n",
    "    null = [np.nan,np.nan,np.nan]\n",
    "    data = {\"I already have a kit\":s1,\"I intend to pick up a kit at another time\":s2,\n",
    "           \"I am not interested in carrying naloxone\":s3, \"Other\":s333}\n",
    "    margin=['Staff (n='+str(num_staff)+')','Students(n='+str(num_students)+')','Merged(n='+str(num_merged)+')']\n",
    "    df = pd.DataFrame(data,index=margin)\n",
    "    #row_value = [np.nan,np.nan,np.nan,np.nan,np.nan]\n",
    "    #df = Insert_row(3, df, row_value)\n",
    "    return df"
   ]
  },
  {
   "cell_type": "code",
   "execution_count": 4,
   "id": "d758270f-9dba-435f-98cf-e38b83aa65e4",
   "metadata": {},
   "outputs": [],
   "source": [
    "#x1 = \"Q26\"\n",
    "x2 = \"Q6\"\n",
    "x3 = \"Q16\"\n",
    "#df1 = copy_values(x1,pre)\n",
    "df2 = copy_values(x2,post)\n",
    "df3 = copy_values(x3,long)\n",
    "\n",
    "df = pd.concat([df3,df2])\n",
    "file = \"drop-offs-reasons.csv\"\n",
    "df.to_csv(file)"
   ]
  },
  {
   "cell_type": "code",
   "execution_count": 5,
   "id": "20363321-fde1-4e47-a10c-84ea6b9bfddd",
   "metadata": {},
   "outputs": [
    {
     "data": {
      "text/plain": [
       "333.0    0.428571\n",
       "2.0      0.428571\n",
       "3.0      0.142857\n",
       "Name: Q6, dtype: float64"
      ]
     },
     "execution_count": 5,
     "metadata": {},
     "output_type": "execute_result"
    },
    {
     "data": {
      "text/plain": [
       "2.0      0.466667\n",
       "3.0      0.200000\n",
       "333.0    0.200000\n",
       "1.0      0.133333\n",
       "Name: Q16, dtype: float64"
      ]
     },
     "execution_count": 5,
     "metadata": {},
     "output_type": "execute_result"
    }
   ],
   "source": [
    "\n",
    "post[x2].value_counts(normalize=True)\n",
    "long[x3].value_counts(normalize=True)"
   ]
  },
  {
   "cell_type": "code",
   "execution_count": null,
   "id": "caac468e-2a07-4c38-a5d8-0390730e2181",
   "metadata": {},
   "outputs": [],
   "source": []
  }
 ],
 "metadata": {
  "kernelspec": {
   "display_name": "Python 3",
   "language": "python",
   "name": "python3"
  },
  "language_info": {
   "codemirror_mode": {
    "name": "ipython",
    "version": 3
   },
   "file_extension": ".py",
   "mimetype": "text/x-python",
   "name": "python",
   "nbconvert_exporter": "python",
   "pygments_lexer": "ipython3",
   "version": "3.8.8"
  }
 },
 "nbformat": 4,
 "nbformat_minor": 5
}
