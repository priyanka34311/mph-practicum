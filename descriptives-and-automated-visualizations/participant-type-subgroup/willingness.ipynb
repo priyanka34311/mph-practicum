{
 "cells": [
  {
   "cell_type": "code",
   "execution_count": 9,
   "id": "d05abbad-2429-4f68-a5db-091e2af030a9",
   "metadata": {},
   "outputs": [],
   "source": [
    "# Set up environment\n",
    "\n",
    "from IPython.core.interactiveshell import InteractiveShell\n",
    "InteractiveShell.ast_node_interactivity = \"all\"\n",
    "\n",
    "import pandas as pd\n",
    "import numpy as np\n",
    "import seaborn as sns"
   ]
  },
  {
   "cell_type": "code",
   "execution_count": 10,
   "id": "5a4330f6-cb70-44e7-8c63-a53beffec05a",
   "metadata": {},
   "outputs": [
    {
     "data": {
      "text/plain": [
       "(758, 163)"
      ]
     },
     "execution_count": 10,
     "metadata": {},
     "output_type": "execute_result"
    },
    {
     "data": {
      "text/plain": [
       "(559, 82)"
      ]
     },
     "execution_count": 10,
     "metadata": {},
     "output_type": "execute_result"
    },
    {
     "data": {
      "text/plain": [
       "(439, 94)"
      ]
     },
     "execution_count": 10,
     "metadata": {},
     "output_type": "execute_result"
    }
   ],
   "source": [
    "# Read in datasets \n",
    "path = '/Users/priyankareddy/Desktop/Naloxone CSV/Cleaned Data/For Analyses/60% inclusion CCA - Baseline'\n",
    "pre = pd.read_csv(path+'/pre-training.csv',na_values=[-999,'-999',-888,'-888'])\n",
    "post = pd.read_csv(path+'/post-training.csv',na_values=[-999,'-999',-888,'-888'])\n",
    "long = pd.read_csv(path+'/long-term.csv',na_values=[-999,'-999',-888,'-888'])\n",
    "\n",
    "pre.shape\n",
    "post.shape\n",
    "long.shape"
   ]
  },
  {
   "cell_type": "code",
   "execution_count": 11,
   "id": "2f795e75-d5b8-4c59-912d-c2bd46523c8e",
   "metadata": {},
   "outputs": [],
   "source": [
    "def copy_values(item,dataset):\n",
    "    merged = dataset\n",
    "    students = dataset.loc[dataset['Status']==1,:]\n",
    "    staff = dataset.loc[dataset['Status']==2,:]\n",
    "    merged_vc = merged[item].value_counts(normalize=True).sort_index()\n",
    "    students_vc = students[item].value_counts(normalize=True).sort_index()\n",
    "    staff_vc = staff[item].value_counts(normalize=True).sort_index()\n",
    "    merged_vc = merged_vc.reindex([1,2,3,4,5],fill_value=0)\n",
    "    students_vc = students_vc.reindex([1,2,3,4,5],fill_value=0)\n",
    "    staff_vc = staff_vc.reindex([1,2,3,4,5],fill_value=0)\n",
    "    s = pd.concat([staff_vc,students_vc,merged_vc])\n",
    "    num_staff = staff[item].value_counts().sum()\n",
    "    num_students = students[item].value_counts().sum()\n",
    "    num_merged = merged[item].value_counts().sum()\n",
    "    num = [num_staff,num_students,num_merged]\n",
    "    # this is where the code will change for questions with a different range\n",
    "    s1=s[1].to_list()\n",
    "    s2=s[2].to_list()\n",
    "    s3=s[3].to_list()\n",
    "    s4=s[4].to_list()\n",
    "    s5=s[5].to_list()\n",
    "    null = [np.nan,np.nan,np.nan]\n",
    "    data = {\"Strongly disagree\":s1,\"Disagree\":s2,\"Neutral\":s3,\"Agree\":s4,\"Strongly Agree\":s5}\n",
    "    margin=['Staff (n='+str(num_staff)+')','Students(n='+str(num_students)+')','Merged(n='+str(num_merged)+')']\n",
    "    df = pd.DataFrame(data,index=margin)\n",
    "    #row_value = [np.nan,np.nan,np.nan,np.nan,np.nan]\n",
    "    #df = Insert_row(3, df, row_value)\n",
    "    return df"
   ]
  },
  {
   "cell_type": "code",
   "execution_count": 12,
   "id": "90a4ec15-9e1c-4d60-83e2-63a46e614035",
   "metadata": {},
   "outputs": [],
   "source": [
    "number = [1,2,3,4,5,6]\n",
    "for i in number:\n",
    "    x1 = \"Q25_\" + str(i) \n",
    "    x2 = \"Q7_\" + str(i)\n",
    "    x3 = \"Q17_\" + str(i)\n",
    "    df1 = copy_values(x1,pre)\n",
    "    df2 = copy_values(x2,post)\n",
    "    df3 = copy_values(x3,long)\n",
    "    #df1\n",
    "    #df2\n",
    "    #df3\n",
    "    df = pd.concat([df3,df2,df1])\n",
    "    file = \"willingness_\" + str(i) + \".csv\"\n",
    "    df.to_csv(file)"
   ]
  },
  {
   "cell_type": "code",
   "execution_count": 15,
   "id": "33582952-c56f-4602-99e7-907b32d85ab6",
   "metadata": {},
   "outputs": [
    {
     "data": {
      "text/plain": [
       "3.0    0.356974\n",
       "4.0    0.260047\n",
       "5.0    0.205674\n",
       "2.0    0.158392\n",
       "1.0    0.018913\n",
       "Name: Q17_6, dtype: float64"
      ]
     },
     "execution_count": 15,
     "metadata": {},
     "output_type": "execute_result"
    }
   ],
   "source": [
    "long['Q17_6'].value_counts(normalize=True)"
   ]
  },
  {
   "cell_type": "code",
   "execution_count": 16,
   "id": "9f2e9b78-b4bb-43f5-8877-af39e431a8c5",
   "metadata": {},
   "outputs": [
    {
     "data": {
      "text/plain": [
       "3.0    0.315690\n",
       "4.0    0.311909\n",
       "5.0    0.255198\n",
       "2.0    0.100189\n",
       "1.0    0.017013\n",
       "Name: Q7_6, dtype: float64"
      ]
     },
     "execution_count": 16,
     "metadata": {},
     "output_type": "execute_result"
    }
   ],
   "source": [
    "post['Q7_6'].value_counts(normalize=True)"
   ]
  },
  {
   "cell_type": "code",
   "execution_count": null,
   "id": "ae629c9b-e0ed-475a-9dc5-3e7007b34802",
   "metadata": {},
   "outputs": [],
   "source": []
  }
 ],
 "metadata": {
  "kernelspec": {
   "display_name": "Python 3",
   "language": "python",
   "name": "python3"
  },
  "language_info": {
   "codemirror_mode": {
    "name": "ipython",
    "version": 3
   },
   "file_extension": ".py",
   "mimetype": "text/x-python",
   "name": "python",
   "nbconvert_exporter": "python",
   "pygments_lexer": "ipython3",
   "version": "3.8.8"
  }
 },
 "nbformat": 4,
 "nbformat_minor": 5
}
