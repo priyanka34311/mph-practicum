{
 "cells": [
  {
   "cell_type": "code",
   "execution_count": 38,
   "id": "71111f55-da5c-44c0-b929-fcf9577ee904",
   "metadata": {},
   "outputs": [],
   "source": [
    "# Set up environment\n",
    "\n",
    "from IPython.core.interactiveshell import InteractiveShell\n",
    "InteractiveShell.ast_node_interactivity = \"all\"\n",
    "\n",
    "import pandas as pd\n",
    "import numpy as np\n",
    "import seaborn as sns"
   ]
  },
  {
   "cell_type": "code",
   "execution_count": 39,
   "id": "e553c0bf-2192-4543-a2f5-ac0c5e9bb32e",
   "metadata": {},
   "outputs": [
    {
     "data": {
      "text/plain": [
       "(758, 163)"
      ]
     },
     "execution_count": 39,
     "metadata": {},
     "output_type": "execute_result"
    },
    {
     "data": {
      "text/plain": [
       "(559, 82)"
      ]
     },
     "execution_count": 39,
     "metadata": {},
     "output_type": "execute_result"
    }
   ],
   "source": [
    "# Read in datasets \n",
    "path = '/Users/priyankareddy/Desktop/Naloxone CSV/Cleaned Data/For Analyses/60% inclusion CCA - Baseline'\n",
    "pre = pd.read_csv(path+'/pre-training.csv',na_values=[-999,'-999',-888,'-888'])\n",
    "post = pd.read_csv(path+'/post-training.csv',na_values=[-999,'-999',-888,'-888'])\n",
    "\n",
    "pre.shape\n",
    "post.shape\n"
   ]
  },
  {
   "cell_type": "code",
   "execution_count": 40,
   "id": "a29a15cc-a7e8-45f9-b62d-8428c3e26901",
   "metadata": {},
   "outputs": [],
   "source": [
    "def copy_values(item,dataset):\n",
    "    merged = dataset\n",
    "    students = dataset.loc[dataset['Status']==1,:]\n",
    "    staff = dataset.loc[dataset['Status']==2,:]\n",
    "    merged_vc = merged[item].value_counts(normalize=True).sort_index()\n",
    "    students_vc = students[item].value_counts(normalize=True).sort_index()\n",
    "    staff_vc = staff[item].value_counts(normalize=True).sort_index()\n",
    "    merged_vc = merged_vc.reindex([0,1,2],fill_value=0)\n",
    "    students_vc = students_vc.reindex([0,1,2],fill_value=0)\n",
    "    staff_vc = staff_vc.reindex([0,1,2],fill_value=0)\n",
    "    s = pd.concat([staff_vc,students_vc,merged_vc])\n",
    "    num_staff = staff[item].value_counts().sum()\n",
    "    num_students = students[item].value_counts().sum()\n",
    "    num_merged = merged[item].value_counts().sum()\n",
    "    num = [num_staff,num_students,num_merged]\n",
    "    # this is where the code will change for questions with a different range\n",
    "    s0=s[0].to_list()\n",
    "    s1=s[1].to_list()\n",
    "    s2=s[2].to_list()\n",
    "    null = [np.nan,np.nan,np.nan]\n",
    "    data = {\"Not willing\":s0,\"Somewhat willing\":s1,\"Very willing\":s2}\n",
    "    margin=['Staff (n='+str(num_staff)+')','Students(n='+str(num_students)+')','Merged(n='+str(num_merged)+')']\n",
    "    df = pd.DataFrame(data,index=margin)\n",
    "    #row_value = [np.nan,np.nan,np.nan,np.nan,np.nan]\n",
    "    #df = Insert_row(3, df, row_value)\n",
    "    return df"
   ]
  },
  {
   "cell_type": "code",
   "execution_count": 41,
   "id": "d5ad581c-24dd-4ffb-b6eb-810e30adb7db",
   "metadata": {},
   "outputs": [],
   "source": [
    "x1 = \"Q31_2\"\n",
    "x2 = \"Q12_1\"\n",
    "df1 = copy_values(x1,pre)\n",
    "df2 = copy_values(x2,post)\n",
    "df = pd.concat([df2,df1])\n",
    "file = \"degree_2.csv\"\n",
    "df.to_csv(file)"
   ]
  },
  {
   "cell_type": "code",
   "execution_count": 42,
   "id": "470241da-4f18-4d16-9d76-abaa4c23f7ca",
   "metadata": {},
   "outputs": [],
   "source": [
    "x1 = \"Q31_3\"\n",
    "x2 = \"Q12_2\"\n",
    "df1 = copy_values(x1,pre)\n",
    "df2 = copy_values(x2,post)\n",
    "df = pd.concat([df2,df1])\n",
    "file = \"degree_3.csv\"\n",
    "df.to_csv(file)"
   ]
  },
  {
   "cell_type": "code",
   "execution_count": 43,
   "id": "816b8791-8eb2-4e9c-b482-05326f56fadb",
   "metadata": {},
   "outputs": [],
   "source": [
    "x1 = \"Q31_4\"\n",
    "x2 = \"Q12_3\"\n",
    "df1 = copy_values(x1,pre)\n",
    "df2 = copy_values(x2,post)\n",
    "df = pd.concat([df2,df1])\n",
    "file = \"degree_4.csv\"\n",
    "df.to_csv(file)"
   ]
  },
  {
   "cell_type": "code",
   "execution_count": 44,
   "id": "42fb2387-7fe9-49c1-a12e-d64d07342664",
   "metadata": {},
   "outputs": [],
   "source": [
    "x1 = \"Q31_1\"\n",
    "df1 = copy_values(x1,pre)\n",
    "df = pd.concat([df1])\n",
    "file = \"degree_1.csv\"\n",
    "df.to_csv(file)"
   ]
  },
  {
   "cell_type": "code",
   "execution_count": 45,
   "id": "9171efb3-95b9-471b-833f-b7a515f9f8bd",
   "metadata": {},
   "outputs": [
    {
     "data": {
      "text/plain": [
       "2.0    0.885417\n",
       "1.0    0.114583\n",
       "Name: Q31_1, dtype: float64"
      ]
     },
     "execution_count": 45,
     "metadata": {},
     "output_type": "execute_result"
    }
   ],
   "source": [
    "pre['Q31_1'].value_counts(normalize=True)"
   ]
  },
  {
   "cell_type": "code",
   "execution_count": null,
   "id": "fd2828c1-5504-456d-add9-7ce7613a682c",
   "metadata": {},
   "outputs": [],
   "source": []
  }
 ],
 "metadata": {
  "kernelspec": {
   "display_name": "Python 3",
   "language": "python",
   "name": "python3"
  },
  "language_info": {
   "codemirror_mode": {
    "name": "ipython",
    "version": 3
   },
   "file_extension": ".py",
   "mimetype": "text/x-python",
   "name": "python",
   "nbconvert_exporter": "python",
   "pygments_lexer": "ipython3",
   "version": "3.8.8"
  }
 },
 "nbformat": 4,
 "nbformat_minor": 5
}
