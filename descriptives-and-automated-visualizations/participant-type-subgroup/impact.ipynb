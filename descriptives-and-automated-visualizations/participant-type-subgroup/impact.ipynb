{
 "cells": [
  {
   "cell_type": "code",
   "execution_count": 1,
   "id": "e6c0445f-a2c5-4fef-ba95-9e55cc147f8f",
   "metadata": {},
   "outputs": [],
   "source": [
    "# Set up environment\n",
    "\n",
    "from IPython.core.interactiveshell import InteractiveShell\n",
    "InteractiveShell.ast_node_interactivity = \"all\"\n",
    "\n",
    "import pandas as pd\n",
    "import numpy as np\n",
    "import seaborn as sns"
   ]
  },
  {
   "cell_type": "code",
   "execution_count": 2,
   "id": "8453819d-8aad-4860-9d07-6bc34cdb5cac",
   "metadata": {},
   "outputs": [
    {
     "data": {
      "text/plain": [
       "(758, 163)"
      ]
     },
     "execution_count": 2,
     "metadata": {},
     "output_type": "execute_result"
    },
    {
     "data": {
      "text/plain": [
       "(559, 82)"
      ]
     },
     "execution_count": 2,
     "metadata": {},
     "output_type": "execute_result"
    },
    {
     "data": {
      "text/plain": [
       "(439, 94)"
      ]
     },
     "execution_count": 2,
     "metadata": {},
     "output_type": "execute_result"
    }
   ],
   "source": [
    "# Read in datasets \n",
    "path = '/Users/priyankareddy/Desktop/Naloxone CSV/Cleaned Data/For Analyses/60% inclusion CCA - Baseline'\n",
    "pre = pd.read_csv(path+'/pre-training.csv',na_values=[-999,'-999',-888,'-888'])\n",
    "post = pd.read_csv(path+'/post-training.csv',na_values=[-999,'-999',-888,'-888'])\n",
    "long = pd.read_csv(path+'/long-term.csv',na_values=[-999,'-999',-888,'-888'])\n",
    "\n",
    "pre.shape\n",
    "post.shape\n",
    "long.shape"
   ]
  },
  {
   "cell_type": "code",
   "execution_count": 3,
   "id": "76e55495-3209-4388-baaa-c578bd47f395",
   "metadata": {},
   "outputs": [],
   "source": [
    "def copy_values(item,dataset):\n",
    "    merged = dataset\n",
    "    students = dataset.loc[dataset['Status']==1,:]\n",
    "    staff = dataset.loc[dataset['Status']==2,:]\n",
    "    merged_vc = merged[item].value_counts(normalize=True).sort_index()\n",
    "    students_vc = students[item].value_counts(normalize=True).sort_index()\n",
    "    staff_vc = staff[item].value_counts(normalize=True).sort_index()\n",
    "    merged_vc = merged_vc.reindex([1,2,3,4,5],fill_value=0)\n",
    "    students_vc = students_vc.reindex([1,2,3,4,5],fill_value=0)\n",
    "    staff_vc = staff_vc.reindex([1,2,3,4,5],fill_value=0)\n",
    "    s = pd.concat([staff_vc,students_vc,merged_vc])\n",
    "    num_staff = staff[item].value_counts().sum()\n",
    "    num_students = students[item].value_counts().sum()\n",
    "    num_merged = merged[item].value_counts().sum()\n",
    "    num = [num_staff,num_students,num_merged]\n",
    "    # this is where the code will change for questions with a different range\n",
    "    s1=s[1].to_list()\n",
    "    s2=s[2].to_list()\n",
    "    s3=s[3].to_list()\n",
    "    s4=s[4].to_list()\n",
    "    s5=s[5].to_list()\n",
    "    null = [np.nan,np.nan,np.nan]\n",
    "    data = {\"Strongly disagree\":s1,\"Disagree\":s2,\"Neutral\":s3,\"Agree\":s4,\"Strongly Agree\":s5}\n",
    "    margin=['Staff (n='+str(num_staff)+')','Students(n='+str(num_students)+')','Merged(n='+str(num_merged)+')']\n",
    "    df = pd.DataFrame(data,index=margin)\n",
    "    #row_value = [np.nan,np.nan,np.nan,np.nan,np.nan]\n",
    "    #df = Insert_row(3, df, row_value)\n",
    "    return df"
   ]
  },
  {
   "cell_type": "code",
   "execution_count": 4,
   "id": "97fe15e8-21ae-4600-9fa0-58c43fccfad3",
   "metadata": {},
   "outputs": [],
   "source": [
    "#number = [1,3,4,5,6,7,8]\n",
    "#for i in number:\n",
    "    #x1 = \"Q28_\" + str(i) \n",
    "    #x2 = \"Q9_\" + str(i)\n",
    "    #x3 = \"Q19_\" + str(i)\n",
    "    #df1 = copy_values(x1,pre)\n",
    "    #df2 = copy_values(x2,post)\n",
    "    #df3 = copy_values(x3,long)\n",
    "    #df1\n",
    "    #df2\n",
    "    #df3\n",
    "    #df = pd.concat([df3,df2,df1])\n",
    "    #file = \"impact_\" + str(i) + \".csv\"\n",
    "    #df.to_csv(file)"
   ]
  },
  {
   "cell_type": "code",
   "execution_count": 5,
   "id": "a1a26d9d-9f27-47b5-b94f-0cb5e07669c2",
   "metadata": {},
   "outputs": [],
   "source": [
    "df1 = copy_values(\"Q28_2\",pre)\n",
    "df2 = copy_values(\"Q9_2\",post)\n",
    "df = pd.concat([df2,df1])\n",
    "file = \"impact_remaining.csv\"\n",
    "df.to_csv(file)"
   ]
  }
 ],
 "metadata": {
  "kernelspec": {
   "display_name": "Python 3",
   "language": "python",
   "name": "python3"
  },
  "language_info": {
   "codemirror_mode": {
    "name": "ipython",
    "version": 3
   },
   "file_extension": ".py",
   "mimetype": "text/x-python",
   "name": "python",
   "nbconvert_exporter": "python",
   "pygments_lexer": "ipython3",
   "version": "3.8.8"
  }
 },
 "nbformat": 4,
 "nbformat_minor": 5
}
