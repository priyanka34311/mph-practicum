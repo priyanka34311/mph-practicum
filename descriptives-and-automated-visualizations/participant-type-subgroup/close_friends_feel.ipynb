{
 "cells": [
  {
   "cell_type": "code",
   "execution_count": 23,
   "id": "e4592f23-12c9-4faa-8e31-be692bbc2e5d",
   "metadata": {},
   "outputs": [],
   "source": [
    "# Set up environment\n",
    "\n",
    "from IPython.core.interactiveshell import InteractiveShell\n",
    "InteractiveShell.ast_node_interactivity = \"all\"\n",
    "\n",
    "import pandas as pd\n",
    "import numpy as np\n",
    "import seaborn as sns"
   ]
  },
  {
   "cell_type": "code",
   "execution_count": 24,
   "id": "8787a2d0-7b03-430f-b339-1a6554d5937f",
   "metadata": {},
   "outputs": [
    {
     "data": {
      "text/plain": [
       "(758, 163)"
      ]
     },
     "execution_count": 24,
     "metadata": {},
     "output_type": "execute_result"
    },
    {
     "data": {
      "text/plain": [
       "(439, 94)"
      ]
     },
     "execution_count": 24,
     "metadata": {},
     "output_type": "execute_result"
    }
   ],
   "source": [
    "# Read in datasets \n",
    "path = '/Users/priyankareddy/Desktop/Naloxone CSV/Cleaned Data/For Analyses/60% inclusion CCA - Baseline'\n",
    "pre = pd.read_csv(path+'/pre-training.csv',na_values=[-999,'-999',-888,'-888'])\n",
    "long = pd.read_csv(path+'/long-term.csv',na_values=[-999,'-999',-888,'-888'])\n",
    "\n",
    "pre.shape\n",
    "long.shape"
   ]
  },
  {
   "cell_type": "code",
   "execution_count": 25,
   "id": "c0f20ddf-1d76-48e0-b3a1-84ff52a62f09",
   "metadata": {},
   "outputs": [],
   "source": [
    "def copy_values(item,dataset):\n",
    "    merged = dataset\n",
    "    students = dataset.loc[dataset['Status']==1,:]\n",
    "    staff = dataset.loc[dataset['Status']==2,:]\n",
    "    merged_vc = merged[item].value_counts(normalize=True).sort_index()\n",
    "    students_vc = students[item].value_counts(normalize=True).sort_index()\n",
    "    staff_vc = staff[item].value_counts(normalize=True).sort_index()\n",
    "    merged_vc = merged_vc.reindex([1,2,3,4],fill_value=0)\n",
    "    students_vc = students_vc.reindex([1,2,3,4],fill_value=0)\n",
    "    staff_vc = staff_vc.reindex([1,2,3,4],fill_value=0)\n",
    "    s = pd.concat([staff_vc,students_vc,merged_vc])\n",
    "    num_staff = staff[item].value_counts().sum()\n",
    "    num_students = students[item].value_counts().sum()\n",
    "    num_merged = merged[item].value_counts().sum()\n",
    "    num = [num_staff,num_students,num_merged]\n",
    "    # this is where the code will change for questions with a different range\n",
    "    s1=s[1].to_list()\n",
    "    s2=s[2].to_list()\n",
    "    s3=s[3].to_list()\n",
    "    s4=s[4].to_list()\n",
    "    null = [np.nan,np.nan,np.nan]\n",
    "    data = {\"Strongly Disapprove\":s1,\"Disapprove\":s2,\"Neutral/Indifferent\":s3,\"Encourage\":s4}\n",
    "    margin=['Staff (n='+str(num_staff)+')','Students(n='+str(num_students)+')','Merged(n='+str(num_merged)+')']\n",
    "    df = pd.DataFrame(data,index=margin)\n",
    "    #row_value = [np.nan,np.nan,np.nan,np.nan,np.nan]\n",
    "    #df = Insert_row(3, df, row_value)\n",
    "    return df"
   ]
  },
  {
   "cell_type": "code",
   "execution_count": 26,
   "id": "4b514102-1a9c-4895-84d2-03f666ad27c3",
   "metadata": {},
   "outputs": [],
   "source": [
    "def copy_values2(item,dataset):\n",
    "    merged = dataset\n",
    "    students = dataset.loc[dataset['Status']==1,:]\n",
    "    staff = dataset.loc[dataset['Status']==2,:]\n",
    "    merged_vc = merged[item].value_counts(normalize=True).sort_index()\n",
    "    students_vc = students[item].value_counts(normalize=True).sort_index()\n",
    "    staff_vc = staff[item].value_counts(normalize=True).sort_index()\n",
    "    merged_vc = merged_vc.reindex([1,2,3,4],fill_value=0)\n",
    "    students_vc = students_vc.reindex([1,2,3,4],fill_value=0)\n",
    "    staff_vc = staff_vc.reindex([1,2,3,4],fill_value=0)\n",
    "    s = pd.concat([staff_vc,students_vc,merged_vc])\n",
    "    num_staff = staff[item].value_counts().sum()\n",
    "    num_students = students[item].value_counts().sum()\n",
    "    num_merged = merged[item].value_counts().sum()\n",
    "    num = [num_staff,num_students,num_merged]\n",
    "    # this is where the code will change for questions with a different range\n",
    "    s1=s[1].to_list()\n",
    "    s2=s[2].to_list()\n",
    "    s3=s[3].to_list()\n",
    "    s4=s[4].to_list()\n",
    "    null = [np.nan,np.nan,np.nan]\n",
    "    data = {\"Strongly Disapprove\":s4,\"Disapprove\":s3,\"Neutral/Indifferent\":s2,\"Encourage\":s1}\n",
    "    margin=['Staff (n='+str(num_staff)+')','Students(n='+str(num_students)+')','Merged(n='+str(num_merged)+')']\n",
    "    df = pd.DataFrame(data,index=margin)\n",
    "    #row_value = [np.nan,np.nan,np.nan,np.nan,np.nan]\n",
    "    #df = Insert_row(3, df, row_value)\n",
    "    return df"
   ]
  },
  {
   "cell_type": "code",
   "execution_count": 27,
   "id": "1cba7642-87f4-433f-b270-377ee547065d",
   "metadata": {},
   "outputs": [],
   "source": [
    "number = [1,2,3,4,5,6,7,8,9,10]\n",
    "for i in number:\n",
    "    x1 = \"Q35_\" + str(i) \n",
    "    x3 = \"Q3_\" + str(i)\n",
    "    df1 = copy_values(x1,pre)\n",
    "    df3 = copy_values2(x3,long)\n",
    "    df = pd.concat([df3,df1])\n",
    "    file = \"close_friends_feel_\" + str(i) + \".csv\"\n",
    "    df.to_csv(file)"
   ]
  },
  {
   "cell_type": "code",
   "execution_count": 28,
   "id": "9eaf5946-4d6f-46f7-9cbc-4749f05d00aa",
   "metadata": {},
   "outputs": [
    {
     "data": {
      "text/plain": [
       "1    0.599089\n",
       "2    0.355353\n",
       "3    0.022779\n",
       "4    0.022779\n",
       "Name: Q3_1, dtype: float64"
      ]
     },
     "execution_count": 28,
     "metadata": {},
     "output_type": "execute_result"
    }
   ],
   "source": [
    "long['Q3_1'].value_counts(normalize=True)"
   ]
  },
  {
   "cell_type": "code",
   "execution_count": 29,
   "id": "24127c17-12ac-43f3-9f99-d314722bd210",
   "metadata": {},
   "outputs": [
    {
     "data": {
      "text/plain": [
       "4.0    0.472469\n",
       "3.0    0.458259\n",
       "1.0    0.040853\n",
       "2.0    0.028419\n",
       "Name: Q35_1, dtype: float64"
      ]
     },
     "execution_count": 29,
     "metadata": {},
     "output_type": "execute_result"
    }
   ],
   "source": [
    "pre['Q35_1'].value_counts(normalize=True)"
   ]
  },
  {
   "cell_type": "code",
   "execution_count": null,
   "id": "43cbc9a0-7673-41b9-bcfb-ad8cc2a65c9a",
   "metadata": {},
   "outputs": [],
   "source": []
  }
 ],
 "metadata": {
  "kernelspec": {
   "display_name": "Python 3",
   "language": "python",
   "name": "python3"
  },
  "language_info": {
   "codemirror_mode": {
    "name": "ipython",
    "version": 3
   },
   "file_extension": ".py",
   "mimetype": "text/x-python",
   "name": "python",
   "nbconvert_exporter": "python",
   "pygments_lexer": "ipython3",
   "version": "3.8.8"
  }
 },
 "nbformat": 4,
 "nbformat_minor": 5
}
