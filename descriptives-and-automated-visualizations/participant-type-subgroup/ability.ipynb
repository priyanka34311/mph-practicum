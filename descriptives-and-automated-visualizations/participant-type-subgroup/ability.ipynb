{
 "cells": [
  {
   "cell_type": "code",
   "execution_count": 6,
   "id": "d87257cc-0a62-4948-9d24-e55632571ebf",
   "metadata": {},
   "outputs": [],
   "source": [
    "# Set up environment\n",
    "\n",
    "from IPython.core.interactiveshell import InteractiveShell\n",
    "InteractiveShell.ast_node_interactivity = \"all\"\n",
    "\n",
    "%matplotlib inline \n",
    "from matplotlib import pyplot as plt\n",
    "import pandas as pd\n",
    "import numpy as np\n",
    "import seaborn as sns\n",
    "import pyreadstat"
   ]
  },
  {
   "cell_type": "code",
   "execution_count": 7,
   "id": "b7bbb9f3-5e50-406d-98f6-7fe22ef64537",
   "metadata": {},
   "outputs": [
    {
     "data": {
      "text/plain": [
       "(758, 163)"
      ]
     },
     "execution_count": 7,
     "metadata": {},
     "output_type": "execute_result"
    },
    {
     "data": {
      "text/plain": [
       "(559, 82)"
      ]
     },
     "execution_count": 7,
     "metadata": {},
     "output_type": "execute_result"
    },
    {
     "data": {
      "text/plain": [
       "(439, 94)"
      ]
     },
     "execution_count": 7,
     "metadata": {},
     "output_type": "execute_result"
    }
   ],
   "source": [
    "# Read in datasets \n",
    "path = '/Users/priyankareddy/Desktop/Naloxone CSV/Cleaned Data/For Analyses/60% inclusion CCA - Baseline'\n",
    "pre = pd.read_csv(path+'/pre-training.csv',na_values=[-999,'-999',-888,'-888'])\n",
    "post = pd.read_csv(path+'/post-training.csv',na_values=[-999,'-999',-888,'-888'])\n",
    "long = pd.read_csv(path+'/long-term.csv',na_values=[-999,'-999',-888,'-888'])\n",
    "\n",
    "pre.shape\n",
    "post.shape\n",
    "long.shape"
   ]
  },
  {
   "cell_type": "code",
   "execution_count": 8,
   "id": "93bb80d1-bbda-4f41-b337-3411108c455d",
   "metadata": {},
   "outputs": [],
   "source": [
    "def copy_values(item,dataset):\n",
    "    merged = dataset\n",
    "    students = dataset.loc[dataset['Status']==1,:]\n",
    "    staff = dataset.loc[dataset['Status']==2,:]\n",
    "    merged_vc = merged[item].value_counts(normalize=True).sort_index()\n",
    "    students_vc = students[item].value_counts(normalize=True).sort_index()\n",
    "    staff_vc = staff[item].value_counts(normalize=True).sort_index()\n",
    "    merged_vc = merged_vc.reindex([1,2,3,4,5],fill_value=0)\n",
    "    students_vc = students_vc.reindex([1,2,3,4,5],fill_value=0)\n",
    "    staff_vc = staff_vc.reindex([1,2,3,4,5],fill_value=0)\n",
    "    s = pd.concat([staff_vc,students_vc,merged_vc])\n",
    "    num_staff = staff[item].value_counts().sum()\n",
    "    num_students = students[item].value_counts().sum()\n",
    "    num_merged = merged[item].value_counts().sum()\n",
    "    num = [num_staff,num_students,num_merged]\n",
    "    # this is where the code will change for questions with a different range\n",
    "    s1=s[1].to_list()\n",
    "    s2=s[2].to_list()\n",
    "    s3=s[3].to_list()\n",
    "    s4=s[4].to_list()\n",
    "    s5=s[5].to_list()\n",
    "    null = [np.nan,np.nan,np.nan]\n",
    "    data = {\"Strongly disagree\":s1,\"Disagree\":s2,\"Neutral\":s3,\"Agree\":s4,\"Strongly Agree\":s5}\n",
    "    margin=['Staff (n='+str(num_staff)+')','Students(n='+str(num_students)+')','Merged(n='+str(num_merged)+')']\n",
    "    df = pd.DataFrame(data,index=margin)\n",
    "    #row_value = [np.nan,np.nan,np.nan,np.nan,np.nan]\n",
    "    #df = Insert_row(3, df, row_value)\n",
    "    return df"
   ]
  },
  {
   "cell_type": "code",
   "execution_count": 9,
   "id": "f3c114a4-3e20-4c0c-b01e-6ad220ccd829",
   "metadata": {},
   "outputs": [],
   "source": [
    "number = [1,2,3,4,5,6,7,8]\n",
    "for i in number:\n",
    "    x1 = \"Q29_\" + str(i) \n",
    "    x2 = \"Q10_\" + str(i)\n",
    "    x3 = \"Q20_\" + str(i)\n",
    "    df1 = copy_values(x1,pre)\n",
    "    df2 = copy_values(x2,post)\n",
    "    df3 = copy_values(x3,long)\n",
    "    #df1\n",
    "    #df2\n",
    "    #df3\n",
    "    df = pd.concat([df3,df2,df1])\n",
    "    file = \"ability_\" + str(i) + \".csv\"\n",
    "    df.to_csv(file)"
   ]
  },
  {
   "cell_type": "code",
   "execution_count": null,
   "id": "ed29e25d-756e-43ac-aeb0-30272fb52cd8",
   "metadata": {},
   "outputs": [],
   "source": []
  }
 ],
 "metadata": {
  "kernelspec": {
   "display_name": "Python 3",
   "language": "python",
   "name": "python3"
  },
  "language_info": {
   "codemirror_mode": {
    "name": "ipython",
    "version": 3
   },
   "file_extension": ".py",
   "mimetype": "text/x-python",
   "name": "python",
   "nbconvert_exporter": "python",
   "pygments_lexer": "ipython3",
   "version": "3.8.8"
  }
 },
 "nbformat": 4,
 "nbformat_minor": 5
}
