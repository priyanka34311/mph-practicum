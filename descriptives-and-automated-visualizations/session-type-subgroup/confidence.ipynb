{
 "cells": [
  {
   "cell_type": "code",
   "execution_count": 7,
   "id": "8a9adf81-6ae2-4067-a37e-a671d4fe8f0f",
   "metadata": {},
   "outputs": [],
   "source": [
    "# Set up environment\n",
    "\n",
    "from IPython.core.interactiveshell import InteractiveShell\n",
    "InteractiveShell.ast_node_interactivity = \"all\"\n",
    "\n",
    "%matplotlib inline \n",
    "from matplotlib import pyplot as plt\n",
    "import pandas as pd\n",
    "import numpy as np\n",
    "import seaborn as sns\n",
    "import pyreadstat\n",
    "import altair as alt"
   ]
  },
  {
   "cell_type": "code",
   "execution_count": 8,
   "id": "5078fded-a853-43bd-b2ee-87229d24fe22",
   "metadata": {
    "tags": []
   },
   "outputs": [
    {
     "data": {
      "text/plain": [
       "(758, 163)"
      ]
     },
     "execution_count": 8,
     "metadata": {},
     "output_type": "execute_result"
    },
    {
     "data": {
      "text/plain": [
       "(559, 82)"
      ]
     },
     "execution_count": 8,
     "metadata": {},
     "output_type": "execute_result"
    },
    {
     "data": {
      "text/plain": [
       "(439, 94)"
      ]
     },
     "execution_count": 8,
     "metadata": {},
     "output_type": "execute_result"
    }
   ],
   "source": [
    "# Read in datasets \n",
    "\n",
    "# Read in datasets \n",
    "path = '/Users/priyankareddy/Desktop/Naloxone CSV/Cleaned Data/For Analyses/60% inclusion CCA - Baseline'\n",
    "pre = pd.read_csv(path+'/pre-training.csv',na_values=[-999,'-999',-888,'-888'])\n",
    "post = pd.read_csv(path+'/post-training.csv',na_values=[-999,'-999',-888,'-888'])\n",
    "long = pd.read_csv(path+'/long-term.csv',na_values=[-999,'-999',-888,'-888'])\n",
    "\n",
    "pre.shape\n",
    "post.shape\n",
    "long.shape"
   ]
  },
  {
   "cell_type": "code",
   "execution_count": 9,
   "id": "431b4bd8-c587-48c5-b080-e1062d24f30c",
   "metadata": {},
   "outputs": [],
   "source": [
    "def copy_values(item,dataset):\n",
    "    merged = dataset\n",
    "    inperson = dataset.loc[dataset['Session_Type']==0,:]\n",
    "    virtual = dataset.loc[dataset['Session_Type']==1,:]\n",
    "    merged_vc = merged[item].value_counts(normalize=True).sort_index()\n",
    "    inperson_vc = inperson[item].value_counts(normalize=True).sort_index()\n",
    "    virtual_vc = virtual[item].value_counts(normalize=True).sort_index()\n",
    "    merged_vc = merged_vc.reindex([1,2,3,4,5,888],fill_value=0)\n",
    "    inperson_vc = inperson_vc.reindex([1,2,3,4,5,888],fill_value=0)\n",
    "    virtual_vc = virtual_vc.reindex([1,2,3,4,5,888],fill_value=0)\n",
    "    s = pd.concat([virtual_vc,inperson_vc,merged_vc])\n",
    "    num_virtual = virtual[item].value_counts().sum()\n",
    "    num_inperson = inperson[item].value_counts().sum()\n",
    "    num_merged = merged[item].value_counts().sum()\n",
    "    num = [num_virtual,num_inperson,num_merged]\n",
    "    # this is where the code will change for questions with a different range\n",
    "    s1=s[1].to_list()\n",
    "    s2=s[2].to_list()\n",
    "    s3=s[3].to_list()\n",
    "    s4=s[4].to_list()\n",
    "    s5=s[5].to_list()\n",
    "    s888=s[888].to_list()\n",
    "    null = [np.nan,np.nan,np.nan]\n",
    "    data = {\"Strongly disagree\":s1,\"Disagree\":s2,\"Neutral\":s3,\"Agree\":s4,\"Strongly Agree\":s5,\"Not applicable\":s888}\n",
    "    margin=['Virtual (n='+str(num_virtual)+')','In-person (n='+str(num_inperson)+')','Merged(n='+str(num_merged)+')']\n",
    "    df = pd.DataFrame(data,index=margin)\n",
    "    #row_value = [np.nan,np.nan,np.nan,np.nan,np.nan]\n",
    "    #df = Insert_row(3, df, row_value)\n",
    "    return df"
   ]
  },
  {
   "cell_type": "code",
   "execution_count": 10,
   "id": "df2d8da3-5de2-4ca7-a91f-78b9acfda17d",
   "metadata": {},
   "outputs": [],
   "source": [
    "number = [1,2,3]\n",
    "for i in number:\n",
    "    x1 = \"Q32_\" + str(i)\n",
    "    x2 = \"Q13_\" + str(i)\n",
    "    df1 = copy_values(x1,pre)\n",
    "    df2 = copy_values(x2,post)\n",
    "    df = pd.concat([df2,df1])\n",
    "    file = \"confidence_\" + str(i) + \".csv\"\n",
    "    df.to_csv(file)"
   ]
  },
  {
   "cell_type": "code",
   "execution_count": 11,
   "id": "8a874b37-a954-4308-a923-f136d4175f13",
   "metadata": {},
   "outputs": [],
   "source": [
    "#pre[x1].value_counts(normalize=True).sort_index()\n",
    "#post[x2].value_counts(normalize=True).sort_index()\n",
    "#long[x3].value_counts(normalize=True).sort_index()"
   ]
  },
  {
   "cell_type": "code",
   "execution_count": 12,
   "id": "c078747f-df43-4d11-aec3-6f10130e3a7e",
   "metadata": {
    "jupyter": {
     "source_hidden": true
    },
    "tags": []
   },
   "outputs": [],
   "source": [
    "number = [5]\n",
    "for i in number:\n",
    "    x1 = \"Q32_4\"\n",
    "    x2 = \"Q13_\" + str(i)\n",
    "    x3 = \"Q22_\" + str(i)\n",
    "    df1 = copy_values(x1,pre)\n",
    "    df2 = copy_values(x2,post)\n",
    "    df3 = copy_values(x3,long)\n",
    "    df = pd.concat([df3,df2,df1])\n",
    "    file = \"confidence_\" + str(i) + \".csv\"\n",
    "    df.to_csv(file)"
   ]
  }
 ],
 "metadata": {
  "kernelspec": {
   "display_name": "Python 3",
   "language": "python",
   "name": "python3"
  },
  "language_info": {
   "codemirror_mode": {
    "name": "ipython",
    "version": 3
   },
   "file_extension": ".py",
   "mimetype": "text/x-python",
   "name": "python",
   "nbconvert_exporter": "python",
   "pygments_lexer": "ipython3",
   "version": "3.8.8"
  }
 },
 "nbformat": 4,
 "nbformat_minor": 5
}
