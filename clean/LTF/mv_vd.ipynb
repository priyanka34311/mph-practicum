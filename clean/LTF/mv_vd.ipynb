{
 "cells": [
  {
   "cell_type": "code",
   "execution_count": 1,
   "id": "ef287df1-9ecc-498b-948f-5c78f47621d6",
   "metadata": {},
   "outputs": [],
   "source": [
    "# Set up environment\n",
    "\n",
    "from IPython.core.interactiveshell import InteractiveShell\n",
    "InteractiveShell.ast_node_interactivity = \"all\"\n",
    "\n",
    "import pandas as pd\n",
    "import numpy as np\n",
    "import seaborn as sns"
   ]
  },
  {
   "cell_type": "code",
   "execution_count": 2,
   "id": "28fd7d89-5af7-4184-9f49-fa2f3c4a3ffe",
   "metadata": {},
   "outputs": [
    {
     "data": {
      "text/plain": [
       "(96, 3)"
      ]
     },
     "execution_count": 2,
     "metadata": {},
     "output_type": "execute_result"
    },
    {
     "data": {
      "text/plain": [
       "(39, 3)"
      ]
     },
     "execution_count": 2,
     "metadata": {},
     "output_type": "execute_result"
    },
    {
     "data": {
      "text/plain": [
       "(24, 3)"
      ]
     },
     "execution_count": 2,
     "metadata": {},
     "output_type": "execute_result"
    }
   ],
   "source": [
    "# Load data\n",
    "\n",
    "path_pre = 'pre-training/pre_mv.csv'\n",
    "pre = pd.read_csv(path_pre)\n",
    "\n",
    "path_post = 'post-training/post_mv.csv'\n",
    "post = pd.read_csv(path_post)\n",
    "\n",
    "path_long = 'long-term/long_mv.csv'\n",
    "long = pd.read_csv(path_long)\n",
    "\n",
    "pre.shape\n",
    "post.shape\n",
    "long.shape"
   ]
  },
  {
   "cell_type": "code",
   "execution_count": 3,
   "id": "3f85cd92-73c2-4c55-ab60-69c7e7ffae64",
   "metadata": {},
   "outputs": [
    {
     "data": {
      "text/plain": [
       "(85,)"
      ]
     },
     "execution_count": 3,
     "metadata": {},
     "output_type": "execute_result"
    },
    {
     "data": {
      "text/plain": [
       "(28,)"
      ]
     },
     "execution_count": 3,
     "metadata": {},
     "output_type": "execute_result"
    }
   ],
   "source": [
    "pre_post = np.setdiff1d(pre['ExternalReference'],post['ExternalReference'])\n",
    "pre_post.shape\n",
    "\n",
    "post_pre = np.setdiff1d(post['ExternalReference'],pre['ExternalReference'])\n",
    "post_pre.shape"
   ]
  },
  {
   "cell_type": "code",
   "execution_count": 4,
   "id": "33f1201e-3ef9-4c66-93b0-8165ecd03215",
   "metadata": {},
   "outputs": [
    {
     "data": {
      "text/plain": [
       "(11, 5)"
      ]
     },
     "execution_count": 4,
     "metadata": {},
     "output_type": "execute_result"
    }
   ],
   "source": [
    "pre_post_merge = pd.merge(pre,post,on='ExternalReference')\n",
    "pre_post_merge.shape"
   ]
  },
  {
   "cell_type": "code",
   "execution_count": 5,
   "id": "4cde5912-e72f-45ba-b6ca-c93ded7686dd",
   "metadata": {},
   "outputs": [
    {
     "data": {
      "text/plain": [
       "(89,)"
      ]
     },
     "execution_count": 5,
     "metadata": {},
     "output_type": "execute_result"
    },
    {
     "data": {
      "text/plain": [
       "(17,)"
      ]
     },
     "execution_count": 5,
     "metadata": {},
     "output_type": "execute_result"
    }
   ],
   "source": [
    "pre_long = np.setdiff1d(pre['ExternalReference'],long['ExternalReference'])\n",
    "pre_long.shape\n",
    "\n",
    "long_pre = np.setdiff1d(long['ExternalReference'],pre['ExternalReference'])\n",
    "long_pre.shape"
   ]
  },
  {
   "cell_type": "code",
   "execution_count": 6,
   "id": "b9f45dc6-88d0-428b-81cf-a306b275386a",
   "metadata": {
    "tags": []
   },
   "outputs": [
    {
     "data": {
      "text/plain": [
       "(7, 5)"
      ]
     },
     "execution_count": 6,
     "metadata": {},
     "output_type": "execute_result"
    }
   ],
   "source": [
    "pre_long_merge = pd.merge(pre,long,on='ExternalReference')\n",
    "pre_long_merge.shape"
   ]
  },
  {
   "cell_type": "code",
   "execution_count": 7,
   "id": "4346fcf3-481a-428f-be91-ec52acb101e2",
   "metadata": {},
   "outputs": [
    {
     "data": {
      "text/html": [
       "<div>\n",
       "<style scoped>\n",
       "    .dataframe tbody tr th:only-of-type {\n",
       "        vertical-align: middle;\n",
       "    }\n",
       "\n",
       "    .dataframe tbody tr th {\n",
       "        vertical-align: top;\n",
       "    }\n",
       "\n",
       "    .dataframe thead th {\n",
       "        text-align: right;\n",
       "    }\n",
       "</style>\n",
       "<table border=\"1\" class=\"dataframe\">\n",
       "  <thead>\n",
       "    <tr style=\"text-align: right;\">\n",
       "      <th></th>\n",
       "      <th>Unnamed: 0_x</th>\n",
       "      <th>ExternalReference</th>\n",
       "      <th>0_x</th>\n",
       "      <th>Unnamed: 0_y</th>\n",
       "      <th>0_y</th>\n",
       "    </tr>\n",
       "  </thead>\n",
       "  <tbody>\n",
       "    <tr>\n",
       "      <th>0</th>\n",
       "      <td>343</td>\n",
       "      <td>K564</td>\n",
       "      <td>1</td>\n",
       "      <td>247</td>\n",
       "      <td>8</td>\n",
       "    </tr>\n",
       "    <tr>\n",
       "      <th>1</th>\n",
       "      <td>408</td>\n",
       "      <td>K009</td>\n",
       "      <td>1</td>\n",
       "      <td>115</td>\n",
       "      <td>65</td>\n",
       "    </tr>\n",
       "    <tr>\n",
       "      <th>2</th>\n",
       "      <td>549</td>\n",
       "      <td>K854</td>\n",
       "      <td>42</td>\n",
       "      <td>339</td>\n",
       "      <td>6</td>\n",
       "    </tr>\n",
       "    <tr>\n",
       "      <th>3</th>\n",
       "      <td>563</td>\n",
       "      <td>K964</td>\n",
       "      <td>42</td>\n",
       "      <td>382</td>\n",
       "      <td>23</td>\n",
       "    </tr>\n",
       "    <tr>\n",
       "      <th>4</th>\n",
       "      <td>684</td>\n",
       "      <td>N058</td>\n",
       "      <td>7</td>\n",
       "      <td>392</td>\n",
       "      <td>6</td>\n",
       "    </tr>\n",
       "    <tr>\n",
       "      <th>5</th>\n",
       "      <td>685</td>\n",
       "      <td>K911</td>\n",
       "      <td>1</td>\n",
       "      <td>390</td>\n",
       "      <td>42</td>\n",
       "    </tr>\n",
       "    <tr>\n",
       "      <th>6</th>\n",
       "      <td>696</td>\n",
       "      <td>K1016</td>\n",
       "      <td>4</td>\n",
       "      <td>401</td>\n",
       "      <td>6</td>\n",
       "    </tr>\n",
       "  </tbody>\n",
       "</table>\n",
       "</div>"
      ],
      "text/plain": [
       "   Unnamed: 0_x ExternalReference  0_x  Unnamed: 0_y  0_y\n",
       "0           343              K564    1           247    8\n",
       "1           408              K009    1           115   65\n",
       "2           549              K854   42           339    6\n",
       "3           563              K964   42           382   23\n",
       "4           684              N058    7           392    6\n",
       "5           685              K911    1           390   42\n",
       "6           696             K1016    4           401    6"
      ]
     },
     "execution_count": 7,
     "metadata": {},
     "output_type": "execute_result"
    }
   ],
   "source": [
    "pre_long_merge"
   ]
  },
  {
   "cell_type": "code",
   "execution_count": 8,
   "id": "bcd3d808-d09c-495c-a588-59a51a6682e6",
   "metadata": {},
   "outputs": [
    {
     "data": {
      "text/plain": [
       "(38,)"
      ]
     },
     "execution_count": 8,
     "metadata": {},
     "output_type": "execute_result"
    },
    {
     "data": {
      "text/plain": [
       "(23,)"
      ]
     },
     "execution_count": 8,
     "metadata": {},
     "output_type": "execute_result"
    }
   ],
   "source": [
    "post_long = np.setdiff1d(post['ExternalReference'],long['ExternalReference'])\n",
    "post_long.shape\n",
    "\n",
    "long_post = np.setdiff1d(long['ExternalReference'],post['ExternalReference'])\n",
    "long_post.shape"
   ]
  },
  {
   "cell_type": "code",
   "execution_count": 9,
   "id": "c52cbc0f-0954-402e-b4f0-84493948dd15",
   "metadata": {
    "tags": []
   },
   "outputs": [
    {
     "data": {
      "text/plain": [
       "(1, 5)"
      ]
     },
     "execution_count": 9,
     "metadata": {},
     "output_type": "execute_result"
    }
   ],
   "source": [
    "post_long_merge = pd.merge(post,long,on='ExternalReference')\n",
    "post_long_merge.shape"
   ]
  },
  {
   "cell_type": "code",
   "execution_count": 10,
   "id": "7db1cc43-9c76-4c7f-9e4c-3d5350dad478",
   "metadata": {},
   "outputs": [
    {
     "data": {
      "text/html": [
       "<div>\n",
       "<style scoped>\n",
       "    .dataframe tbody tr th:only-of-type {\n",
       "        vertical-align: middle;\n",
       "    }\n",
       "\n",
       "    .dataframe tbody tr th {\n",
       "        vertical-align: top;\n",
       "    }\n",
       "\n",
       "    .dataframe thead th {\n",
       "        text-align: right;\n",
       "    }\n",
       "</style>\n",
       "<table border=\"1\" class=\"dataframe\">\n",
       "  <thead>\n",
       "    <tr style=\"text-align: right;\">\n",
       "      <th></th>\n",
       "      <th>Unnamed: 0_x</th>\n",
       "      <th>ExternalReference</th>\n",
       "      <th>0_x</th>\n",
       "      <th>Unnamed: 0_y</th>\n",
       "      <th>0_y</th>\n",
       "    </tr>\n",
       "  </thead>\n",
       "  <tbody>\n",
       "    <tr>\n",
       "      <th>0</th>\n",
       "      <td>513</td>\n",
       "      <td>K1016</td>\n",
       "      <td>23</td>\n",
       "      <td>401</td>\n",
       "      <td>6</td>\n",
       "    </tr>\n",
       "  </tbody>\n",
       "</table>\n",
       "</div>"
      ],
      "text/plain": [
       "   Unnamed: 0_x ExternalReference  0_x  Unnamed: 0_y  0_y\n",
       "0           513             K1016   23           401    6"
      ]
     },
     "execution_count": 10,
     "metadata": {},
     "output_type": "execute_result"
    }
   ],
   "source": [
    "post_long_merge"
   ]
  },
  {
   "cell_type": "code",
   "execution_count": 11,
   "id": "09dd62e3-ef5d-4cc2-a01a-1d0cb88a5ee1",
   "metadata": {},
   "outputs": [
    {
     "data": {
      "text/html": [
       "<div>\n",
       "<style scoped>\n",
       "    .dataframe tbody tr th:only-of-type {\n",
       "        vertical-align: middle;\n",
       "    }\n",
       "\n",
       "    .dataframe tbody tr th {\n",
       "        vertical-align: top;\n",
       "    }\n",
       "\n",
       "    .dataframe thead th {\n",
       "        text-align: right;\n",
       "    }\n",
       "</style>\n",
       "<table border=\"1\" class=\"dataframe\">\n",
       "  <thead>\n",
       "    <tr style=\"text-align: right;\">\n",
       "      <th></th>\n",
       "      <th>Unnamed: 0_x</th>\n",
       "      <th>ExternalReference</th>\n",
       "      <th>0_x</th>\n",
       "      <th>Unnamed: 0_y</th>\n",
       "      <th>0_y</th>\n",
       "    </tr>\n",
       "  </thead>\n",
       "  <tbody>\n",
       "    <tr>\n",
       "      <th>0</th>\n",
       "      <td>345</td>\n",
       "      <td>K571</td>\n",
       "      <td>1</td>\n",
       "      <td>267</td>\n",
       "      <td>1</td>\n",
       "    </tr>\n",
       "    <tr>\n",
       "      <th>1</th>\n",
       "      <td>459</td>\n",
       "      <td>K654</td>\n",
       "      <td>97</td>\n",
       "      <td>446</td>\n",
       "      <td>56</td>\n",
       "    </tr>\n",
       "    <tr>\n",
       "      <th>2</th>\n",
       "      <td>613</td>\n",
       "      <td>K704</td>\n",
       "      <td>7</td>\n",
       "      <td>456</td>\n",
       "      <td>56</td>\n",
       "    </tr>\n",
       "    <tr>\n",
       "      <th>3</th>\n",
       "      <td>619</td>\n",
       "      <td>K868</td>\n",
       "      <td>6</td>\n",
       "      <td>476</td>\n",
       "      <td>56</td>\n",
       "    </tr>\n",
       "    <tr>\n",
       "      <th>4</th>\n",
       "      <td>641</td>\n",
       "      <td>N059</td>\n",
       "      <td>43</td>\n",
       "      <td>491</td>\n",
       "      <td>56</td>\n",
       "    </tr>\n",
       "    <tr>\n",
       "      <th>5</th>\n",
       "      <td>690</td>\n",
       "      <td>K1058</td>\n",
       "      <td>10</td>\n",
       "      <td>523</td>\n",
       "      <td>56</td>\n",
       "    </tr>\n",
       "    <tr>\n",
       "      <th>6</th>\n",
       "      <td>692</td>\n",
       "      <td>N068</td>\n",
       "      <td>1</td>\n",
       "      <td>518</td>\n",
       "      <td>56</td>\n",
       "    </tr>\n",
       "    <tr>\n",
       "      <th>7</th>\n",
       "      <td>693</td>\n",
       "      <td>K1023</td>\n",
       "      <td>96</td>\n",
       "      <td>525</td>\n",
       "      <td>11</td>\n",
       "    </tr>\n",
       "    <tr>\n",
       "      <th>8</th>\n",
       "      <td>696</td>\n",
       "      <td>K1016</td>\n",
       "      <td>4</td>\n",
       "      <td>513</td>\n",
       "      <td>23</td>\n",
       "    </tr>\n",
       "    <tr>\n",
       "      <th>9</th>\n",
       "      <td>714</td>\n",
       "      <td>K1144</td>\n",
       "      <td>66</td>\n",
       "      <td>533</td>\n",
       "      <td>56</td>\n",
       "    </tr>\n",
       "    <tr>\n",
       "      <th>10</th>\n",
       "      <td>741</td>\n",
       "      <td>K1189</td>\n",
       "      <td>5</td>\n",
       "      <td>558</td>\n",
       "      <td>56</td>\n",
       "    </tr>\n",
       "  </tbody>\n",
       "</table>\n",
       "</div>"
      ],
      "text/plain": [
       "    Unnamed: 0_x ExternalReference  0_x  Unnamed: 0_y  0_y\n",
       "0            345              K571    1           267    1\n",
       "1            459              K654   97           446   56\n",
       "2            613              K704    7           456   56\n",
       "3            619              K868    6           476   56\n",
       "4            641              N059   43           491   56\n",
       "5            690             K1058   10           523   56\n",
       "6            692              N068    1           518   56\n",
       "7            693             K1023   96           525   11\n",
       "8            696             K1016    4           513   23\n",
       "9            714             K1144   66           533   56\n",
       "10           741             K1189    5           558   56"
      ]
     },
     "execution_count": 11,
     "metadata": {},
     "output_type": "execute_result"
    }
   ],
   "source": [
    "pre_post_merge"
   ]
  },
  {
   "cell_type": "code",
   "execution_count": 12,
   "id": "66d2ecbc-f543-40f5-bb7a-3dc1cb5a566f",
   "metadata": {},
   "outputs": [
    {
     "data": {
      "text/html": [
       "<div>\n",
       "<style scoped>\n",
       "    .dataframe tbody tr th:only-of-type {\n",
       "        vertical-align: middle;\n",
       "    }\n",
       "\n",
       "    .dataframe tbody tr th {\n",
       "        vertical-align: top;\n",
       "    }\n",
       "\n",
       "    .dataframe thead th {\n",
       "        text-align: right;\n",
       "    }\n",
       "</style>\n",
       "<table border=\"1\" class=\"dataframe\">\n",
       "  <thead>\n",
       "    <tr style=\"text-align: right;\">\n",
       "      <th></th>\n",
       "      <th>Unnamed: 0_x</th>\n",
       "      <th>ExternalReference</th>\n",
       "      <th>0_x</th>\n",
       "      <th>Unnamed: 0_y</th>\n",
       "      <th>0_y</th>\n",
       "    </tr>\n",
       "  </thead>\n",
       "  <tbody>\n",
       "    <tr>\n",
       "      <th>0</th>\n",
       "      <td>513</td>\n",
       "      <td>K1016</td>\n",
       "      <td>23</td>\n",
       "      <td>401</td>\n",
       "      <td>6</td>\n",
       "    </tr>\n",
       "  </tbody>\n",
       "</table>\n",
       "</div>"
      ],
      "text/plain": [
       "   Unnamed: 0_x ExternalReference  0_x  Unnamed: 0_y  0_y\n",
       "0           513             K1016   23           401    6"
      ]
     },
     "execution_count": 12,
     "metadata": {},
     "output_type": "execute_result"
    }
   ],
   "source": [
    "post_long_merge"
   ]
  },
  {
   "cell_type": "code",
   "execution_count": null,
   "id": "171d34e9-4d5d-4295-ab09-452079285a44",
   "metadata": {},
   "outputs": [],
   "source": []
  }
 ],
 "metadata": {
  "kernelspec": {
   "display_name": "Python 3",
   "language": "python",
   "name": "python3"
  },
  "language_info": {
   "codemirror_mode": {
    "name": "ipython",
    "version": 3
   },
   "file_extension": ".py",
   "mimetype": "text/x-python",
   "name": "python",
   "nbconvert_exporter": "python",
   "pygments_lexer": "ipython3",
   "version": "3.8.8"
  }
 },
 "nbformat": 4,
 "nbformat_minor": 5
}
