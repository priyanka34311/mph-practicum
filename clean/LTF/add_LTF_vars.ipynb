{
 "cells": [
  {
   "cell_type": "code",
   "execution_count": 1,
   "id": "79b44211-70e0-4be2-98e0-332c4c537762",
   "metadata": {},
   "outputs": [],
   "source": [
    "# Set up environment\n",
    "\n",
    "from IPython.core.interactiveshell import InteractiveShell\n",
    "InteractiveShell.ast_node_interactivity = \"all\"\n",
    "\n",
    "import pandas as pd\n",
    "import numpy as np\n",
    "import seaborn as sns"
   ]
  },
  {
   "cell_type": "code",
   "execution_count": 2,
   "id": "556ee084-fa53-4ef8-b471-d1705185ca63",
   "metadata": {
    "tags": []
   },
   "outputs": [
    {
     "data": {
      "text/plain": [
       "(758, 163)"
      ]
     },
     "execution_count": 2,
     "metadata": {},
     "output_type": "execute_result"
    },
    {
     "data": {
      "text/plain": [
       "(559, 82)"
      ]
     },
     "execution_count": 2,
     "metadata": {},
     "output_type": "execute_result"
    },
    {
     "data": {
      "text/plain": [
       "(439, 94)"
      ]
     },
     "execution_count": 2,
     "metadata": {},
     "output_type": "execute_result"
    }
   ],
   "source": [
    "# Read in datasets \n",
    "path = '/Users/priyankareddy/Desktop/Naloxone CSV/Cleaned Data/For Analyses/60% inclusion CCA - Baseline'\n",
    "pre = pd.read_csv(path+'/pre-training.csv',na_values=[-999,'-999',-888,'-888'])\n",
    "post = pd.read_csv(path+'/post-training.csv',na_values=[-999,'-999',-888,'-888'])\n",
    "long = pd.read_csv(path+'/long-term.csv',na_values=[-999,'-999',-888,'-888'])\n",
    "\n",
    "pre.shape\n",
    "post.shape\n",
    "long.shape\n",
    "\n",
    "#pre.info(verbose=True)"
   ]
  },
  {
   "cell_type": "code",
   "execution_count": 3,
   "id": "96646d9e-daf5-4f68-8621-44883251b511",
   "metadata": {},
   "outputs": [
    {
     "data": {
      "text/plain": [
       "numpy.ndarray"
      ]
     },
     "execution_count": 3,
     "metadata": {},
     "output_type": "execute_result"
    },
    {
     "data": {
      "text/plain": [
       "numpy.ndarray"
      ]
     },
     "execution_count": 3,
     "metadata": {},
     "output_type": "execute_result"
    },
    {
     "data": {
      "text/plain": [
       "199"
      ]
     },
     "execution_count": 3,
     "metadata": {},
     "output_type": "execute_result"
    }
   ],
   "source": [
    "# Find list of people who are LTF at 2 weeks\n",
    "\n",
    "base_id = pre['ExternalReference'].to_numpy()\n",
    "type(base_id)\n",
    "post_id = post['ExternalReference'].to_numpy()\n",
    "type(post_id)\n",
    "\n",
    "ltf_2wks = []\n",
    "ltf_2wks = np.setdiff1d(base_id,post_id)\n",
    "len(ltf_2wks)"
   ]
  },
  {
   "cell_type": "code",
   "execution_count": 4,
   "id": "68c84adb-0f30-490e-a01c-661580e65ba2",
   "metadata": {},
   "outputs": [
    {
     "data": {
      "text/html": [
       "<div>\n",
       "<style scoped>\n",
       "    .dataframe tbody tr th:only-of-type {\n",
       "        vertical-align: middle;\n",
       "    }\n",
       "\n",
       "    .dataframe tbody tr th {\n",
       "        vertical-align: top;\n",
       "    }\n",
       "\n",
       "    .dataframe thead th {\n",
       "        text-align: right;\n",
       "    }\n",
       "</style>\n",
       "<table border=\"1\" class=\"dataframe\">\n",
       "  <thead>\n",
       "    <tr style=\"text-align: right;\">\n",
       "      <th></th>\n",
       "      <th>753</th>\n",
       "      <th>754</th>\n",
       "      <th>755</th>\n",
       "      <th>756</th>\n",
       "      <th>757</th>\n",
       "    </tr>\n",
       "  </thead>\n",
       "  <tbody>\n",
       "    <tr>\n",
       "      <th>ExternalReference</th>\n",
       "      <td>K1295</td>\n",
       "      <td>K1277</td>\n",
       "      <td>K1319</td>\n",
       "      <td>K1312</td>\n",
       "      <td>K1305</td>\n",
       "    </tr>\n",
       "    <tr>\n",
       "      <th>Status</th>\n",
       "      <td>2</td>\n",
       "      <td>2</td>\n",
       "      <td>2</td>\n",
       "      <td>2</td>\n",
       "      <td>2</td>\n",
       "    </tr>\n",
       "    <tr>\n",
       "      <th>Student</th>\n",
       "      <td>NaN</td>\n",
       "      <td>NaN</td>\n",
       "      <td>NaN</td>\n",
       "      <td>NaN</td>\n",
       "      <td>NaN</td>\n",
       "    </tr>\n",
       "    <tr>\n",
       "      <th>Staff</th>\n",
       "      <td>1.0</td>\n",
       "      <td>1.0</td>\n",
       "      <td>1.0</td>\n",
       "      <td>1.0</td>\n",
       "      <td>NaN</td>\n",
       "    </tr>\n",
       "    <tr>\n",
       "      <th>Faculty</th>\n",
       "      <td>NaN</td>\n",
       "      <td>NaN</td>\n",
       "      <td>NaN</td>\n",
       "      <td>1.0</td>\n",
       "      <td>1.0</td>\n",
       "    </tr>\n",
       "    <tr>\n",
       "      <th>...</th>\n",
       "      <td>...</td>\n",
       "      <td>...</td>\n",
       "      <td>...</td>\n",
       "      <td>...</td>\n",
       "      <td>...</td>\n",
       "    </tr>\n",
       "    <tr>\n",
       "      <th>Q43</th>\n",
       "      <td>3.0</td>\n",
       "      <td>2.0</td>\n",
       "      <td>3.0</td>\n",
       "      <td>2.0</td>\n",
       "      <td>2.0</td>\n",
       "    </tr>\n",
       "    <tr>\n",
       "      <th>Session</th>\n",
       "      <td>25</td>\n",
       "      <td>25</td>\n",
       "      <td>26</td>\n",
       "      <td>26</td>\n",
       "      <td>26</td>\n",
       "    </tr>\n",
       "    <tr>\n",
       "      <th>Session_Type</th>\n",
       "      <td>1</td>\n",
       "      <td>1</td>\n",
       "      <td>1</td>\n",
       "      <td>1</td>\n",
       "      <td>1</td>\n",
       "    </tr>\n",
       "    <tr>\n",
       "      <th>Survey_Type</th>\n",
       "      <td>1</td>\n",
       "      <td>1</td>\n",
       "      <td>1</td>\n",
       "      <td>1</td>\n",
       "      <td>1</td>\n",
       "    </tr>\n",
       "    <tr>\n",
       "      <th>LTF_2wks</th>\n",
       "      <td>NaN</td>\n",
       "      <td>NaN</td>\n",
       "      <td>NaN</td>\n",
       "      <td>NaN</td>\n",
       "      <td>NaN</td>\n",
       "    </tr>\n",
       "  </tbody>\n",
       "</table>\n",
       "<p>164 rows × 5 columns</p>\n",
       "</div>"
      ],
      "text/plain": [
       "                     753    754    755    756    757\n",
       "ExternalReference  K1295  K1277  K1319  K1312  K1305\n",
       "Status                 2      2      2      2      2\n",
       "Student              NaN    NaN    NaN    NaN    NaN\n",
       "Staff                1.0    1.0    1.0    1.0    NaN\n",
       "Faculty              NaN    NaN    NaN    1.0    1.0\n",
       "...                  ...    ...    ...    ...    ...\n",
       "Q43                  3.0    2.0    3.0    2.0    2.0\n",
       "Session               25     25     26     26     26\n",
       "Session_Type           1      1      1      1      1\n",
       "Survey_Type            1      1      1      1      1\n",
       "LTF_2wks             NaN    NaN    NaN    NaN    NaN\n",
       "\n",
       "[164 rows x 5 columns]"
      ]
     },
     "execution_count": 4,
     "metadata": {},
     "output_type": "execute_result"
    }
   ],
   "source": [
    "pre.insert(163,\"LTF_2wks\",np.nan,True)\n",
    "pre.tail().T"
   ]
  },
  {
   "cell_type": "code",
   "execution_count": 5,
   "id": "86d7028b-cfbf-45a9-b322-6091186df75b",
   "metadata": {},
   "outputs": [
    {
     "data": {
      "text/plain": [
       "'K124'"
      ]
     },
     "execution_count": 5,
     "metadata": {},
     "output_type": "execute_result"
    }
   ],
   "source": [
    "base_extref = pre['ExternalReference']\n",
    "base_extref[0]"
   ]
  },
  {
   "cell_type": "code",
   "execution_count": 6,
   "id": "59b16de2-325b-4dde-ad89-49c682481093",
   "metadata": {},
   "outputs": [],
   "source": [
    "for i in range(758):\n",
    "    if base_extref[i] in ltf_2wks:\n",
    "        pre.loc[i,'LTF_2wks'] = int(1)\n",
    "    else:\n",
    "        pre.loc[i,'LTF_2wks'] = int(0)"
   ]
  },
  {
   "cell_type": "code",
   "execution_count": 7,
   "id": "46a88695-60fa-4f3a-b893-73e6d70da15d",
   "metadata": {},
   "outputs": [
    {
     "data": {
      "text/plain": [
       "0.0    559\n",
       "1.0    199\n",
       "Name: LTF_2wks, dtype: int64"
      ]
     },
     "execution_count": 7,
     "metadata": {},
     "output_type": "execute_result"
    }
   ],
   "source": [
    "pre['LTF_2wks'].value_counts()"
   ]
  },
  {
   "cell_type": "code",
   "execution_count": 8,
   "id": "73bbaa98-a73b-43f3-b403-58970c7282e7",
   "metadata": {},
   "outputs": [
    {
     "data": {
      "text/plain": [
       "numpy.ndarray"
      ]
     },
     "execution_count": 8,
     "metadata": {},
     "output_type": "execute_result"
    },
    {
     "data": {
      "text/plain": [
       "numpy.ndarray"
      ]
     },
     "execution_count": 8,
     "metadata": {},
     "output_type": "execute_result"
    },
    {
     "data": {
      "text/plain": [
       "319"
      ]
     },
     "execution_count": 8,
     "metadata": {},
     "output_type": "execute_result"
    }
   ],
   "source": [
    "# Find list of people who are LTF at 6 months\n",
    "\n",
    "base_id = pre['ExternalReference'].to_numpy()\n",
    "type(base_id)\n",
    "long_id = long['ExternalReference'].to_numpy()\n",
    "type(long_id)\n",
    "\n",
    "ltf_6mo = []\n",
    "ltf_6mo = np.setdiff1d(base_id,long_id)\n",
    "len(ltf_6mo)"
   ]
  },
  {
   "cell_type": "code",
   "execution_count": 9,
   "id": "bea01456-5ab2-4a75-b141-7f5fd95f4e7d",
   "metadata": {},
   "outputs": [
    {
     "data": {
      "text/html": [
       "<div>\n",
       "<style scoped>\n",
       "    .dataframe tbody tr th:only-of-type {\n",
       "        vertical-align: middle;\n",
       "    }\n",
       "\n",
       "    .dataframe tbody tr th {\n",
       "        vertical-align: top;\n",
       "    }\n",
       "\n",
       "    .dataframe thead th {\n",
       "        text-align: right;\n",
       "    }\n",
       "</style>\n",
       "<table border=\"1\" class=\"dataframe\">\n",
       "  <thead>\n",
       "    <tr style=\"text-align: right;\">\n",
       "      <th></th>\n",
       "      <th>753</th>\n",
       "      <th>754</th>\n",
       "      <th>755</th>\n",
       "      <th>756</th>\n",
       "      <th>757</th>\n",
       "    </tr>\n",
       "  </thead>\n",
       "  <tbody>\n",
       "    <tr>\n",
       "      <th>ExternalReference</th>\n",
       "      <td>K1295</td>\n",
       "      <td>K1277</td>\n",
       "      <td>K1319</td>\n",
       "      <td>K1312</td>\n",
       "      <td>K1305</td>\n",
       "    </tr>\n",
       "    <tr>\n",
       "      <th>Status</th>\n",
       "      <td>2</td>\n",
       "      <td>2</td>\n",
       "      <td>2</td>\n",
       "      <td>2</td>\n",
       "      <td>2</td>\n",
       "    </tr>\n",
       "    <tr>\n",
       "      <th>Student</th>\n",
       "      <td>NaN</td>\n",
       "      <td>NaN</td>\n",
       "      <td>NaN</td>\n",
       "      <td>NaN</td>\n",
       "      <td>NaN</td>\n",
       "    </tr>\n",
       "    <tr>\n",
       "      <th>Staff</th>\n",
       "      <td>1.0</td>\n",
       "      <td>1.0</td>\n",
       "      <td>1.0</td>\n",
       "      <td>1.0</td>\n",
       "      <td>NaN</td>\n",
       "    </tr>\n",
       "    <tr>\n",
       "      <th>Faculty</th>\n",
       "      <td>NaN</td>\n",
       "      <td>NaN</td>\n",
       "      <td>NaN</td>\n",
       "      <td>1.0</td>\n",
       "      <td>1.0</td>\n",
       "    </tr>\n",
       "    <tr>\n",
       "      <th>...</th>\n",
       "      <td>...</td>\n",
       "      <td>...</td>\n",
       "      <td>...</td>\n",
       "      <td>...</td>\n",
       "      <td>...</td>\n",
       "    </tr>\n",
       "    <tr>\n",
       "      <th>Session</th>\n",
       "      <td>25</td>\n",
       "      <td>25</td>\n",
       "      <td>26</td>\n",
       "      <td>26</td>\n",
       "      <td>26</td>\n",
       "    </tr>\n",
       "    <tr>\n",
       "      <th>Session_Type</th>\n",
       "      <td>1</td>\n",
       "      <td>1</td>\n",
       "      <td>1</td>\n",
       "      <td>1</td>\n",
       "      <td>1</td>\n",
       "    </tr>\n",
       "    <tr>\n",
       "      <th>Survey_Type</th>\n",
       "      <td>1</td>\n",
       "      <td>1</td>\n",
       "      <td>1</td>\n",
       "      <td>1</td>\n",
       "      <td>1</td>\n",
       "    </tr>\n",
       "    <tr>\n",
       "      <th>LTF_2wks</th>\n",
       "      <td>0.0</td>\n",
       "      <td>0.0</td>\n",
       "      <td>0.0</td>\n",
       "      <td>0.0</td>\n",
       "      <td>1.0</td>\n",
       "    </tr>\n",
       "    <tr>\n",
       "      <th>LTF_6mo</th>\n",
       "      <td>NaN</td>\n",
       "      <td>NaN</td>\n",
       "      <td>NaN</td>\n",
       "      <td>NaN</td>\n",
       "      <td>NaN</td>\n",
       "    </tr>\n",
       "  </tbody>\n",
       "</table>\n",
       "<p>165 rows × 5 columns</p>\n",
       "</div>"
      ],
      "text/plain": [
       "                     753    754    755    756    757\n",
       "ExternalReference  K1295  K1277  K1319  K1312  K1305\n",
       "Status                 2      2      2      2      2\n",
       "Student              NaN    NaN    NaN    NaN    NaN\n",
       "Staff                1.0    1.0    1.0    1.0    NaN\n",
       "Faculty              NaN    NaN    NaN    1.0    1.0\n",
       "...                  ...    ...    ...    ...    ...\n",
       "Session               25     25     26     26     26\n",
       "Session_Type           1      1      1      1      1\n",
       "Survey_Type            1      1      1      1      1\n",
       "LTF_2wks             0.0    0.0    0.0    0.0    1.0\n",
       "LTF_6mo              NaN    NaN    NaN    NaN    NaN\n",
       "\n",
       "[165 rows x 5 columns]"
      ]
     },
     "execution_count": 9,
     "metadata": {},
     "output_type": "execute_result"
    }
   ],
   "source": [
    "pre.insert(164,\"LTF_6mo\",np.nan,False)\n",
    "pre.tail().T"
   ]
  },
  {
   "cell_type": "code",
   "execution_count": 10,
   "id": "2673ed27-bcec-4064-9453-f791c285763c",
   "metadata": {},
   "outputs": [],
   "source": [
    "for i in range(758):\n",
    "    if base_extref[i] in ltf_6mo:\n",
    "        pre.loc[i,'LTF_6mo'] = int(1)\n",
    "    else:\n",
    "        pre.loc[i,'LTF_6mo'] = int(0)"
   ]
  },
  {
   "cell_type": "code",
   "execution_count": 11,
   "id": "e2da063d-5110-427e-ba12-6dcba01b1f42",
   "metadata": {},
   "outputs": [
    {
     "data": {
      "text/plain": [
       "0.0    439\n",
       "1.0    319\n",
       "Name: LTF_6mo, dtype: int64"
      ]
     },
     "execution_count": 11,
     "metadata": {},
     "output_type": "execute_result"
    }
   ],
   "source": [
    "pre['LTF_6mo'].value_counts()"
   ]
  },
  {
   "cell_type": "code",
   "execution_count": 12,
   "id": "10e7106d-a19f-4d51-9025-0de0653ed4d9",
   "metadata": {},
   "outputs": [
    {
     "data": {
      "text/html": [
       "<div>\n",
       "<style scoped>\n",
       "    .dataframe tbody tr th:only-of-type {\n",
       "        vertical-align: middle;\n",
       "    }\n",
       "\n",
       "    .dataframe tbody tr th {\n",
       "        vertical-align: top;\n",
       "    }\n",
       "\n",
       "    .dataframe thead th {\n",
       "        text-align: right;\n",
       "    }\n",
       "</style>\n",
       "<table border=\"1\" class=\"dataframe\">\n",
       "  <thead>\n",
       "    <tr style=\"text-align: right;\">\n",
       "      <th></th>\n",
       "      <th>753</th>\n",
       "      <th>754</th>\n",
       "      <th>755</th>\n",
       "      <th>756</th>\n",
       "      <th>757</th>\n",
       "    </tr>\n",
       "  </thead>\n",
       "  <tbody>\n",
       "    <tr>\n",
       "      <th>ExternalReference</th>\n",
       "      <td>K1295</td>\n",
       "      <td>K1277</td>\n",
       "      <td>K1319</td>\n",
       "      <td>K1312</td>\n",
       "      <td>K1305</td>\n",
       "    </tr>\n",
       "    <tr>\n",
       "      <th>Status</th>\n",
       "      <td>2</td>\n",
       "      <td>2</td>\n",
       "      <td>2</td>\n",
       "      <td>2</td>\n",
       "      <td>2</td>\n",
       "    </tr>\n",
       "    <tr>\n",
       "      <th>Student</th>\n",
       "      <td>NaN</td>\n",
       "      <td>NaN</td>\n",
       "      <td>NaN</td>\n",
       "      <td>NaN</td>\n",
       "      <td>NaN</td>\n",
       "    </tr>\n",
       "    <tr>\n",
       "      <th>Staff</th>\n",
       "      <td>1.0</td>\n",
       "      <td>1.0</td>\n",
       "      <td>1.0</td>\n",
       "      <td>1.0</td>\n",
       "      <td>NaN</td>\n",
       "    </tr>\n",
       "    <tr>\n",
       "      <th>Faculty</th>\n",
       "      <td>NaN</td>\n",
       "      <td>NaN</td>\n",
       "      <td>NaN</td>\n",
       "      <td>1.0</td>\n",
       "      <td>1.0</td>\n",
       "    </tr>\n",
       "    <tr>\n",
       "      <th>...</th>\n",
       "      <td>...</td>\n",
       "      <td>...</td>\n",
       "      <td>...</td>\n",
       "      <td>...</td>\n",
       "      <td>...</td>\n",
       "    </tr>\n",
       "    <tr>\n",
       "      <th>Session</th>\n",
       "      <td>25</td>\n",
       "      <td>25</td>\n",
       "      <td>26</td>\n",
       "      <td>26</td>\n",
       "      <td>26</td>\n",
       "    </tr>\n",
       "    <tr>\n",
       "      <th>Session_Type</th>\n",
       "      <td>1</td>\n",
       "      <td>1</td>\n",
       "      <td>1</td>\n",
       "      <td>1</td>\n",
       "      <td>1</td>\n",
       "    </tr>\n",
       "    <tr>\n",
       "      <th>Survey_Type</th>\n",
       "      <td>1</td>\n",
       "      <td>1</td>\n",
       "      <td>1</td>\n",
       "      <td>1</td>\n",
       "      <td>1</td>\n",
       "    </tr>\n",
       "    <tr>\n",
       "      <th>LTF_2wks</th>\n",
       "      <td>0.0</td>\n",
       "      <td>0.0</td>\n",
       "      <td>0.0</td>\n",
       "      <td>0.0</td>\n",
       "      <td>1.0</td>\n",
       "    </tr>\n",
       "    <tr>\n",
       "      <th>LTF_6mo</th>\n",
       "      <td>1.0</td>\n",
       "      <td>1.0</td>\n",
       "      <td>1.0</td>\n",
       "      <td>1.0</td>\n",
       "      <td>1.0</td>\n",
       "    </tr>\n",
       "  </tbody>\n",
       "</table>\n",
       "<p>165 rows × 5 columns</p>\n",
       "</div>"
      ],
      "text/plain": [
       "                     753    754    755    756    757\n",
       "ExternalReference  K1295  K1277  K1319  K1312  K1305\n",
       "Status                 2      2      2      2      2\n",
       "Student              NaN    NaN    NaN    NaN    NaN\n",
       "Staff                1.0    1.0    1.0    1.0    NaN\n",
       "Faculty              NaN    NaN    NaN    1.0    1.0\n",
       "...                  ...    ...    ...    ...    ...\n",
       "Session               25     25     26     26     26\n",
       "Session_Type           1      1      1      1      1\n",
       "Survey_Type            1      1      1      1      1\n",
       "LTF_2wks             0.0    0.0    0.0    0.0    1.0\n",
       "LTF_6mo              1.0    1.0    1.0    1.0    1.0\n",
       "\n",
       "[165 rows x 5 columns]"
      ]
     },
     "execution_count": 12,
     "metadata": {},
     "output_type": "execute_result"
    }
   ],
   "source": [
    "pre.tail().T"
   ]
  },
  {
   "cell_type": "code",
   "execution_count": 13,
   "id": "f273e418-9a3b-49e5-8628-e3f5d9033d14",
   "metadata": {},
   "outputs": [],
   "source": [
    "pre.to_csv('pre-training-LTF.csv',index=False)"
   ]
  },
  {
   "cell_type": "code",
   "execution_count": 14,
   "id": "18351738-101d-4215-9626-723979d9ca56",
   "metadata": {},
   "outputs": [
    {
     "name": "stdout",
     "output_type": "stream",
     "text": [
      "<class 'pandas.core.frame.DataFrame'>\n",
      "RangeIndex: 758 entries, 0 to 757\n",
      "Data columns (total 165 columns):\n",
      " #    Column                 Non-Null Count  Dtype  \n",
      "---   ------                 --------------  -----  \n",
      " 0    ExternalReference      758 non-null    object \n",
      " 1    Status                 758 non-null    int64  \n",
      " 2    Student                542 non-null    float64\n",
      " 3    Staff                  218 non-null    float64\n",
      " 4    Faculty                23 non-null     float64\n",
      " 5    StartDate              758 non-null    object \n",
      " 6    EndDate                758 non-null    object \n",
      " 7    Progress               758 non-null    int64  \n",
      " 8    Duration__in_seconds_  758 non-null    int64  \n",
      " 9    Finished               758 non-null    int64  \n",
      " 10   RecordedDate           758 non-null    object \n",
      " 11   Q3                     542 non-null    float64\n",
      " 12   Q4_1                   109 non-null    float64\n",
      " 13   Q4_2                   120 non-null    float64\n",
      " 14   Q4_3                   133 non-null    float64\n",
      " 15   Q4_4                   25 non-null     float64\n",
      " 16   Q4_5                   99 non-null     float64\n",
      " 17   Q4_6                   35 non-null     float64\n",
      " 18   Q4_7                   12 non-null     float64\n",
      " 19   Q4_8                   26 non-null     float64\n",
      " 20   Q4_9                   6 non-null      float64\n",
      " 21   Q4_10                  230 non-null    float64\n",
      " 22   Q4_10_TEXT             226 non-null    object \n",
      " 23   Q5                     44 non-null     float64\n",
      " 24   Q6                     101 non-null    float64\n",
      " 25   Q7                     15 non-null     float64\n",
      " 26   Q8                     757 non-null    float64\n",
      " 27   Q8_333_TEXT            9 non-null      object \n",
      " 28   Q9_1                   427 non-null    float64\n",
      " 29   Q9_2                   118 non-null    float64\n",
      " 30   Q9_3                   20 non-null     float64\n",
      " 31   Q9_4                   178 non-null    float64\n",
      " 32   Q9_5                   5 non-null      float64\n",
      " 33   Q9_333                 49 non-null     float64\n",
      " 34   Q9_333_TEXT            47 non-null     object \n",
      " 35   Q10                    745 non-null    float64\n",
      " 36   Q11                    740 non-null    float64\n",
      " 37   Q12_1                  319 non-null    float64\n",
      " 38   Q12_2                  80 non-null     float64\n",
      " 39   Q12_3                  70 non-null     float64\n",
      " 40   Q12_333                63 non-null     float64\n",
      " 41   Q12_333_TEXT           63 non-null     object \n",
      " 42   Q13_1                  756 non-null    float64\n",
      " 43   Q13_2                  756 non-null    float64\n",
      " 44   Q13_3                  756 non-null    float64\n",
      " 45   Q13_4                  565 non-null    float64\n",
      " 46   Q14_1                  756 non-null    float64\n",
      " 47   Q14_2                  756 non-null    float64\n",
      " 48   Q14_3                  756 non-null    float64\n",
      " 49   Q14_4                  756 non-null    float64\n",
      " 50   Q15_1                  755 non-null    float64\n",
      " 51   Q15_2                  756 non-null    float64\n",
      " 52   Q15_3                  756 non-null    float64\n",
      " 53   Q15_4                  756 non-null    float64\n",
      " 54   Q16                    758 non-null    int64  \n",
      " 55   Q17_1                  49 non-null     float64\n",
      " 56   Q17_2                  19 non-null     float64\n",
      " 57   Q17_3                  29 non-null     float64\n",
      " 58   Q17_4                  13 non-null     float64\n",
      " 59   Q17_333                3 non-null      float64\n",
      " 60   Q17_333_TEXT           3 non-null      object \n",
      " 61   Q18                    70 non-null     float64\n",
      " 62   Q19                    757 non-null    float64\n",
      " 63   Q19_1_TEXT             48 non-null     object \n",
      " 64   Q20                    757 non-null    float64\n",
      " 65   Q20_1_TEXT             40 non-null     object \n",
      " 66   Q21                    757 non-null    float64\n",
      " 67   Q21_1_TEXT             136 non-null    object \n",
      " 68   Q22_1                  36 non-null     float64\n",
      " 69   Q22_2                  67 non-null     float64\n",
      " 70   Q22_3                  28 non-null     float64\n",
      " 71   Q22_333                33 non-null     float64\n",
      " 72   Q22_333_TEXT           32 non-null     object \n",
      " 73   Q23                    755 non-null    float64\n",
      " 74   Q23_1_TEXT             105 non-null    object \n",
      " 75   Q24_1                  23 non-null     float64\n",
      " 76   Q24_2                  53 non-null     float64\n",
      " 77   Q24_3                  20 non-null     float64\n",
      " 78   Q24_333                28 non-null     float64\n",
      " 79   Q24_333_TEXT           26 non-null     object \n",
      " 80   Q25_1                  754 non-null    float64\n",
      " 81   Q25_2                  754 non-null    float64\n",
      " 82   Q25_3                  753 non-null    float64\n",
      " 83   Q25_4                  754 non-null    float64\n",
      " 84   Q25_5                  754 non-null    float64\n",
      " 85   Q25_6                  754 non-null    float64\n",
      " 86   Q26                    757 non-null    float64\n",
      " 87   Q27_1                  754 non-null    float64\n",
      " 88   Q27_2                  754 non-null    float64\n",
      " 89   Q27_3                  753 non-null    float64\n",
      " 90   Q27_4                  752 non-null    float64\n",
      " 91   Q27_5                  753 non-null    float64\n",
      " 92   Q27_6                  753 non-null    float64\n",
      " 93   Q28_1                  753 non-null    float64\n",
      " 94   Q28_2                  192 non-null    float64\n",
      " 95   Q28_3                  191 non-null    float64\n",
      " 96   Q28_4                  753 non-null    float64\n",
      " 97   Q28_5                  752 non-null    float64\n",
      " 98   Q28_6                  752 non-null    float64\n",
      " 99   Q28_7                  751 non-null    float64\n",
      " 100  Q28_8                  751 non-null    float64\n",
      " 101  Q29_1                  751 non-null    float64\n",
      " 102  Q29_2                  752 non-null    float64\n",
      " 103  Q29_3                  752 non-null    float64\n",
      " 104  Q29_4                  752 non-null    float64\n",
      " 105  Q29_5                  751 non-null    float64\n",
      " 106  Q29_6                  750 non-null    float64\n",
      " 107  Q29_7                  751 non-null    float64\n",
      " 108  Q29_8                  750 non-null    float64\n",
      " 109  Q30_1                  750 non-null    float64\n",
      " 110  Q30_2                  751 non-null    float64\n",
      " 111  Q30_3                  751 non-null    float64\n",
      " 112  Q30_4                  751 non-null    float64\n",
      " 113  Q30_5                  751 non-null    float64\n",
      " 114  Q30_6                  751 non-null    float64\n",
      " 115  Q30_7                  751 non-null    float64\n",
      " 116  Q30_8                  191 non-null    float64\n",
      " 117  Q30_9                  751 non-null    float64\n",
      " 118  Q30_10                 750 non-null    float64\n",
      " 119  Q31_1                  192 non-null    float64\n",
      " 120  Q31_2                  192 non-null    float64\n",
      " 121  Q31_3                  192 non-null    float64\n",
      " 122  Q31_4                  192 non-null    float64\n",
      " 123  Q32_1                  751 non-null    float64\n",
      " 124  Q32_2                  752 non-null    float64\n",
      " 125  Q32_3                  751 non-null    float64\n",
      " 126  Q32_4                  751 non-null    float64\n",
      " 127  Q33_1                  752 non-null    float64\n",
      " 128  Q33_2                  192 non-null    float64\n",
      " 129  Q33_3                  751 non-null    float64\n",
      " 130  Q33_4                  192 non-null    float64\n",
      " 131  Q33_5                  191 non-null    float64\n",
      " 132  Q33_6                  192 non-null    float64\n",
      " 133  Q33_7                  752 non-null    float64\n",
      " 134  Q33_8                  191 non-null    float64\n",
      " 135  Q34_1                  564 non-null    float64\n",
      " 136  Q34_2                  564 non-null    float64\n",
      " 137  Q34_3                  564 non-null    float64\n",
      " 138  Q34_4                  562 non-null    float64\n",
      " 139  Q34_5                  563 non-null    float64\n",
      " 140  Q34_6                  563 non-null    float64\n",
      " 141  Q34_7                  564 non-null    float64\n",
      " 142  Q35_1                  563 non-null    float64\n",
      " 143  Q35_2                  562 non-null    float64\n",
      " 144  Q35_3                  563 non-null    float64\n",
      " 145  Q35_4                  562 non-null    float64\n",
      " 146  Q35_5                  563 non-null    float64\n",
      " 147  Q35_6                  562 non-null    float64\n",
      " 148  Q35_7                  563 non-null    float64\n",
      " 149  Q35_8                  562 non-null    float64\n",
      " 150  Q35_9                  563 non-null    float64\n",
      " 151  Q35_10                 563 non-null    float64\n",
      " 152  Q36                    561 non-null    float64\n",
      " 153  Q37                    563 non-null    float64\n",
      " 154  Q38                    562 non-null    float64\n",
      " 155  Q39                    563 non-null    float64\n",
      " 156  Q40                    561 non-null    float64\n",
      " 157  Q41                    561 non-null    float64\n",
      " 158  Q42                    563 non-null    float64\n",
      " 159  Q43                    563 non-null    float64\n",
      " 160  Session                758 non-null    int64  \n",
      " 161  Session_Type           758 non-null    int64  \n",
      " 162  Survey_Type            758 non-null    int64  \n",
      " 163  LTF_2wks               758 non-null    float64\n",
      " 164  LTF_6mo                758 non-null    float64\n",
      "dtypes: float64(142), int64(8), object(15)\n",
      "memory usage: 977.2+ KB\n"
     ]
    }
   ],
   "source": [
    "pre.info(verbose=True,show_counts=True)"
   ]
  },
  {
   "cell_type": "code",
   "execution_count": null,
   "id": "aeef8e0a-0814-4c19-9d63-995aacc54aac",
   "metadata": {},
   "outputs": [],
   "source": [
    "pre"
   ]
  },
  {
   "cell_type": "code",
   "execution_count": null,
   "id": "4931e322-68bf-494a-bc2c-cfc4e61316d0",
   "metadata": {},
   "outputs": [],
   "source": []
  },
  {
   "cell_type": "code",
   "execution_count": null,
   "id": "a3d474b4-57cf-4018-a909-d85aac211340",
   "metadata": {},
   "outputs": [],
   "source": []
  }
 ],
 "metadata": {
  "kernelspec": {
   "display_name": "Python 3",
   "language": "python",
   "name": "python3"
  },
  "language_info": {
   "codemirror_mode": {
    "name": "ipython",
    "version": 3
   },
   "file_extension": ".py",
   "mimetype": "text/x-python",
   "name": "python",
   "nbconvert_exporter": "python",
   "pygments_lexer": "ipython3",
   "version": "3.8.8"
  }
 },
 "nbformat": 4,
 "nbformat_minor": 5
}
