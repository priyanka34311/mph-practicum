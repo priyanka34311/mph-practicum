{
 "cells": [
  {
   "cell_type": "code",
   "execution_count": 5,
   "id": "00fb304d-1261-4b79-8391-607b009a1d0b",
   "metadata": {},
   "outputs": [],
   "source": [
    "#Set up environment\n",
    "\n",
    "from IPython.core.interactiveshell import InteractiveShell\n",
    "InteractiveShell.ast_node_interactivity = \"all\"\n",
    "\n",
    "import pandas as pd\n",
    "import numpy as np\n",
    "import seaborn as sns"
   ]
  },
  {
   "cell_type": "code",
   "execution_count": 6,
   "id": "ee37479a-f40b-4dee-8d4c-d6bca5e8b68f",
   "metadata": {},
   "outputs": [],
   "source": [
    "pretrain = pd.read_csv('pretraining_mv_handled.csv')"
   ]
  },
  {
   "cell_type": "code",
   "execution_count": 7,
   "id": "7de86807-8044-445c-aa8b-e552d8615cff",
   "metadata": {},
   "outputs": [
    {
     "data": {
      "text/plain": [
       "(769,)"
      ]
     },
     "execution_count": 7,
     "metadata": {},
     "output_type": "execute_result"
    }
   ],
   "source": [
    "extref = pretrain['ExternalReference']\n",
    "extref.shape"
   ]
  },
  {
   "cell_type": "code",
   "execution_count": 8,
   "id": "8bdf7412-c28c-4f1a-8589-b29dd98837e3",
   "metadata": {},
   "outputs": [
    {
     "data": {
      "text/plain": [
       "(769,)"
      ]
     },
     "execution_count": 8,
     "metadata": {},
     "output_type": "execute_result"
    },
    {
     "data": {
      "text/plain": [
       " 1      736\n",
       " 0       30\n",
       "-999      3\n",
       "Name: Q26, dtype: int64"
      ]
     },
     "execution_count": 8,
     "metadata": {},
     "output_type": "execute_result"
    }
   ],
   "source": [
    "Q26 = pretrain['Q26']\n",
    "Q26.shape\n",
    "Q26.value_counts()"
   ]
  },
  {
   "cell_type": "code",
   "execution_count": 9,
   "id": "cb9d16b2-565c-4874-a7dd-ce9999a150c0",
   "metadata": {},
   "outputs": [
    {
     "name": "stdout",
     "output_type": "stream",
     "text": [
      "175\n",
      "179\n",
      "190\n",
      "300\n",
      "341\n",
      "345\n",
      "346\n",
      "365\n",
      "369\n",
      "372\n",
      "401\n",
      "436\n",
      "439\n",
      "499\n",
      "653\n",
      "672\n",
      "718\n",
      "737\n"
     ]
    }
   ],
   "source": [
    "for l in range(769):\n",
    "    ID = extref[l]\n",
    "    first = ID[:1]\n",
    "    if ((first == 'K')|(first == 'D')) & ((Q26[l]==0)|(Q26[l]==-999)):\n",
    "        print(l)"
   ]
  },
  {
   "cell_type": "code",
   "execution_count": 10,
   "id": "386d4db0-ce75-40ab-bf05-3fd68d037ebb",
   "metadata": {},
   "outputs": [
    {
     "data": {
      "text/plain": [
       "ExternalReference    K465\n",
       "Q26                     0\n",
       "Name: 175, dtype: object"
      ]
     },
     "execution_count": 10,
     "metadata": {},
     "output_type": "execute_result"
    },
    {
     "data": {
      "text/plain": [
       "ExternalReference    K476\n",
       "Q26                     0\n",
       "Name: 179, dtype: object"
      ]
     },
     "execution_count": 10,
     "metadata": {},
     "output_type": "execute_result"
    },
    {
     "data": {
      "text/plain": [
       "ExternalReference    K470\n",
       "Q26                     0\n",
       "Name: 190, dtype: object"
      ]
     },
     "execution_count": 10,
     "metadata": {},
     "output_type": "execute_result"
    },
    {
     "data": {
      "text/plain": [
       "ExternalReference    K410\n",
       "Q26                     0\n",
       "Name: 300, dtype: object"
      ]
     },
     "execution_count": 10,
     "metadata": {},
     "output_type": "execute_result"
    },
    {
     "data": {
      "text/plain": [
       "ExternalReference    K561\n",
       "Q26                     0\n",
       "Name: 341, dtype: object"
      ]
     },
     "execution_count": 10,
     "metadata": {},
     "output_type": "execute_result"
    },
    {
     "data": {
      "text/plain": [
       "ExternalReference    K571\n",
       "Q26                     0\n",
       "Name: 345, dtype: object"
      ]
     },
     "execution_count": 10,
     "metadata": {},
     "output_type": "execute_result"
    },
    {
     "data": {
      "text/plain": [
       "ExternalReference    K582\n",
       "Q26                     0\n",
       "Name: 346, dtype: object"
      ]
     },
     "execution_count": 10,
     "metadata": {},
     "output_type": "execute_result"
    },
    {
     "data": {
      "text/plain": [
       "ExternalReference    K557\n",
       "Q26                     0\n",
       "Name: 365, dtype: object"
      ]
     },
     "execution_count": 10,
     "metadata": {},
     "output_type": "execute_result"
    },
    {
     "data": {
      "text/plain": [
       "ExternalReference    K562\n",
       "Q26                     0\n",
       "Name: 369, dtype: object"
      ]
     },
     "execution_count": 10,
     "metadata": {},
     "output_type": "execute_result"
    },
    {
     "data": {
      "text/plain": [
       "ExternalReference    K559\n",
       "Q26                     0\n",
       "Name: 372, dtype: object"
      ]
     },
     "execution_count": 10,
     "metadata": {},
     "output_type": "execute_result"
    },
    {
     "data": {
      "text/plain": [
       "ExternalReference    K050\n",
       "Q26                     0\n",
       "Name: 401, dtype: object"
      ]
     },
     "execution_count": 10,
     "metadata": {},
     "output_type": "execute_result"
    },
    {
     "data": {
      "text/plain": [
       "ExternalReference    K008\n",
       "Q26                     0\n",
       "Name: 436, dtype: object"
      ]
     },
     "execution_count": 10,
     "metadata": {},
     "output_type": "execute_result"
    },
    {
     "data": {
      "text/plain": [
       "ExternalReference    K058\n",
       "Q26                     0\n",
       "Name: 439, dtype: object"
      ]
     },
     "execution_count": 10,
     "metadata": {},
     "output_type": "execute_result"
    },
    {
     "data": {
      "text/plain": [
       "ExternalReference    K817\n",
       "Q26                  -999\n",
       "Name: 499, dtype: object"
      ]
     },
     "execution_count": 10,
     "metadata": {},
     "output_type": "execute_result"
    },
    {
     "data": {
      "text/plain": [
       "ExternalReference    K924\n",
       "Q26                     0\n",
       "Name: 653, dtype: object"
      ]
     },
     "execution_count": 10,
     "metadata": {},
     "output_type": "execute_result"
    },
    {
     "data": {
      "text/plain": [
       "ExternalReference    K922\n",
       "Q26                     0\n",
       "Name: 672, dtype: object"
      ]
     },
     "execution_count": 10,
     "metadata": {},
     "output_type": "execute_result"
    },
    {
     "data": {
      "text/plain": [
       "ExternalReference    K1149\n",
       "Q26                      0\n",
       "Name: 718, dtype: object"
      ]
     },
     "execution_count": 10,
     "metadata": {},
     "output_type": "execute_result"
    },
    {
     "data": {
      "text/plain": [
       "ExternalReference    K1205\n",
       "Q26                   -999\n",
       "Name: 737, dtype: object"
      ]
     },
     "execution_count": 10,
     "metadata": {},
     "output_type": "execute_result"
    }
   ],
   "source": [
    "cols_view = ['ExternalReference','Q26']\n",
    "lst = [175,179,190,300,341,345,346,365,369,372,401,436,439,\n",
    "       499,653,672,718,737]\n",
    "\n",
    "for i in lst:\n",
    "    pretrain.loc[i,cols_view]"
   ]
  },
  {
   "cell_type": "code",
   "execution_count": 11,
   "id": "d230a6bb-6b53-4ee6-af25-b13bbf61f37e",
   "metadata": {},
   "outputs": [
    {
     "data": {
      "text/plain": [
       "375    1\n",
       "Name: Q26, dtype: int64"
      ]
     },
     "execution_count": 11,
     "metadata": {},
     "output_type": "execute_result"
    }
   ],
   "source": [
    "pretrain.loc[pretrain['ExternalReference']=='D572','Q26']"
   ]
  },
  {
   "cell_type": "code",
   "execution_count": null,
   "id": "de8a96e5-28de-4ef3-a2e3-b44295f7110f",
   "metadata": {},
   "outputs": [],
   "source": []
  }
 ],
 "metadata": {
  "kernelspec": {
   "display_name": "Python 3",
   "language": "python",
   "name": "python3"
  },
  "language_info": {
   "codemirror_mode": {
    "name": "ipython",
    "version": 3
   },
   "file_extension": ".py",
   "mimetype": "text/x-python",
   "name": "python",
   "nbconvert_exporter": "python",
   "pygments_lexer": "ipython3",
   "version": "3.8.8"
  }
 },
 "nbformat": 4,
 "nbformat_minor": 5
}
