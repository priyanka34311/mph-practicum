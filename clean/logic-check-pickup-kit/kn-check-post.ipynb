{
 "cells": [
  {
   "cell_type": "code",
   "execution_count": 1,
   "id": "f0d282fe-0f84-435c-85ba-2ea88e6bf5a3",
   "metadata": {},
   "outputs": [],
   "source": [
    "#Set up environment\n",
    "\n",
    "from IPython.core.interactiveshell import InteractiveShell\n",
    "InteractiveShell.ast_node_interactivity = \"all\"\n",
    "\n",
    "import pandas as pd\n",
    "import numpy as np\n",
    "import seaborn as sns"
   ]
  },
  {
   "cell_type": "code",
   "execution_count": 2,
   "id": "50f6cecd-9457-4709-8498-baf09ce2be72",
   "metadata": {},
   "outputs": [],
   "source": [
    "post = pd.read_csv('post_mv_handled.csv')"
   ]
  },
  {
   "cell_type": "code",
   "execution_count": 3,
   "id": "a5aa194d-3e74-4ee6-bfb0-9cb67f51c515",
   "metadata": {},
   "outputs": [
    {
     "data": {
      "text/plain": [
       "(576,)"
      ]
     },
     "execution_count": 3,
     "metadata": {},
     "output_type": "execute_result"
    }
   ],
   "source": [
    "extref = post['ExternalReference']\n",
    "extref.shape"
   ]
  },
  {
   "cell_type": "code",
   "execution_count": 4,
   "id": "45679db5-0913-482f-8619-e4169e3c5517",
   "metadata": {},
   "outputs": [
    {
     "data": {
      "text/plain": [
       "(576,)"
      ]
     },
     "execution_count": 4,
     "metadata": {},
     "output_type": "execute_result"
    },
    {
     "data": {
      "text/plain": [
       " 1.0      524\n",
       "-999.0     30\n",
       " 0.0       22\n",
       "Name: Q5, dtype: int64"
      ]
     },
     "execution_count": 4,
     "metadata": {},
     "output_type": "execute_result"
    }
   ],
   "source": [
    "Q5 = post['Q5']\n",
    "Q5.shape\n",
    "Q5.value_counts()"
   ]
  },
  {
   "cell_type": "code",
   "execution_count": 5,
   "id": "9cca6cc2-77ef-4d06-860a-497af53acc0c",
   "metadata": {},
   "outputs": [
    {
     "name": "stdout",
     "output_type": "stream",
     "text": [
      "325\n",
      "331\n",
      "352\n",
      "372\n",
      "382\n",
      "515\n",
      "538\n",
      "563\n",
      "569\n"
     ]
    }
   ],
   "source": [
    "for l in range(576):\n",
    "    ID = extref[l]\n",
    "    first = ID[:1]\n",
    "    if ((first == 'K')|(first == 'D')) & ((Q5[l]==0)):\n",
    "        print(l)"
   ]
  },
  {
   "cell_type": "code",
   "execution_count": 6,
   "id": "cf672165-e5bb-4907-a0fc-d9927a5b9bb8",
   "metadata": {},
   "outputs": [
    {
     "data": {
      "text/plain": [
       "ExternalReference    K800\n",
       "Q5                    0.0\n",
       "Q6                    2.0\n",
       "Q6_333_TEXT          -888\n",
       "Name: 325, dtype: object"
      ]
     },
     "execution_count": 6,
     "metadata": {},
     "output_type": "execute_result"
    },
    {
     "data": {
      "text/plain": [
       "ExternalReference                                                 K823\n",
       "Q5                                                                 0.0\n",
       "Q6                                                               333.0\n",
       "Q6_333_TEXT          I requested one to be sent to me but haven't r...\n",
       "Name: 331, dtype: object"
      ]
     },
     "execution_count": 6,
     "metadata": {},
     "output_type": "execute_result"
    },
    {
     "data": {
      "text/plain": [
       "ExternalReference    K846\n",
       "Q5                    0.0\n",
       "Q6                    2.0\n",
       "Q6_333_TEXT          -888\n",
       "Name: 352, dtype: object"
      ]
     },
     "execution_count": 6,
     "metadata": {},
     "output_type": "execute_result"
    },
    {
     "data": {
      "text/plain": [
       "ExternalReference                        K946\n",
       "Q5                                        0.0\n",
       "Q6                                      333.0\n",
       "Q6_333_TEXT          It will be mailed to me.\n",
       "Name: 372, dtype: object"
      ]
     },
     "execution_count": 6,
     "metadata": {},
     "output_type": "execute_result"
    },
    {
     "data": {
      "text/plain": [
       "ExternalReference                                                K1068\n",
       "Q5                                                                 0.0\n",
       "Q6                                                               333.0\n",
       "Q6_333_TEXT          I believe one should be mailed to me. The sess...\n",
       "Name: 382, dtype: object"
      ]
     },
     "execution_count": 6,
     "metadata": {},
     "output_type": "execute_result"
    },
    {
     "data": {
      "text/plain": [
       "ExternalReference                                                K1012\n",
       "Q5                                                                 0.0\n",
       "Q6                                                               333.0\n",
       "Q6_333_TEXT          the session is online and I hope you will send...\n",
       "Name: 515, dtype: object"
      ]
     },
     "execution_count": 6,
     "metadata": {},
     "output_type": "execute_result"
    },
    {
     "data": {
      "text/plain": [
       "ExternalReference                                                K1190\n",
       "Q5                                                                 0.0\n",
       "Q6                                                               333.0\n",
       "Q6_333_TEXT          It was a virtual class.  I'm under the impress...\n",
       "Name: 538, dtype: object"
      ]
     },
     "execution_count": 6,
     "metadata": {},
     "output_type": "execute_result"
    },
    {
     "data": {
      "text/plain": [
       "ExternalReference                                                K1261\n",
       "Q5                                                                 0.0\n",
       "Q6                                                               333.0\n",
       "Q6_333_TEXT          Virtual learning due to the pandemic, would li...\n",
       "Name: 563, dtype: object"
      ]
     },
     "execution_count": 6,
     "metadata": {},
     "output_type": "execute_result"
    },
    {
     "data": {
      "text/plain": [
       "ExternalReference                                            K1285\n",
       "Q5                                                             0.0\n",
       "Q6                                                           333.0\n",
       "Q6_333_TEXT          training was online, kit will be mailed to me\n",
       "Name: 569, dtype: object"
      ]
     },
     "execution_count": 6,
     "metadata": {},
     "output_type": "execute_result"
    }
   ],
   "source": [
    "cols_view = ['ExternalReference','Q5','Q6','Q6_333_TEXT']\n",
    "lst = [325,331,352,372,382,515,538,563,569]\n",
    "\n",
    "for i in lst:\n",
    "    post.loc[i,cols_view]"
   ]
  },
  {
   "cell_type": "code",
   "execution_count": 7,
   "id": "c2ac7572-cb09-4783-9875-853f13aa8062",
   "metadata": {},
   "outputs": [
    {
     "name": "stdout",
     "output_type": "stream",
     "text": [
      "332\n",
      "361\n"
     ]
    }
   ],
   "source": [
    "# Check N's\n",
    "\n",
    "for l in range(576):\n",
    "    ID = extref[l]\n",
    "    first = ID[:1]\n",
    "    if ((first == 'N')) & ((Q5[l]==1)):\n",
    "        print(l)"
   ]
  },
  {
   "cell_type": "code",
   "execution_count": 8,
   "id": "9c92e49b-974c-4583-bcce-4f7bb97abea2",
   "metadata": {},
   "outputs": [
    {
     "data": {
      "text/plain": [
       "ExternalReference     N016\n",
       "Q5                     1.0\n",
       "Q6                  -888.0\n",
       "Q6_333_TEXT           -888\n",
       "Name: 332, dtype: object"
      ]
     },
     "execution_count": 8,
     "metadata": {},
     "output_type": "execute_result"
    },
    {
     "data": {
      "text/plain": [
       "ExternalReference     N020\n",
       "Q5                     1.0\n",
       "Q6                  -888.0\n",
       "Q6_333_TEXT           -888\n",
       "Name: 361, dtype: object"
      ]
     },
     "execution_count": 8,
     "metadata": {},
     "output_type": "execute_result"
    }
   ],
   "source": [
    "lst_n = [332,361]\n",
    "cols_view = ['ExternalReference','Q5','Q6','Q6_333_TEXT']\n",
    "for i in range(2):\n",
    "    post.loc[lst_n[i],cols_view]"
   ]
  },
  {
   "cell_type": "code",
   "execution_count": 13,
   "id": "0e998eb2-23c8-4e39-8f33-dc2c062b6196",
   "metadata": {},
   "outputs": [
    {
     "data": {
      "text/plain": [
       "Series([], Name: Q5, dtype: float64)"
      ]
     },
     "execution_count": 13,
     "metadata": {},
     "output_type": "execute_result"
    }
   ],
   "source": [
    "post.loc[post['ExternalReference']=='K964','Q5']"
   ]
  },
  {
   "cell_type": "code",
   "execution_count": null,
   "id": "b7cc05ff-fbe2-42ed-b889-64236f18f0b2",
   "metadata": {},
   "outputs": [],
   "source": []
  }
 ],
 "metadata": {
  "kernelspec": {
   "display_name": "Python 3",
   "language": "python",
   "name": "python3"
  },
  "language_info": {
   "codemirror_mode": {
    "name": "ipython",
    "version": 3
   },
   "file_extension": ".py",
   "mimetype": "text/x-python",
   "name": "python",
   "nbconvert_exporter": "python",
   "pygments_lexer": "ipython3",
   "version": "3.8.8"
  }
 },
 "nbformat": 4,
 "nbformat_minor": 5
}
