{
 "cells": [
  {
   "cell_type": "code",
   "execution_count": 1,
   "id": "df4c60c7-fc49-48ac-b41c-a26451206963",
   "metadata": {},
   "outputs": [],
   "source": [
    "#Set up environment\n",
    "\n",
    "from IPython.core.interactiveshell import InteractiveShell\n",
    "InteractiveShell.ast_node_interactivity = \"all\"\n",
    "\n",
    "import pandas as pd\n",
    "import numpy as np\n",
    "import seaborn as sns"
   ]
  },
  {
   "cell_type": "code",
   "execution_count": 2,
   "id": "76c2c432-f7fb-4432-9739-43eba4ce6a1d",
   "metadata": {},
   "outputs": [],
   "source": [
    "long = pd.read_csv('long_mv_handled.csv')"
   ]
  },
  {
   "cell_type": "code",
   "execution_count": 3,
   "id": "5b88e39a-ab4a-46eb-af8a-932446975d02",
   "metadata": {},
   "outputs": [
    {
     "data": {
      "text/plain": [
       "(447,)"
      ]
     },
     "execution_count": 3,
     "metadata": {},
     "output_type": "execute_result"
    }
   ],
   "source": [
    "extref = long['ExternalReference']\n",
    "extref.shape"
   ]
  },
  {
   "cell_type": "code",
   "execution_count": 4,
   "id": "85d99620-c649-42f1-91dd-1bc9694f1765",
   "metadata": {},
   "outputs": [
    {
     "data": {
      "text/plain": [
       "(447,)"
      ]
     },
     "execution_count": 4,
     "metadata": {},
     "output_type": "execute_result"
    },
    {
     "data": {
      "text/plain": [
       " 1.0      422\n",
       " 0.0       16\n",
       "-999.0      9\n",
       "Name: Q15, dtype: int64"
      ]
     },
     "execution_count": 4,
     "metadata": {},
     "output_type": "execute_result"
    }
   ],
   "source": [
    "Q15 = long['Q15']\n",
    "Q15.shape\n",
    "Q15.value_counts()"
   ]
  },
  {
   "cell_type": "code",
   "execution_count": 5,
   "id": "2e5c596e-a477-4160-9bf2-e164e3e8fe2b",
   "metadata": {},
   "outputs": [
    {
     "name": "stdout",
     "output_type": "stream",
     "text": [
      "65\n",
      "261\n",
      "311\n",
      "382\n"
     ]
    }
   ],
   "source": [
    "for l in range(447):\n",
    "    ID = extref[l]\n",
    "    first = ID[:1]\n",
    "    if ((first == 'K')|(first == 'D')) & ((Q15[l]==0)):\n",
    "        print(l)"
   ]
  },
  {
   "cell_type": "code",
   "execution_count": 6,
   "id": "40a81476-97c0-4af5-8fc1-5fffa34c0409",
   "metadata": {},
   "outputs": [
    {
     "data": {
      "text/plain": [
       "ExternalReference    K013\n",
       "Q15                   0.0\n",
       "Q16                   1.0\n",
       "Q16_333_TEXT         -888\n",
       "Name: 65, dtype: object"
      ]
     },
     "execution_count": 6,
     "metadata": {},
     "output_type": "execute_result"
    },
    {
     "data": {
      "text/plain": [
       "ExternalReference     K347\n",
       "Q15                    0.0\n",
       "Q16                 -999.0\n",
       "Q16_333_TEXT          -999\n",
       "Name: 261, dtype: object"
      ]
     },
     "execution_count": 6,
     "metadata": {},
     "output_type": "execute_result"
    },
    {
     "data": {
      "text/plain": [
       "ExternalReference     K800\n",
       "Q15                    0.0\n",
       "Q16                  333.0\n",
       "Q16_333_TEXT         Covid\n",
       "Name: 311, dtype: object"
      ]
     },
     "execution_count": 6,
     "metadata": {},
     "output_type": "execute_result"
    },
    {
     "data": {
      "text/plain": [
       "ExternalReference    K964\n",
       "Q15                   0.0\n",
       "Q16                   1.0\n",
       "Q16_333_TEXT         -888\n",
       "Name: 382, dtype: object"
      ]
     },
     "execution_count": 6,
     "metadata": {},
     "output_type": "execute_result"
    }
   ],
   "source": [
    "cols_view = ['ExternalReference','Q15','Q16','Q16_333_TEXT']\n",
    "lst = [65,261,311,382]\n",
    "\n",
    "for i in lst:\n",
    "    long.loc[i,cols_view]"
   ]
  },
  {
   "cell_type": "code",
   "execution_count": 7,
   "id": "46ef5be2-c3a7-4d3f-b867-80c83908bb1e",
   "metadata": {},
   "outputs": [
    {
     "name": "stdout",
     "output_type": "stream",
     "text": [
      "323\n"
     ]
    }
   ],
   "source": [
    "for l in range(447):\n",
    "    ID = extref[l]\n",
    "    first = ID[:1]\n",
    "    if ((first == 'N')) & ((Q15[l]==1)):\n",
    "        print(l)"
   ]
  },
  {
   "cell_type": "code",
   "execution_count": 8,
   "id": "01cf7e0d-6eb1-4acc-b381-da56203c94f3",
   "metadata": {},
   "outputs": [
    {
     "data": {
      "text/plain": [
       "ExternalReference     N016\n",
       "Q15                    1.0\n",
       "Q16                 -888.0\n",
       "Q16_333_TEXT          -888\n",
       "Name: 323, dtype: object"
      ]
     },
     "execution_count": 8,
     "metadata": {},
     "output_type": "execute_result"
    }
   ],
   "source": [
    "long.loc[323,['ExternalReference','Q15','Q16','Q16_333_TEXT']]"
   ]
  },
  {
   "cell_type": "code",
   "execution_count": 18,
   "id": "87e5ba89-c2f7-4cdc-a330-26386d1f24ee",
   "metadata": {},
   "outputs": [
    {
     "data": {
      "text/plain": [
       "437    1.0\n",
       "Name: Q15, dtype: float64"
      ]
     },
     "execution_count": 18,
     "metadata": {},
     "output_type": "execute_result"
    }
   ],
   "source": [
    "long.loc[long['ExternalReference']=='K1285','Q15']"
   ]
  },
  {
   "cell_type": "code",
   "execution_count": null,
   "id": "3d495d74-72ef-47bf-9a69-1c4e24d006a7",
   "metadata": {},
   "outputs": [],
   "source": []
  }
 ],
 "metadata": {
  "kernelspec": {
   "display_name": "Python 3",
   "language": "python",
   "name": "python3"
  },
  "language_info": {
   "codemirror_mode": {
    "name": "ipython",
    "version": 3
   },
   "file_extension": ".py",
   "mimetype": "text/x-python",
   "name": "python",
   "nbconvert_exporter": "python",
   "pygments_lexer": "ipython3",
   "version": "3.8.8"
  }
 },
 "nbformat": 4,
 "nbformat_minor": 5
}
