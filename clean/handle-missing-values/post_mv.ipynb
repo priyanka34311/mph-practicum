{
 "cells": [
  {
   "cell_type": "code",
   "execution_count": 94,
   "id": "2b7a1e49-8403-43a4-a6fd-bfcbb91ecd78",
   "metadata": {},
   "outputs": [],
   "source": [
    "# Set up environment\n",
    "\n",
    "from IPython.core.interactiveshell import InteractiveShell\n",
    "InteractiveShell.ast_node_interactivity = \"all\"\n",
    "\n",
    "import pandas as pd\n",
    "import numpy as np\n",
    "import seaborn as sns"
   ]
  },
  {
   "cell_type": "code",
   "execution_count": 95,
   "id": "94fdea23-22de-48bd-883c-a117893dfc8e",
   "metadata": {},
   "outputs": [],
   "source": [
    "# Read in data\n",
    "post = pd.read_csv('post_at2weeks_all.csv',na_values = ' ')"
   ]
  },
  {
   "cell_type": "code",
   "execution_count": 96,
   "id": "32bca112-9989-4f76-913e-2e158834772e",
   "metadata": {},
   "outputs": [
    {
     "name": "stdout",
     "output_type": "stream",
     "text": [
      "<class 'pandas.core.frame.DataFrame'>\n",
      "RangeIndex: 576 entries, 0 to 575\n",
      "Data columns (total 78 columns):\n",
      " #   Column                 Non-Null Count  Dtype  \n",
      "---  ------                 --------------  -----  \n",
      " 0   StartDate              576 non-null    object \n",
      " 1   EndDate                576 non-null    object \n",
      " 2   Progress               576 non-null    int64  \n",
      " 3   Duration__in_seconds_  576 non-null    int64  \n",
      " 4   Finished               576 non-null    int64  \n",
      " 5   RecordedDate           576 non-null    object \n",
      " 6   ExternalReference      576 non-null    object \n",
      " 7   Q2_1                   546 non-null    float64\n",
      " 8   Q2_2                   545 non-null    float64\n",
      " 9   Q2_3                   546 non-null    float64\n",
      " 10  Q3_1                   545 non-null    float64\n",
      " 11  Q3_2                   545 non-null    float64\n",
      " 12  Q3_3                   545 non-null    float64\n",
      " 13  Q3_4                   545 non-null    float64\n",
      " 14  Q4_1                   544 non-null    float64\n",
      " 15  Q4_2                   544 non-null    float64\n",
      " 16  Q4_3                   544 non-null    float64\n",
      " 17  Q4_4                   544 non-null    float64\n",
      " 18  Q5                     546 non-null    float64\n",
      " 19  Q6                     21 non-null     float64\n",
      " 20  Q6_333_TEXT            9 non-null      object \n",
      " 21  Q7_1                   542 non-null    float64\n",
      " 22  Q7_2                   542 non-null    float64\n",
      " 23  Q7_3                   542 non-null    float64\n",
      " 24  Q7_4                   542 non-null    float64\n",
      " 25  Q7_5                   542 non-null    float64\n",
      " 26  Q7_6                   542 non-null    float64\n",
      " 27  Q8_1                   542 non-null    float64\n",
      " 28  Q8_2                   542 non-null    float64\n",
      " 29  Q8_3                   542 non-null    float64\n",
      " 30  Q8_4                   542 non-null    float64\n",
      " 31  Q8_5                   542 non-null    float64\n",
      " 32  Q8_6                   542 non-null    float64\n",
      " 33  Q9_1                   542 non-null    float64\n",
      " 34  Q9_2                   16 non-null     float64\n",
      " 35  Q9_3                   542 non-null    float64\n",
      " 36  Q9_4                   542 non-null    float64\n",
      " 37  Q9_5                   541 non-null    float64\n",
      " 38  Q9_6                   542 non-null    float64\n",
      " 39  Q9_7                   542 non-null    float64\n",
      " 40  Q9_8                   542 non-null    float64\n",
      " 41  Q10_1                  541 non-null    float64\n",
      " 42  Q10_2                  541 non-null    float64\n",
      " 43  Q10_3                  541 non-null    float64\n",
      " 44  Q10_4                  541 non-null    float64\n",
      " 45  Q10_5                  541 non-null    float64\n",
      " 46  Q10_6                  541 non-null    float64\n",
      " 47  Q10_7                  540 non-null    float64\n",
      " 48  Q10_8                  541 non-null    float64\n",
      " 49  Q11_1                  541 non-null    float64\n",
      " 50  Q11_2                  541 non-null    float64\n",
      " 51  Q11_3                  541 non-null    float64\n",
      " 52  Q11_4                  541 non-null    float64\n",
      " 53  Q11_5                  541 non-null    float64\n",
      " 54  Q11_6                  541 non-null    float64\n",
      " 55  Q11_7                  541 non-null    float64\n",
      " 56  Q11_8                  16 non-null     float64\n",
      " 57  Q11_9                  540 non-null    float64\n",
      " 58  Q11_10                 541 non-null    float64\n",
      " 59  Q12_1                  16 non-null     float64\n",
      " 60  Q12_2                  16 non-null     float64\n",
      " 61  Q12_3                  16 non-null     float64\n",
      " 62  Q13_1                  16 non-null     float64\n",
      " 63  Q13_2                  16 non-null     float64\n",
      " 64  Q13_3                  16 non-null     float64\n",
      " 65  Q13_4                  541 non-null    float64\n",
      " 66  Q13_5                  541 non-null    float64\n",
      " 67  Q13_6                  541 non-null    float64\n",
      " 68  Q14_1                  541 non-null    float64\n",
      " 69  Q14_2                  16 non-null     float64\n",
      " 70  Q14_3                  541 non-null    float64\n",
      " 71  Q14_4                  16 non-null     float64\n",
      " 72  Q14_5                  16 non-null     float64\n",
      " 73  Q14_6                  16 non-null     float64\n",
      " 74  Q14_7                  541 non-null    float64\n",
      " 75  Q14_8                  16 non-null     float64\n",
      " 76  Session_Type           576 non-null    int64  \n",
      " 77  Survey_Type            576 non-null    int64  \n",
      "dtypes: float64(68), int64(5), object(5)\n",
      "memory usage: 351.1+ KB\n"
     ]
    }
   ],
   "source": [
    "# Check to ensure that missing values are detected\n",
    "post.info()"
   ]
  },
  {
   "cell_type": "code",
   "execution_count": 97,
   "id": "ca7971e0-1e60-48b7-aab7-2052306447d9",
   "metadata": {},
   "outputs": [],
   "source": [
    "# List all the columns that are only in premodified\n",
    "premod_cols = ['Q9_2','Q11_8', 'Q12_1', 'Q12_2', 'Q12_3', 'Q13_1', 'Q13_2', 'Q13_3',\n",
    " 'Q14_2', 'Q14_4', 'Q14_5', 'Q14_6', 'Q14_8']"
   ]
  },
  {
   "cell_type": "code",
   "execution_count": 98,
   "id": "ac5be74b-c8af-4424-97bc-62fbe73df681",
   "metadata": {},
   "outputs": [],
   "source": [
    "# For all those who took modified, these columns are '-888' --> not applicable\n",
    "post.loc[(post['Survey_Type']==1),premod_cols]=-888"
   ]
  },
  {
   "cell_type": "code",
   "execution_count": 99,
   "id": "86f7355c-2a1a-48cb-b8fe-c7d384992376",
   "metadata": {},
   "outputs": [
    {
     "data": {
      "text/plain": [
       "-888.0    560\n",
       " 5.0       13\n",
       " 4.0        3\n",
       "Name: Q9_2, dtype: int64"
      ]
     },
     "execution_count": 99,
     "metadata": {},
     "output_type": "execute_result"
    },
    {
     "data": {
      "text/plain": [
       "-888.0    560\n",
       " 1.0        7\n",
       " 2.0        6\n",
       " 3.0        3\n",
       "Name: Q11_8, dtype: int64"
      ]
     },
     "execution_count": 99,
     "metadata": {},
     "output_type": "execute_result"
    },
    {
     "data": {
      "text/plain": [
       "-888.0    560\n",
       " 2.0       16\n",
       "Name: Q12_1, dtype: int64"
      ]
     },
     "execution_count": 99,
     "metadata": {},
     "output_type": "execute_result"
    },
    {
     "data": {
      "text/plain": [
       "-888.0    560\n",
       " 2.0       10\n",
       " 1.0        6\n",
       "Name: Q12_2, dtype: int64"
      ]
     },
     "execution_count": 99,
     "metadata": {},
     "output_type": "execute_result"
    },
    {
     "data": {
      "text/plain": [
       "-888.0    560\n",
       " 1.0        8\n",
       " 2.0        7\n",
       " 0.0        1\n",
       "Name: Q12_3, dtype: int64"
      ]
     },
     "execution_count": 99,
     "metadata": {},
     "output_type": "execute_result"
    },
    {
     "data": {
      "text/plain": [
       "-888.0    560\n",
       " 4.0        8\n",
       " 3.0        5\n",
       " 5.0        2\n",
       " 2.0        1\n",
       "Name: Q13_1, dtype: int64"
      ]
     },
     "execution_count": 99,
     "metadata": {},
     "output_type": "execute_result"
    },
    {
     "data": {
      "text/plain": [
       "-888.0    560\n",
       " 5.0        8\n",
       " 4.0        5\n",
       " 3.0        3\n",
       "Name: Q13_2, dtype: int64"
      ]
     },
     "execution_count": 99,
     "metadata": {},
     "output_type": "execute_result"
    },
    {
     "data": {
      "text/plain": [
       "-888.0    560\n",
       " 4.0       10\n",
       " 5.0        5\n",
       " 3.0        1\n",
       "Name: Q13_3, dtype: int64"
      ]
     },
     "execution_count": 99,
     "metadata": {},
     "output_type": "execute_result"
    },
    {
     "data": {
      "text/plain": [
       "-888.0    560\n",
       " 4.0        8\n",
       " 5.0        7\n",
       " 3.0        1\n",
       "Name: Q14_2, dtype: int64"
      ]
     },
     "execution_count": 99,
     "metadata": {},
     "output_type": "execute_result"
    },
    {
     "data": {
      "text/plain": [
       "-888.0    560\n",
       " 5.0        9\n",
       " 4.0        7\n",
       "Name: Q14_4, dtype: int64"
      ]
     },
     "execution_count": 99,
     "metadata": {},
     "output_type": "execute_result"
    },
    {
     "data": {
      "text/plain": [
       "-888.0    560\n",
       " 5.0        9\n",
       " 4.0        6\n",
       " 3.0        1\n",
       "Name: Q14_5, dtype: int64"
      ]
     },
     "execution_count": 99,
     "metadata": {},
     "output_type": "execute_result"
    },
    {
     "data": {
      "text/plain": [
       "-888.0    560\n",
       " 5.0        9\n",
       " 4.0        7\n",
       "Name: Q14_6, dtype: int64"
      ]
     },
     "execution_count": 99,
     "metadata": {},
     "output_type": "execute_result"
    },
    {
     "data": {
      "text/plain": [
       "-888.0    560\n",
       " 5.0        9\n",
       " 4.0        6\n",
       " 3.0        1\n",
       "Name: Q14_8, dtype: int64"
      ]
     },
     "execution_count": 99,
     "metadata": {},
     "output_type": "execute_result"
    }
   ],
   "source": [
    "# Check that all 560 who took modified are -888\n",
    "for l in range(13):\n",
    "    post[premod_cols[l]].value_counts()\n",
    "    "
   ]
  },
  {
   "cell_type": "code",
   "execution_count": 100,
   "id": "43100f1c-24c6-461a-bf45-5836d73d2dbe",
   "metadata": {},
   "outputs": [
    {
     "data": {
      "text/plain": [
       "576"
      ]
     },
     "execution_count": 100,
     "metadata": {},
     "output_type": "execute_result"
    },
    {
     "data": {
      "text/plain": [
       "576"
      ]
     },
     "execution_count": 100,
     "metadata": {},
     "output_type": "execute_result"
    },
    {
     "data": {
      "text/plain": [
       "576"
      ]
     },
     "execution_count": 100,
     "metadata": {},
     "output_type": "execute_result"
    },
    {
     "data": {
      "text/plain": [
       "576"
      ]
     },
     "execution_count": 100,
     "metadata": {},
     "output_type": "execute_result"
    },
    {
     "data": {
      "text/plain": [
       "576"
      ]
     },
     "execution_count": 100,
     "metadata": {},
     "output_type": "execute_result"
    },
    {
     "data": {
      "text/plain": [
       "576"
      ]
     },
     "execution_count": 100,
     "metadata": {},
     "output_type": "execute_result"
    },
    {
     "data": {
      "text/plain": [
       "576"
      ]
     },
     "execution_count": 100,
     "metadata": {},
     "output_type": "execute_result"
    },
    {
     "data": {
      "text/plain": [
       "576"
      ]
     },
     "execution_count": 100,
     "metadata": {},
     "output_type": "execute_result"
    },
    {
     "data": {
      "text/plain": [
       "576"
      ]
     },
     "execution_count": 100,
     "metadata": {},
     "output_type": "execute_result"
    },
    {
     "data": {
      "text/plain": [
       "576"
      ]
     },
     "execution_count": 100,
     "metadata": {},
     "output_type": "execute_result"
    },
    {
     "data": {
      "text/plain": [
       "576"
      ]
     },
     "execution_count": 100,
     "metadata": {},
     "output_type": "execute_result"
    },
    {
     "data": {
      "text/plain": [
       "576"
      ]
     },
     "execution_count": 100,
     "metadata": {},
     "output_type": "execute_result"
    },
    {
     "data": {
      "text/plain": [
       "576"
      ]
     },
     "execution_count": 100,
     "metadata": {},
     "output_type": "execute_result"
    }
   ],
   "source": [
    "# Check to make sure there were no missing values (all should add to 576)\n",
    "for l in range(13):\n",
    "    post[premod_cols[l]].value_counts().sum()"
   ]
  },
  {
   "cell_type": "code",
   "execution_count": 101,
   "id": "9750765d-7bc7-4f8f-a008-322038a4bc9d",
   "metadata": {},
   "outputs": [
    {
     "data": {
      "text/plain": [
       "1.0    524\n",
       "0.0     22\n",
       "Name: Q5, dtype: int64"
      ]
     },
     "execution_count": 101,
     "metadata": {},
     "output_type": "execute_result"
    },
    {
     "data": {
      "text/plain": [
       " 1.0      524\n",
       "-999.0     30\n",
       " 0.0       22\n",
       "Name: Q5, dtype: int64"
      ]
     },
     "execution_count": 101,
     "metadata": {},
     "output_type": "execute_result"
    }
   ],
   "source": [
    "# For Q5, any missing values would be actually missing: -999\n",
    "post['Q5'].value_counts()\n",
    "post['Q5'] = post['Q5'].fillna(-999)\n",
    "post['Q5'].value_counts()"
   ]
  },
  {
   "cell_type": "code",
   "execution_count": 102,
   "id": "251c643e-18af-4c3c-b7dd-57bbc27e7652",
   "metadata": {},
   "outputs": [
    {
     "data": {
      "text/plain": [
       "Series([], Name: Q6, dtype: int64)"
      ]
     },
     "execution_count": 102,
     "metadata": {},
     "output_type": "execute_result"
    },
    {
     "data": {
      "text/plain": [
       "-888.0    524\n",
       "Name: Q6, dtype: int64"
      ]
     },
     "execution_count": 102,
     "metadata": {},
     "output_type": "execute_result"
    }
   ],
   "source": [
    "# If Q5 == 1, then Q6 --> -888\n",
    "\n",
    "post.loc[(post['Q5']==1),'Q6'].value_counts()  #check to make sure it's empty\n",
    "post.loc[(post['Q5']==1),'Q6'] = -888\n",
    "post.loc[(post['Q5']==1),'Q6'].value_counts()"
   ]
  },
  {
   "cell_type": "code",
   "execution_count": 103,
   "id": "89488fec-db6b-435b-b43e-efd708a6fca5",
   "metadata": {},
   "outputs": [
    {
     "data": {
      "text/plain": [
       "59       2.0\n",
       "259      3.0\n",
       "325      2.0\n",
       "330      2.0\n",
       "331    333.0\n",
       "333    333.0\n",
       "347      2.0\n",
       "352      2.0\n",
       "356      2.0\n",
       "372    333.0\n",
       "382    333.0\n",
       "407      2.0\n",
       "501      2.0\n",
       "502      3.0\n",
       "515    333.0\n",
       "520    333.0\n",
       "521      NaN\n",
       "530      3.0\n",
       "538    333.0\n",
       "545      2.0\n",
       "563    333.0\n",
       "569    333.0\n",
       "Name: Q6, dtype: float64"
      ]
     },
     "execution_count": 103,
     "metadata": {},
     "output_type": "execute_result"
    },
    {
     "data": {
      "text/plain": [
       "-888.0    524\n",
       " 333.0      9\n",
       " 2.0        9\n",
       " 3.0        3\n",
       "-999.0      1\n",
       "Name: Q6, dtype: int64"
      ]
     },
     "execution_count": 103,
     "metadata": {},
     "output_type": "execute_result"
    }
   ],
   "source": [
    "# If Q5 == 0, then Q6 should have a value (0,1,2,3,333). Find the missing values\n",
    "\n",
    "post.loc[(post['Q5']==0),'Q6'] #521 is missing a value\n",
    "post.loc[521,'Q6'] = -999\n",
    "post['Q6'].value_counts()"
   ]
  },
  {
   "cell_type": "code",
   "execution_count": 104,
   "id": "f269a97a-c9a0-41b1-9c30-713f393218c1",
   "metadata": {},
   "outputs": [],
   "source": [
    "# Now for all empty cells, we know they are missing so we add -999\n",
    "post['Q6'] = post['Q6'].fillna(-999)"
   ]
  },
  {
   "cell_type": "code",
   "execution_count": 105,
   "id": "2aa0b9da-1a09-4294-a314-c9cbeb531974",
   "metadata": {},
   "outputs": [
    {
     "data": {
      "text/plain": [
       "-888.0    524\n",
       "-999.0     31\n",
       " 333.0      9\n",
       " 2.0        9\n",
       " 3.0        3\n",
       "Name: Q6, dtype: int64"
      ]
     },
     "execution_count": 105,
     "metadata": {},
     "output_type": "execute_result"
    }
   ],
   "source": [
    "# Let's check to see what 'Q6 looks like now'\n",
    "\n",
    "post['Q6'].value_counts()"
   ]
  },
  {
   "cell_type": "code",
   "execution_count": 106,
   "id": "48657e6b-4e8b-4705-9d1a-cb1915bbbdec",
   "metadata": {},
   "outputs": [
    {
     "data": {
      "text/plain": [
       "9"
      ]
     },
     "execution_count": 106,
     "metadata": {},
     "output_type": "execute_result"
    },
    {
     "data": {
      "text/plain": [
       "9"
      ]
     },
     "execution_count": 106,
     "metadata": {},
     "output_type": "execute_result"
    }
   ],
   "source": [
    "# For Q6_333_TEXT, let's see if there's any missing values\n",
    "\n",
    "post['Q6_333_TEXT'].value_counts().sum() \n",
    "post.loc[post['Q6']==333,'Q6_333_TEXT'].value_counts().sum()"
   ]
  },
  {
   "cell_type": "code",
   "execution_count": 107,
   "id": "e827b969-05fa-4baf-9465-d37c8cf43622",
   "metadata": {},
   "outputs": [],
   "source": [
    "# Since there are no missing values in 'Q6_333_TEXT', we know they're all -888 EXCEPT\n",
    "# for the ones that are missing from the get-go\n",
    "\n",
    "post.loc[post['Q6']==-999,'Q6_333_TEXT'] = -999\n",
    "post['Q6_333_TEXT'] = post['Q6_333_TEXT'].fillna(-888)"
   ]
  },
  {
   "cell_type": "code",
   "execution_count": 108,
   "id": "574d840e-1a7b-4c77-a68d-c23cddb27c26",
   "metadata": {},
   "outputs": [
    {
     "data": {
      "text/plain": [
       "-888                                                                            536\n",
       "-999                                                                             31\n",
       "Virtual training. Waiting for a kit to be sent to me.                             1\n",
       "I will decide whether or not to pick up a kit when in-person college resumes      1\n",
       "It was a virtual class.  I'm under the impression one will be mailed to me.       1\n",
       "training was online, kit will be mailed to me                                     1\n",
       "the session is online and I hope you will send me one :)                          1\n",
       "It will be mailed to me.                                                          1\n",
       "I requested one to be sent to me but haven't received it yet                      1\n",
       "Virtual learning due to the pandemic, would like one sent to me!                  1\n",
       "I believe one should be mailed to me. The session was online.                     1\n",
       "Name: Q6_333_TEXT, dtype: int64"
      ]
     },
     "execution_count": 108,
     "metadata": {},
     "output_type": "execute_result"
    }
   ],
   "source": [
    "# Check to see what 'Q6_333_TEXT' looks like\n",
    "post['Q6_333_TEXT'].value_counts()\n"
   ]
  },
  {
   "cell_type": "code",
   "execution_count": 109,
   "id": "0d6506c6-fcdb-49d8-8da9-a548b68e5dd5",
   "metadata": {},
   "outputs": [],
   "source": [
    "post.to_csv('check.csv',index=False)"
   ]
  },
  {
   "cell_type": "code",
   "execution_count": 110,
   "id": "aaafe795-0312-4a84-be74-ded2597409ad",
   "metadata": {},
   "outputs": [],
   "source": [
    "# Rest of the values in the dataset are missing\n",
    "\n",
    "post = post.fillna(-999)"
   ]
  },
  {
   "cell_type": "code",
   "execution_count": 111,
   "id": "c72e3be8-c557-4262-be25-5495d420aae0",
   "metadata": {},
   "outputs": [
    {
     "name": "stdout",
     "output_type": "stream",
     "text": [
      "<class 'pandas.core.frame.DataFrame'>\n",
      "RangeIndex: 576 entries, 0 to 575\n",
      "Data columns (total 78 columns):\n",
      " #   Column                 Non-Null Count  Dtype  \n",
      "---  ------                 --------------  -----  \n",
      " 0   StartDate              576 non-null    object \n",
      " 1   EndDate                576 non-null    object \n",
      " 2   Progress               576 non-null    int64  \n",
      " 3   Duration__in_seconds_  576 non-null    int64  \n",
      " 4   Finished               576 non-null    int64  \n",
      " 5   RecordedDate           576 non-null    object \n",
      " 6   ExternalReference      576 non-null    object \n",
      " 7   Q2_1                   576 non-null    float64\n",
      " 8   Q2_2                   576 non-null    float64\n",
      " 9   Q2_3                   576 non-null    float64\n",
      " 10  Q3_1                   576 non-null    float64\n",
      " 11  Q3_2                   576 non-null    float64\n",
      " 12  Q3_3                   576 non-null    float64\n",
      " 13  Q3_4                   576 non-null    float64\n",
      " 14  Q4_1                   576 non-null    float64\n",
      " 15  Q4_2                   576 non-null    float64\n",
      " 16  Q4_3                   576 non-null    float64\n",
      " 17  Q4_4                   576 non-null    float64\n",
      " 18  Q5                     576 non-null    float64\n",
      " 19  Q6                     576 non-null    float64\n",
      " 20  Q6_333_TEXT            576 non-null    object \n",
      " 21  Q7_1                   576 non-null    float64\n",
      " 22  Q7_2                   576 non-null    float64\n",
      " 23  Q7_3                   576 non-null    float64\n",
      " 24  Q7_4                   576 non-null    float64\n",
      " 25  Q7_5                   576 non-null    float64\n",
      " 26  Q7_6                   576 non-null    float64\n",
      " 27  Q8_1                   576 non-null    float64\n",
      " 28  Q8_2                   576 non-null    float64\n",
      " 29  Q8_3                   576 non-null    float64\n",
      " 30  Q8_4                   576 non-null    float64\n",
      " 31  Q8_5                   576 non-null    float64\n",
      " 32  Q8_6                   576 non-null    float64\n",
      " 33  Q9_1                   576 non-null    float64\n",
      " 34  Q9_2                   576 non-null    float64\n",
      " 35  Q9_3                   576 non-null    float64\n",
      " 36  Q9_4                   576 non-null    float64\n",
      " 37  Q9_5                   576 non-null    float64\n",
      " 38  Q9_6                   576 non-null    float64\n",
      " 39  Q9_7                   576 non-null    float64\n",
      " 40  Q9_8                   576 non-null    float64\n",
      " 41  Q10_1                  576 non-null    float64\n",
      " 42  Q10_2                  576 non-null    float64\n",
      " 43  Q10_3                  576 non-null    float64\n",
      " 44  Q10_4                  576 non-null    float64\n",
      " 45  Q10_5                  576 non-null    float64\n",
      " 46  Q10_6                  576 non-null    float64\n",
      " 47  Q10_7                  576 non-null    float64\n",
      " 48  Q10_8                  576 non-null    float64\n",
      " 49  Q11_1                  576 non-null    float64\n",
      " 50  Q11_2                  576 non-null    float64\n",
      " 51  Q11_3                  576 non-null    float64\n",
      " 52  Q11_4                  576 non-null    float64\n",
      " 53  Q11_5                  576 non-null    float64\n",
      " 54  Q11_6                  576 non-null    float64\n",
      " 55  Q11_7                  576 non-null    float64\n",
      " 56  Q11_8                  576 non-null    float64\n",
      " 57  Q11_9                  576 non-null    float64\n",
      " 58  Q11_10                 576 non-null    float64\n",
      " 59  Q12_1                  576 non-null    float64\n",
      " 60  Q12_2                  576 non-null    float64\n",
      " 61  Q12_3                  576 non-null    float64\n",
      " 62  Q13_1                  576 non-null    float64\n",
      " 63  Q13_2                  576 non-null    float64\n",
      " 64  Q13_3                  576 non-null    float64\n",
      " 65  Q13_4                  576 non-null    float64\n",
      " 66  Q13_5                  576 non-null    float64\n",
      " 67  Q13_6                  576 non-null    float64\n",
      " 68  Q14_1                  576 non-null    float64\n",
      " 69  Q14_2                  576 non-null    float64\n",
      " 70  Q14_3                  576 non-null    float64\n",
      " 71  Q14_4                  576 non-null    float64\n",
      " 72  Q14_5                  576 non-null    float64\n",
      " 73  Q14_6                  576 non-null    float64\n",
      " 74  Q14_7                  576 non-null    float64\n",
      " 75  Q14_8                  576 non-null    float64\n",
      " 76  Session_Type           576 non-null    int64  \n",
      " 77  Survey_Type            576 non-null    int64  \n",
      "dtypes: float64(68), int64(5), object(5)\n",
      "memory usage: 351.1+ KB\n"
     ]
    }
   ],
   "source": [
    "# Let's see if everyone is accounted for\n",
    "post.info()"
   ]
  },
  {
   "cell_type": "code",
   "execution_count": 112,
   "id": "50eb54cd-6e66-4e54-87e1-0217c5d2cec9",
   "metadata": {},
   "outputs": [],
   "source": [
    "#Export the missing_values_handled dataset\n",
    "\n",
    "post.to_csv('post_mv_handled.csv',index=False)"
   ]
  },
  {
   "cell_type": "code",
   "execution_count": 114,
   "id": "b1bc341c-bd60-4cc7-9107-c4d80c5ba0e1",
   "metadata": {},
   "outputs": [],
   "source": [
    "post_patterns = post.sort_values('Q2_1',axis=0,ascending=True)"
   ]
  },
  {
   "cell_type": "code",
   "execution_count": 115,
   "id": "75fab7f7-ca7a-44f4-b003-289ba5b5553a",
   "metadata": {},
   "outputs": [],
   "source": [
    "post_patterns.to_csv('mv_pattern_check.csv',index=False)"
   ]
  },
  {
   "cell_type": "code",
   "execution_count": null,
   "id": "740ecebe-5fe6-429a-9f85-482bbb723cb9",
   "metadata": {},
   "outputs": [],
   "source": []
  }
 ],
 "metadata": {
  "kernelspec": {
   "display_name": "Python 3",
   "language": "python",
   "name": "python3"
  },
  "language_info": {
   "codemirror_mode": {
    "name": "ipython",
    "version": 3
   },
   "file_extension": ".py",
   "mimetype": "text/x-python",
   "name": "python",
   "nbconvert_exporter": "python",
   "pygments_lexer": "ipython3",
   "version": "3.8.8"
  }
 },
 "nbformat": 4,
 "nbformat_minor": 5
}
