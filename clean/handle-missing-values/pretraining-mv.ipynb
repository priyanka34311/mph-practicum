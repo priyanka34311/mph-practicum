{
 "cells": [
  {
   "cell_type": "code",
   "execution_count": null,
   "id": "0abe71c4-2961-4336-ab72-1714433b039f",
   "metadata": {},
   "outputs": [],
   "source": [
    "# Set up environment\n",
    "\n",
    "from IPython.core.interactiveshell import InteractiveShell\n",
    "InteractiveShell.ast_node_interactivity = \"all\"\n",
    "\n",
    "import pandas as pd\n",
    "import numpy as np\n",
    "import seaborn as sns"
   ]
  },
  {
   "cell_type": "code",
   "execution_count": null,
   "id": "3cbc7c33-6645-4c49-a007-93472c76da42",
   "metadata": {
    "tags": []
   },
   "outputs": [],
   "source": [
    "# Read in concatenated data\n",
    "pretrain = pd.read_csv('pre-training.csv',na_values = ' ')\n",
    "# Check dimensions to ensure data was read in correctly\n",
    "pretrain.shape"
   ]
  },
  {
   "cell_type": "code",
   "execution_count": null,
   "id": "fe5a0710-cf66-40b6-9c20-9a057402d356",
   "metadata": {},
   "outputs": [],
   "source": [
    "# Make sure nan values are visible\n",
    "pretrain.info(verbose=True,show_counts=True)\n"
   ]
  },
  {
   "cell_type": "code",
   "execution_count": null,
   "id": "f77b6157-3056-4fb2-a1f5-d7fdb0c93be9",
   "metadata": {},
   "outputs": [],
   "source": [
    "# Let's check to see if there are any missing values in Q2 \n",
    "#among those in pretraining. To do this, I will retrieve the \n",
    "#'Q2' columns and sum across the columns. \n",
    "# Indices with 0 will be identified.\n",
    "Q2 = pretrain.loc[:,'Student':'Faculty']\n",
    "Q2.shape\n",
    "Q2_sum = Q2.sum(axis=1)\n",
    "Q2_sum.value_counts()\n",
    "Q2_sum = Q2_sum.sort_values(ascending=True)\n",
    "Q2_sum.to_csv('Q2_sum_mv.csv')"
   ]
  },
  {
   "cell_type": "code",
   "execution_count": null,
   "id": "8b957d39-ffb2-4f1e-825f-94c0879fae0b",
   "metadata": {},
   "outputs": [],
   "source": [
    "#Let's retrieve the data of those with missing values in Q2\n",
    "\n",
    "pretrain.loc[[499,658],:].to_csv('role_missing.csv',index=False)"
   ]
  },
  {
   "cell_type": "code",
   "execution_count": null,
   "id": "6330b467-a612-486f-996d-3d6d72da2034",
   "metadata": {},
   "outputs": [],
   "source": [
    "# Handle Q2\n",
    "Q2_cols = ['Student','Staff','Faculty']\n",
    "pretrain.loc[[499,658],Q2_cols] = -999\n",
    "pretrain.loc[[499,658],:]\n",
    "pretrain[Q2_cols] = pretrain[Q2_cols].fillna(-888)"
   ]
  },
  {
   "cell_type": "code",
   "execution_count": null,
   "id": "7838ece4-85e9-407f-be45-615e290469a3",
   "metadata": {},
   "outputs": [],
   "source": [
    "# Check\n",
    "check = pretrain.to_csv('check.csv',index=False)"
   ]
  },
  {
   "cell_type": "code",
   "execution_count": null,
   "id": "932bb204-3914-47f7-aee5-445adfccc260",
   "metadata": {},
   "outputs": [],
   "source": [
    "# For Q3, we need to identify the missing value cases \n",
    "#(same as above) and then add 'not applicable' values for the rest\n",
    "pretrain.loc[[499,658],'Q3'] = -999\n",
    "pretrain['Q3'] = pretrain['Q3'].fillna(-888)\n",
    "pretrain['Q3'].value_counts()"
   ]
  },
  {
   "cell_type": "code",
   "execution_count": null,
   "id": "f74ee42b-1b45-49f2-bb40-9c2f7499e791",
   "metadata": {},
   "outputs": [],
   "source": [
    "# Handle Q4\n",
    "Q4_cols = ['Q4_1','Q4_2','Q4_3','Q4_4','Q4_5','Q4_6','Q4_7',\n",
    "           'Q4_8','Q4_9','Q4_10']\n",
    "Q4_cols_text = ['Q4_1','Q4_2','Q4_3','Q4_4','Q4_5','Q4_6',\n",
    "                'Q4_7','Q4_8','Q4_9','Q4_10','Q4_10_TEXT']\n",
    "# Handle 499 and 658:\n",
    "\n",
    "pretrain.loc[[499,658],Q4_cols_text] = -999\n",
    "pretrain.loc[[499,658],Q4_cols_text]\n",
    "\n",
    "# Handle just the cols not the text col\n",
    "pretrain[Q4_cols] = pretrain[Q4_cols].fillna(-888)"
   ]
  },
  {
   "cell_type": "code",
   "execution_count": null,
   "id": "d9f98ad6-fb0b-422b-a13d-a7480499801d",
   "metadata": {},
   "outputs": [],
   "source": [
    "# Check to make sure all was added\n",
    "for i in range(10):\n",
    "    pretrain[Q4_cols[i]].value_counts().sum()"
   ]
  },
  {
   "cell_type": "code",
   "execution_count": null,
   "id": "edf0d234-b3ab-4810-958f-8c42cc7f6442",
   "metadata": {
    "tags": []
   },
   "outputs": [],
   "source": [
    "# Handle 'Q4_10_TEXT'\n",
    "pretrain.loc[[499,658],'Q4_10_TEXT']\n",
    "pretrain.loc[pretrain['Q4_10']==1,'Q4_10_TEXT'].shape\n",
    "pretrain.loc[pretrain['Q4_10']==1,'Q4_10_TEXT'].value_counts().sum()\n",
    "pretrain['Q4_10_TEXT'] = pretrain.loc[pretrain['Q4_10']==1,'Q4_10_TEXT'].fillna(-999)\n",
    "pretrain.loc[pretrain['Q4_10']==1,'Q4_10_TEXT'].value_counts().sum()\n",
    "\n",
    "pretrain.loc[pretrain['Q4_10']==-888,'Q4_10_TEXT'] = -888\n",
    "pretrain.loc[[499,658],'Q4_10_TEXT'] = -999"
   ]
  },
  {
   "cell_type": "code",
   "execution_count": null,
   "id": "18048d1f-3a20-4611-8a35-c3801a71c3bd",
   "metadata": {
    "tags": []
   },
   "outputs": [],
   "source": [
    "# Check 2\n",
    "pretrain.loc[[499,658],'Q4_10_TEXT']\n",
    "pretrain.to_csv('check_two.csv',index=False)"
   ]
  },
  {
   "cell_type": "code",
   "execution_count": null,
   "id": "6116ed9c-74bd-4f80-b7c8-69f641d810a2",
   "metadata": {},
   "outputs": [],
   "source": [
    "# Handle Q5\n",
    "pretrain.loc[[499,658],'Q5'] = -999\n",
    "pretrain['Q5'] = pretrain['Q5'].fillna(-888)\n",
    "pretrain['Q5'].value_counts()"
   ]
  },
  {
   "cell_type": "code",
   "execution_count": null,
   "id": "dc208ea1-bef8-42ca-b9e4-3b6d1c07d685",
   "metadata": {},
   "outputs": [],
   "source": [
    "# Handle Q6\n",
    "pretrain.loc[[499,658],'Q6'] = -999\n",
    "pretrain['Q6'] = pretrain['Q6'].fillna(-888)\n",
    "pretrain['Q6'].value_counts()"
   ]
  },
  {
   "cell_type": "code",
   "execution_count": null,
   "id": "9ca0fefd-ec0f-4e65-88b9-2382f085b6e1",
   "metadata": {},
   "outputs": [],
   "source": [
    "# Handle Q7\n",
    "pretrain.loc[[499,658],'Q7'] = -999\n",
    "pretrain['Q7'] = pretrain['Q7'].fillna(-888)\n",
    "pretrain['Q7'].value_counts()"
   ]
  },
  {
   "cell_type": "code",
   "execution_count": null,
   "id": "41a58490-6d07-4de1-a678-7312b93f02c2",
   "metadata": {
    "tags": []
   },
   "outputs": [],
   "source": [
    "# Handle Q8\n",
    "#Let's see if these two have missing values\n",
    "pretrain.loc[[499,658],'Q8'] #only 499 does!\n",
    "\n",
    "pretrain['Q8'].value_counts()\n",
    "pretrain['Q8'] = pretrain['Q8'].fillna(-999)\n",
    "pretrain['Q8'].value_counts()"
   ]
  },
  {
   "cell_type": "code",
   "execution_count": null,
   "id": "631ac2ff-875c-4880-9edf-a5a202abd860",
   "metadata": {},
   "outputs": [],
   "source": [
    "# Handle Q8_333_TEXT\n",
    "\n",
    "pretrain.loc[(pretrain['Q8']==333),'Q8_333_TEXT']\n",
    "pretrain.loc[447,'Q8_333_TEXT'] = -999\n",
    "pretrain.loc[499,'Q8_333_TEXT'] = -999\n",
    "\n",
    "pretrain['Q8_333_TEXT'] = pretrain['Q8_333_TEXT'].fillna(-888)\n",
    "pretrain['Q8_333_TEXT'].value_counts()\n",
    "pretrain['Q8_333_TEXT'].value_counts().sum()"
   ]
  },
  {
   "cell_type": "code",
   "execution_count": null,
   "id": "9bf9f0b9-5cc2-422e-a1e9-3819488fa10b",
   "metadata": {},
   "outputs": [],
   "source": [
    "# Q9: Let's check to see who did not answer the question at all. They\n",
    "# will have a 0 when summing across rows\n",
    "\n",
    "Q9_cols = ['Q9_1', 'Q9_2', 'Q9_3','Q9_4', 'Q9_5', 'Q9_333']\n",
    "Q9 = pretrain.loc[:,Q9_cols]\n",
    "Q9.shape\n",
    "Q9_sum = Q9.sum(axis=1)\n",
    "Q9_sum.value_counts() # There are 24 people with missing values.\n",
    "findzeros = Q9_sum == 0\n",
    "zeroidx = findzeros[findzeros].index.values\n",
    "zeroidx\n"
   ]
  },
  {
   "cell_type": "code",
   "execution_count": null,
   "id": "e11b3dde-0a48-49b7-93c8-ff2ffe087087",
   "metadata": {},
   "outputs": [],
   "source": [
    "#Q9 still - add missing values for those who did not answer \n",
    "#race question\n",
    "pretrain.loc[zeroidx,Q9_cols]=-999"
   ]
  },
  {
   "cell_type": "code",
   "execution_count": null,
   "id": "7f6fc916-7829-4089-a903-370c0eb9aadf",
   "metadata": {},
   "outputs": [],
   "source": [
    "# Now for rest we can fill in 'non applicables'\n",
    "pretrain[Q9_cols]=pretrain[Q9_cols].fillna(-888)\n",
    "pretrain[Q9_cols].info()"
   ]
  },
  {
   "cell_type": "code",
   "execution_count": null,
   "id": "2d2b902e-65e8-4748-8c0d-94cb76c0a16a",
   "metadata": {},
   "outputs": [],
   "source": [
    "# Handle Q9_333_TEXT\n",
    "pretrain.loc[pretrain['Q9_333']==1,'Q9_333_TEXT'] #51 and #672 have\n",
    "# missing values\n",
    "pretrain.loc[[51,672],'Q9_333_TEXT'] = -999\n",
    "pretrain.loc[pretrain['Q9_333']==1,'Q9_333_TEXT']"
   ]
  },
  {
   "cell_type": "code",
   "execution_count": null,
   "id": "848fbb84-1127-4dce-bd92-220ff2192325",
   "metadata": {},
   "outputs": [],
   "source": [
    "# Complete handling Q9_333_TEXT\n",
    "\n",
    "pretrain.loc[zeroidx,'Q9_333_TEXT'] = -999\n",
    "pretrain['Q9_333_TEXT'] = pretrain['Q9_333_TEXT'].fillna(-888)\n",
    "\n",
    "pretrain['Q9_333_TEXT'].value_counts()"
   ]
  },
  {
   "cell_type": "code",
   "execution_count": null,
   "id": "385a3e2c-a1b6-475b-a4f1-f3caaf4fd0a0",
   "metadata": {},
   "outputs": [],
   "source": [
    "# Quick check on above\n",
    "pretrain['Q9_333_TEXT'].value_counts().sum()"
   ]
  },
  {
   "cell_type": "code",
   "execution_count": null,
   "id": "ab70e3fb-3770-4009-b40b-aaa6d4bc0a52",
   "metadata": {},
   "outputs": [],
   "source": [
    "# Handle Q10:\n",
    "pretrain['Q10'].value_counts()\n",
    "pretrain['Q10'] = pretrain['Q10'].fillna(-999)\n",
    "pretrain['Q10'].value_counts()\n",
    "pretrain['Q10'].value_counts().sum()"
   ]
  },
  {
   "cell_type": "code",
   "execution_count": null,
   "id": "3e0bfba7-d6a6-4051-8a4a-8b351b4f489b",
   "metadata": {},
   "outputs": [],
   "source": [
    "# Handle Q11: \n",
    "pretrain['Q11'].value_counts().sum()\n",
    "pretrain['Q11'] = pretrain['Q11'].fillna(-999)\n",
    "pretrain['Q11'].value_counts()\n",
    "pretrain['Q11'].value_counts().sum()"
   ]
  },
  {
   "cell_type": "code",
   "execution_count": null,
   "id": "50e76857-b1fe-4909-a02c-4b75c3e724a1",
   "metadata": {},
   "outputs": [],
   "source": [
    "# Handle Q12:\n",
    "\n",
    "Q12_cols = ['Q12_1','Q12_2', 'Q12_3', 'Q12_333','Q12_333_TEXT']\n",
    "pretrain.loc[(pretrain['Student']==1) & (pretrain['Q3']!=5),Q12_cols]\n",
    "\n",
    "pretrain.loc[[1,499,658,745],Q12_cols] = -999\n",
    "pretrain.loc[[1,499,658,745],Q12_cols]"
   ]
  },
  {
   "cell_type": "code",
   "execution_count": null,
   "id": "083eeaaf-bbc2-4765-a197-7b5defdb394d",
   "metadata": {},
   "outputs": [],
   "source": [
    "# Finish handling Q12\n",
    "pretrain[Q12_cols] = pretrain[Q12_cols].fillna(-888)\n",
    "pretrain.to_csv('check12.csv')"
   ]
  },
  {
   "cell_type": "code",
   "execution_count": null,
   "id": "3bd497bd-491f-4a34-afb4-bd82d6cf5039",
   "metadata": {
    "tags": []
   },
   "outputs": [],
   "source": [
    "# Handle Q13\n",
    "# For Q13 -- pre-mod and mod surveys both have (1-3)\n",
    "\n",
    "Q13_cols_orig = ['Q13_1','Q13_2','Q13_3']\n",
    "\n",
    "pretrain[Q13_cols_orig] = pretrain[Q13_cols_orig].fillna(-999)\n",
    "pretrain[Q13_cols_orig].value_counts()\n",
    "pretrain[Q13_cols_orig].value_counts().sum()\n"
   ]
  },
  {
   "cell_type": "code",
   "execution_count": null,
   "id": "f95d0ed3-d512-4d57-b29a-7ad006ae28ba",
   "metadata": {},
   "outputs": [],
   "source": [
    "# For Q13_4 - only in mod not in pre-mod\n",
    "\n",
    "# For pre-mod participants, we need to add not applicable values - '-888'\n",
    "\n",
    "pretrain.loc[(pretrain['Survey_Type']==0),'Q13_4'] = -888\n",
    "pretrain.loc[(pretrain['Survey_Type']==0),'Q13_4'].value_counts()\n",
    "\n",
    "pretrain['Q13_4'] = pretrain['Q13_4'].fillna(-999)\n",
    "pretrain['Q13_4'].value_counts()"
   ]
  },
  {
   "cell_type": "code",
   "execution_count": null,
   "id": "3f39e2fa-7685-4db8-aafe-ba220e32f285",
   "metadata": {},
   "outputs": [],
   "source": [
    "# For Q14:\n",
    "\n",
    "Q14_cols = ['Q14_1','Q14_2','Q14_3','Q14_4']\n",
    "pretrain[Q14_cols].isnull().value_counts()\n",
    "\n",
    "pretrain[Q14_cols] = pretrain[Q14_cols].fillna(-999)\n",
    "#pretrain['Q14_2'].value_counts()"
   ]
  },
  {
   "cell_type": "code",
   "execution_count": null,
   "id": "d57d3ff4-d580-4e79-b67f-799a0194fe65",
   "metadata": {},
   "outputs": [],
   "source": [
    "# Handle Q15:\n",
    "\n",
    "Q15_cols = ['Q15_1','Q15_2','Q15_3','Q15_4']\n",
    "pretrain[Q15_cols].isnull().value_counts()\n",
    "pretrain[Q15_cols] = pretrain[Q15_cols].fillna(-999)\n",
    "pretrain[Q15_cols].isnull().value_counts()"
   ]
  },
  {
   "cell_type": "code",
   "execution_count": null,
   "id": "42a8d669-2d0c-48cf-bac3-3175fc46686f",
   "metadata": {},
   "outputs": [],
   "source": [
    "# Check Q15\n",
    "#pretrain[Q15_cols].to_csv('check15.csv',index=False)"
   ]
  },
  {
   "cell_type": "code",
   "execution_count": null,
   "id": "f762de17-d21f-4c35-b061-cdb850d7f161",
   "metadata": {},
   "outputs": [],
   "source": [
    "# For Q16: 499 and 737 are missing values\n",
    "\n",
    "pretrain['Q16'].isnull().value_counts()\n",
    "\n",
    "pretrain.loc[499,'Q16'] = -999\n",
    "pretrain.loc[737,'Q16'] = -999\n",
    "\n",
    "pretrain['Q16'].value_counts()"
   ]
  },
  {
   "cell_type": "code",
   "execution_count": null,
   "id": "af6c9f1f-705c-4f30-8510-659fe2fbe7e2",
   "metadata": {},
   "outputs": [],
   "source": [
    "# For Q17 --\n",
    "\n",
    "# Let's find how many actual missing values there are in Q17\n",
    "Q17_cols = ['Q17_1','Q17_2','Q17_3','Q17_4','Q17_333']\n",
    "Q17_cols_text = ['Q17_1','Q17_2','Q17_3','Q17_4','Q17_333','Q17_333_TEXT']\n",
    "check_17 = pretrain.loc[(pretrain['Q16']==1),Q17_cols].sum(axis=1)\n",
    "check_17.value_counts().sum()\n",
    "\n",
    "pretrain[Q17_cols_text] = pretrain.loc[(pretrain['Q16']==1),Q17_cols_text].fillna(-888)\n",
    "\n",
    "# Let's denote the missing values for those who did not answer Q16\n",
    "pretrain.loc[499,Q17_cols_text] = -999\n",
    "pretrain.loc[737,Q17_cols_text] = -999\n",
    "\n",
    "# Now for the rest of the people (the one who said 0) let's add not applicable values\n",
    "\n",
    "pretrain[Q17_cols_text] = pretrain[Q17_cols_text].fillna(-888)"
   ]
  },
  {
   "cell_type": "code",
   "execution_count": null,
   "id": "009caec1-9c6e-4ab8-be26-3ec8d100cfee",
   "metadata": {},
   "outputs": [],
   "source": [
    "#Check 17\n",
    "#pretrain.to_csv('check17.csv',index=False)"
   ]
  },
  {
   "cell_type": "code",
   "execution_count": null,
   "id": "a0de1642-91fe-4951-991e-6fe1f4ee875e",
   "metadata": {},
   "outputs": [],
   "source": [
    "# For Q18: \n",
    "\n",
    "pretrain.loc[(pretrain['Q16']==0),'Q18'].shape\n",
    "pretrain.loc[499,'Q18'] = -999\n",
    "pretrain.loc[737,'Q18'] = -999\n",
    "pretrain.loc[(pretrain['Q16']==-999),'Q18'].value_counts()\n",
    "\n",
    "pretrain['Q18'] = pretrain['Q18'].fillna(-888)\n",
    "pretrain['Q18'].value_counts()"
   ]
  },
  {
   "cell_type": "code",
   "execution_count": null,
   "id": "5527ee02-e4df-4c14-8aa8-40546fab9cdd",
   "metadata": {},
   "outputs": [],
   "source": [
    "# Check Q18\n",
    "pretrain['Q18'].value_counts().sum()\n",
    "pretrain.loc[(pretrain['Q16']==1),'Q18'].shape"
   ]
  },
  {
   "cell_type": "code",
   "execution_count": null,
   "id": "40a18f7b-4eab-4766-82e0-1a737267b7ce",
   "metadata": {},
   "outputs": [],
   "source": [
    "# For Q19: Q19 and Q19_1_TEXT\n",
    "\n",
    "pretrain['Q19'].value_counts()\n",
    "pretrain['Q19'] = pretrain['Q19'].fillna(-999)\n",
    "pretrain['Q19'].value_counts()\n",
    "pretrain['Q19_1_TEXT'].value_counts().sum() #we see that one item is missing\n",
    "\n",
    "pretrain.loc[277,'Q19_1_TEXT'] = -999\n",
    "pretrain.loc[(pretrain['Q19']== 0),'Q19_1_TEXT'] = -888\n",
    "pretrain.loc[(pretrain['Q19']== -999),'Q19_1_TEXT'] = -999"
   ]
  },
  {
   "cell_type": "code",
   "execution_count": null,
   "id": "84417316-2ae7-400a-8adf-527e810aa7c0",
   "metadata": {},
   "outputs": [],
   "source": [
    "# Check Q19_1_TEXT:\n",
    "pretrain['Q19_1_TEXT'].value_counts().sum()\n",
    "pretrain['Q19'].value_counts()\n",
    "pretrain[['Q19','Q19_1_TEXT']].to_csv('check19.csv',index=False)"
   ]
  },
  {
   "cell_type": "code",
   "execution_count": null,
   "id": "5a468f9c-e415-4760-b25d-c161876ab8a7",
   "metadata": {},
   "outputs": [],
   "source": [
    "# For Q20:\n",
    "\n",
    "pretrain['Q20'].value_counts()\n",
    "pretrain['Q20'] = pretrain['Q20'].fillna(-999)\n",
    "pretrain['Q20'].value_counts()\n",
    "\n",
    "pretrain.loc[(pretrain['Q20']==1),'Q20_1_TEXT'].value_counts().sum()\n",
    "pretrain.loc[730,'Q20_1_TEXT'] = -999\n",
    "pretrain.loc[(pretrain['Q20']==1),'Q20_1_TEXT'].value_counts().sum()"
   ]
  },
  {
   "cell_type": "code",
   "execution_count": null,
   "id": "3612cb2b-c4e2-4da4-95d4-585b8b420b07",
   "metadata": {},
   "outputs": [],
   "source": [
    "pretrain.loc[(pretrain['Q20']==0),'Q20_1_TEXT'] = -888\n",
    "pretrain.loc[(pretrain['Q20']==-999),'Q20_1_TEXT'] = -999"
   ]
  },
  {
   "cell_type": "code",
   "execution_count": null,
   "id": "87239495-557c-4794-82be-6bf3775404e5",
   "metadata": {},
   "outputs": [],
   "source": [
    "pretrain['Q20'].value_counts()\n",
    "pretrain['Q20_1_TEXT'].value_counts().sum()"
   ]
  },
  {
   "cell_type": "code",
   "execution_count": null,
   "id": "1e2ea6da-8acc-46ad-8841-bead659c7791",
   "metadata": {},
   "outputs": [],
   "source": [
    "# For Q21:\n",
    "\n",
    "pretrain['Q21'].value_counts()\n",
    "pretrain['Q21'] = pretrain['Q21'].fillna(-999)\n",
    "pretrain['Q21'].value_counts()\n",
    "\n",
    "pretrain.loc[(pretrain['Q21']==1),'Q21_1_TEXT'].value_counts().sum()\n",
    "\n",
    "#184,235,277,665 missing text values when they should have one\n",
    "\n",
    "pretrain.loc[184,'Q21_1_TEXT'] = -999\n",
    "pretrain.loc[235,'Q21_1_TEXT'] = -999\n",
    "pretrain.loc[277,'Q21_1_TEXT'] = -999\n",
    "pretrain.loc[665,'Q21_1_TEXT'] = -999\n",
    "\n",
    "pretrain.loc[(pretrain['Q21']==0),'Q21_1_TEXT'] = -888\n",
    "pretrain.loc[(pretrain['Q21']==-999),'Q21_1_TEXT'] = -999"
   ]
  },
  {
   "cell_type": "code",
   "execution_count": null,
   "id": "bfaa0835-959a-4e81-94c5-b91f1279cf52",
   "metadata": {},
   "outputs": [],
   "source": [
    "# For Q22: (if Q21 = 1, then Q22 should be answered)\n",
    "Q22_cols_text = ['Q22_1','Q22_2','Q22_3','Q22_333','Q22_333_TEXT']\n",
    "Q22_cols = ['Q22_1','Q22_2','Q22_3','Q22_333']\n",
    "pretrain.loc[(pretrain['Q21']==0),Q22_cols_text] = -888\n",
    "pretrain.loc[(pretrain['Q21']==0),Q22_cols_text].value_counts()\n",
    "\n",
    "pretrain.loc[(pretrain['Q21']==-999),Q22_cols_text] = -999\n",
    "pretrain.loc[(pretrain['Q21']==-999),Q22_cols_text].value_counts()\n",
    "\n",
    "pretrain.loc[(pretrain['Q21']==1),Q22_cols].sum(axis=1).value_counts()\n",
    "#pretrain.loc[(pretrain['Q21']==1),Q22_cols].sum(axis=1).to_csv('q22.csv') #355 missing\n",
    "\n",
    "pretrain.loc[355,Q22_cols_text] = -999\n",
    "\n",
    "pretrain[Q22_cols_text] = pretrain[Q22_cols_text].fillna(-888)\n"
   ]
  },
  {
   "cell_type": "code",
   "execution_count": null,
   "id": "5cf83817-1388-41c5-870a-36896924e9de",
   "metadata": {},
   "outputs": [],
   "source": [
    "# For Q23:\n",
    "\n",
    "pretrain['Q23'].value_counts()\n",
    "pretrain['Q23'] = pretrain['Q23'].fillna(-999)\n",
    "pretrain['Q23'].value_counts()\n",
    "pretrain['Q23'].value_counts().sum()\n",
    "\n",
    "pretrain.loc[(pretrain['Q23']==0),'Q23_1_TEXT'] = -888\n",
    "pretrain.loc[(pretrain['Q23']== -999),'Q23_1_TEXT'] = -999\n",
    "\n",
    "#pretrain.loc[(pretrain['Q23']==1),'Q23_1_TEXT'].to_csv('23.csv') -- to find missing text strings\n",
    "\n",
    "pretrain.loc[235,'Q23_1_TEXT'] = -999\n",
    "pretrain.loc[277,'Q23_1_TEXT'] = -999\n",
    "pretrain.loc[414,'Q23_1_TEXT'] = -999\n",
    "pretrain.loc[573,'Q23_1_TEXT'] = -999\n",
    "pretrain.loc[665,'Q23_1_TEXT'] = -999\n",
    "pretrain.loc[668,'Q23_1_TEXT'] = -999\n",
    "\n",
    "pretrain['Q23_1_TEXT'].value_counts().sum()"
   ]
  },
  {
   "cell_type": "code",
   "execution_count": null,
   "id": "07b082f6-5677-4013-b92a-6e622f8472a1",
   "metadata": {},
   "outputs": [],
   "source": [
    "# For Q24: (if Q23 = 1, then Q24 should be answered)\n",
    "Q24_cols_text = ['Q24_1','Q24_2','Q24_3','Q24_333','Q24_333_TEXT']\n",
    "Q24_cols = ['Q24_1','Q24_2','Q24_3','Q24_333']\n",
    "pretrain.loc[(pretrain['Q23']==0),Q24_cols_text] = -888\n",
    "pretrain.loc[(pretrain['Q23']==0),Q24_cols_text].value_counts()\n",
    "\n",
    "pretrain.loc[(pretrain['Q23']==-999),Q24_cols_text] = -999\n",
    "pretrain.loc[(pretrain['Q23']==-999),Q24_cols_text].value_counts()\n",
    "\n",
    "pretrain.loc[(pretrain['Q23']==1),Q24_cols].sum(axis=1).value_counts().sum() # all people who said yes to 23 answered 24\n",
    "#pretrain.loc[(pretrain['Q24_333']==1),'Q24_333_TEXT']\n",
    "\n",
    "# add in missing values for those who did not provide a text string when required - 426, 741\n",
    "pretrain.loc[426,'Q24_333_TEXT'] = -999\n",
    "pretrain.loc[741,'Q24_333_TEXT'] = -999\n",
    "\n",
    "pretrain.loc[(pretrain['Q24_333']==1),'Q24_333_TEXT']\n",
    "\n",
    "pretrain[Q24_cols_text] = pretrain[Q24_cols_text].fillna(-888)"
   ]
  },
  {
   "cell_type": "code",
   "execution_count": null,
   "id": "1f7e0e6e-3c04-42f8-8445-957a1be87016",
   "metadata": {},
   "outputs": [],
   "source": [
    "# CHECK @ 24\n",
    "\n",
    "pretrain.to_csv('check24.csv',index=False)"
   ]
  },
  {
   "cell_type": "code",
   "execution_count": null,
   "id": "2bcc3369-f04a-4141-85b5-e8bb52c60249",
   "metadata": {},
   "outputs": [],
   "source": [
    "# For Q25:\n",
    "\n",
    "Q25_cols = ['Q25_1', 'Q25_2','Q25_3', 'Q25_4', 'Q25_5', 'Q25_6']\n",
    "\n",
    "pretrain[Q25_cols].sum(axis=1).value_counts()\n",
    "\n",
    "idx25 = [0,1,2,3,4,5]\n",
    "\n",
    "for i in idx25:\n",
    "    pretrain[Q25_cols[i]].value_counts().sum()\n",
    "    pretrain[Q25_cols[i]] =  pretrain[Q25_cols[i]].fillna(-999)\n",
    "    pretrain[Q25_cols[i]].value_counts()"
   ]
  },
  {
   "cell_type": "code",
   "execution_count": null,
   "id": "b73ab302-cd50-4875-b433-5f1a0d5f6be0",
   "metadata": {},
   "outputs": [],
   "source": [
    "# For Q26\n",
    "\n",
    "pretrain['Q26'].value_counts()\n",
    "pretrain['Q26'] = pretrain['Q26'].fillna(-999)\n",
    "pretrain['Q26'].value_counts()\n",
    "pretrain['Q26'].value_counts().sum()"
   ]
  },
  {
   "cell_type": "code",
   "execution_count": null,
   "id": "58192c6c-ac20-447d-a56c-a90f90010c9d",
   "metadata": {},
   "outputs": [],
   "source": [
    "# For Q27:\n",
    "\n",
    "Q27_cols = ['Q27_1', 'Q27_2','Q27_3', 'Q27_4', 'Q27_5', 'Q27_6']\n",
    "\n",
    "pretrain[Q27_cols].sum(axis=1).value_counts()\n",
    "\n",
    "idx27 = [0,1,2,3,4,5]\n",
    "\n",
    "for j in idx27:\n",
    "    pretrain[Q27_cols[j]].value_counts().sum()\n",
    "    pretrain[Q27_cols[j]] =  pretrain[Q27_cols[j]].fillna(-999)\n",
    "    pretrain[Q27_cols[j]].value_counts()"
   ]
  },
  {
   "cell_type": "code",
   "execution_count": null,
   "id": "eef39293-b02a-4507-b0ed-66f0ca99cf47",
   "metadata": {},
   "outputs": [],
   "source": [
    "# For Q28:\n",
    "\n",
    "Q28_cols = ['Q28_1','Q28_2','Q28_3','Q28_4','Q28_5','Q28_6','Q28_7','Q28_8']\n",
    "\n",
    "# For the mods that never had Q28_2 or Q28_3\n",
    "\n",
    "pretrain.loc[(pretrain['Survey_Type']==1),['Q28_2','Q28_3']] = -888\n",
    "pretrain.loc[(pretrain['Survey_Type']==1),['Q28_2','Q28_3']].value_counts()\n",
    "\n",
    "\n",
    "pretrain[Q28_cols] = pretrain[Q28_cols].fillna(-999)\n"
   ]
  },
  {
   "cell_type": "code",
   "execution_count": null,
   "id": "fd3c7ce0-db77-488c-b605-c9a71c3d0859",
   "metadata": {},
   "outputs": [],
   "source": [
    "# For Q29:\n",
    "\n",
    "Q29_cols = ['Q29_1', 'Q29_2','Q29_3', 'Q29_4', 'Q29_5', 'Q29_6', 'Q29_7', 'Q29_8']\n",
    "\n",
    "pretrain[Q29_cols].isnull().sum()\n",
    "\n",
    "pretrain[Q29_cols] = pretrain[Q29_cols].fillna(-999)\n",
    "\n",
    "pretrain[Q29_cols].isnull().sum()"
   ]
  },
  {
   "cell_type": "code",
   "execution_count": null,
   "id": "5cc7ade5-f317-45c3-93c2-4de4995138a4",
   "metadata": {},
   "outputs": [],
   "source": [
    "# For Q30\n",
    "\n",
    "Q30_cols = ['Q30_1','Q30_2', 'Q30_3', 'Q30_4', 'Q30_5', 'Q30_6', 'Q30_7', 'Q30_8','Q30_9', 'Q30_10']\n",
    "pretrain[Q30_cols].isnull().sum()\n",
    "\n",
    "pretrain.loc[(pretrain['Survey_Type']==1),'Q30_8'] = -888\n",
    "\n",
    "pretrain[Q30_cols] = pretrain[Q30_cols].fillna(-999)\n",
    "pretrain[Q30_cols].isnull().sum()\n"
   ]
  },
  {
   "cell_type": "code",
   "execution_count": null,
   "id": "61640c87-b397-4a8f-8fd5-776e481a17be",
   "metadata": {},
   "outputs": [],
   "source": [
    "rest_of_cols = ['Q34_1', 'Q34_2', 'Q34_3','Q34_4', 'Q34_5', 'Q34_6', 'Q34_7', 'Q35_1', 'Q35_2', 'Q35_3',\n",
    "                'Q35_4', 'Q35_5', 'Q35_6', 'Q35_7', 'Q35_8', 'Q35_9', 'Q35_10',\n",
    "       'Q36', 'Q37', 'Q38', 'Q39', 'Q40', 'Q41', 'Q42', 'Q43']"
   ]
  },
  {
   "cell_type": "code",
   "execution_count": null,
   "id": "3423e160-6f5e-46c4-8e1e-db8b4de6c9cb",
   "metadata": {},
   "outputs": [],
   "source": [
    "rest_of_cols"
   ]
  },
  {
   "cell_type": "code",
   "execution_count": null,
   "id": "efcbf970-f68f-48c5-9062-eaa0d742fbcc",
   "metadata": {},
   "outputs": [],
   "source": [
    "pretrain.loc[pretrain['Survey_Type']==0,rest_of_cols] = -888\n",
    "pretrain.loc[pretrain['Survey_Type']==0,rest_of_cols].value_counts()\n",
    "\n",
    "pretrain[rest_of_cols] = pretrain[rest_of_cols].fillna(-999)"
   ]
  },
  {
   "cell_type": "code",
   "execution_count": null,
   "id": "67e5cca1-901c-4f2f-920a-f513ceb9b648",
   "metadata": {},
   "outputs": [],
   "source": [
    "# For Q31 (only in pre-mod pretraining):\n",
    "\n",
    "Q31_cols = ['Q31_1','Q31_2','Q31_3','Q31_4']\n",
    "\n",
    "pretrain.loc[pretrain['Survey_Type']==0,:].shape\n",
    "pretrain.loc[pretrain['Survey_Type']==0,'Q31_1'].value_counts().sum()\n",
    "pretrain.loc[pretrain['Survey_Type']==0,'Q31_2'].value_counts().sum()\n",
    "pretrain.loc[pretrain['Survey_Type']==0,'Q31_3'].value_counts().sum()\n",
    "pretrain.loc[pretrain['Survey_Type']==0,'Q31_4'].value_counts().sum()\n",
    "\n",
    "# Based off the above it looks like everyone who was supposed to answer Q31 did\n",
    "\n",
    "pretrain.loc[pretrain['Survey_Type']==1,Q31_cols].value_counts()\n",
    "\n",
    "pretrain.loc[pretrain['Survey_Type']==1,Q31_cols] = -888\n",
    "\n",
    "pretrain.loc[pretrain['Survey_Type']==1,Q31_cols].value_counts()"
   ]
  },
  {
   "cell_type": "code",
   "execution_count": null,
   "id": "a99c5b5d-90b9-4a55-8cfd-35f04b371daf",
   "metadata": {},
   "outputs": [],
   "source": [
    "# For Q32: Everyone should've answered this regardless of survey type\n",
    "\n",
    "Q32_cols = ['Q32_1','Q32_2','Q32_3','Q32_4']\n",
    "\n",
    "pretrain.loc[:,'Q32_1'].value_counts().sum()\n",
    "pretrain.loc[:,'Q32_2'].value_counts().sum()\n",
    "pretrain.loc[:,'Q32_3'].value_counts().sum()\n",
    "pretrain.loc[:,'Q32_4'].value_counts().sum()\n",
    "\n",
    "pretrain[Q32_cols] = pretrain[Q32_cols].fillna(-999)"
   ]
  },
  {
   "cell_type": "code",
   "execution_count": null,
   "id": "d64f9860-e61f-4ab8-8a2f-ae3a74641b24",
   "metadata": {},
   "outputs": [],
   "source": [
    "# For Q33 [premodified has 1-8; modified has 1,3,7 only]\n",
    "\n",
    "pretrain.loc[pretrain['Survey_Type']==0,:].shape\n",
    "pretrain.loc[pretrain['Survey_Type']==1,:].shape"
   ]
  },
  {
   "cell_type": "code",
   "execution_count": null,
   "id": "4877c7dc-c7a2-4352-bdef-ec34b0fcba42",
   "metadata": {},
   "outputs": [],
   "source": [
    "Q33_cols_all = ['Q33_1','Q33_2','Q33_3','Q33_4','Q33_5','Q33_6','Q33_7','Q33_8']\n",
    "\n",
    "for i in range(8):\n",
    "    pretrain.loc[pretrain['Survey_Type']==0,Q33_cols_all[i]].value_counts().sum()"
   ]
  },
  {
   "cell_type": "code",
   "execution_count": null,
   "id": "67338890-b2c9-472c-96d5-b35515a88a8f",
   "metadata": {},
   "outputs": [],
   "source": [
    "pretrain.loc[88,'Q33_5'] = -999\n",
    "pretrain.loc[16,'Q33_8'] = -999"
   ]
  },
  {
   "cell_type": "code",
   "execution_count": null,
   "id": "7aa822b1-5f14-4655-a0e6-9714166cf022",
   "metadata": {},
   "outputs": [],
   "source": [
    "for i in range(8):\n",
    "    pretrain.loc[pretrain['Survey_Type']==0,Q33_cols_all[i]].value_counts().sum()"
   ]
  },
  {
   "cell_type": "code",
   "execution_count": null,
   "id": "e11aea9f-9caa-4a3b-ab9d-e838afc17ffd",
   "metadata": {},
   "outputs": [],
   "source": [
    "Q33_cols_not_in_mod = ['Q33_2','Q33_4','Q33_5','Q33_6','Q33_8']\n",
    "\n",
    "pretrain.loc[pretrain['Survey_Type']==1,Q33_cols_not_in_mod] = -888"
   ]
  },
  {
   "cell_type": "code",
   "execution_count": null,
   "id": "47239f69-8b99-460a-849a-56706184ee30",
   "metadata": {},
   "outputs": [],
   "source": [
    "Q33_cols_in_mod = ['Q33_1','Q33_3','Q33_7']\n",
    "pretrain.loc[pretrain['Survey_Type']==1,'Q33_1'].value_counts().sum()\n",
    "pretrain.loc[pretrain['Survey_Type']==1,'Q33_3'].value_counts().sum()\n",
    "pretrain.loc[pretrain['Survey_Type']==1,'Q33_7'].value_counts().sum()"
   ]
  },
  {
   "cell_type": "code",
   "execution_count": null,
   "id": "76496fc6-676c-4978-bef8-e505f20eea55",
   "metadata": {},
   "outputs": [],
   "source": [
    "pretrain[Q33_cols_in_mod] = pretrain[Q33_cols_in_mod].fillna(-999)"
   ]
  },
  {
   "cell_type": "code",
   "execution_count": null,
   "id": "c04fdaa2-94a4-41ed-8f92-f8378e65253f",
   "metadata": {},
   "outputs": [],
   "source": [
    "pretrain.info(verbose=True,show_counts=True)"
   ]
  },
  {
   "cell_type": "code",
   "execution_count": null,
   "id": "b25a9027-7ab8-4dec-920f-e459a581c912",
   "metadata": {},
   "outputs": [],
   "source": [
    "#pretrain.to_csv('pretrain_mv_handled_v1.csv',index=False)"
   ]
  },
  {
   "cell_type": "code",
   "execution_count": null,
   "id": "3f51ed64-f02b-40e3-8f45-95236a82a88c",
   "metadata": {},
   "outputs": [],
   "source": [
    "pretrain.to_csv('pretraining_mv_handled.csv',index=False)"
   ]
  }
 ],
 "metadata": {
  "kernelspec": {
   "display_name": "Python 3",
   "language": "python",
   "name": "python3"
  },
  "language_info": {
   "codemirror_mode": {
    "name": "ipython",
    "version": 3
   },
   "file_extension": ".py",
   "mimetype": "text/x-python",
   "name": "python",
   "nbconvert_exporter": "python",
   "pygments_lexer": "ipython3",
   "version": "3.8.8"
  }
 },
 "nbformat": 4,
 "nbformat_minor": 5
}
